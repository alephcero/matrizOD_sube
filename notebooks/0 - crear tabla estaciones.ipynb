{
 "cells": [
  {
   "cell_type": "code",
   "execution_count": 1,
   "metadata": {},
   "outputs": [],
   "source": [
    "import geopandas as gpd\n",
    "import pandas as pd\n",
    "from h3 import h3\n",
    "from sqlalchemy import create_engine\n",
    "from shapely.geometry import Polygon, Point\n",
    "import numpy as np\n",
    "import psycopg2"
   ]
  },
  {
   "cell_type": "code",
   "execution_count": 2,
   "metadata": {},
   "outputs": [],
   "source": [
    "def h3_from_row(row,res,x,y):\n",
    "    '''\n",
    "    Esta funcion toma una fila, un nivel de resolucion de h3\n",
    "    y los nombres que contienen las coordenadas xy\n",
    "    y devuelve un id de indice h3\n",
    "    '''\n",
    "    return h3.geo_to_h3(row[y],row[x],res = res)\n",
    "\n",
    "def h3_indexing(df,res_list,lat='latitude',lon='longitude'):\n",
    "    \"\"\"\n",
    "    Esta funcion toma una tabla con dos pares de coordenadas para origen y destino\n",
    "    Un nivel de resolucion h3\n",
    "    y devuelve la tabla con los ids de h3\n",
    "    \"\"\"\n",
    "    \n",
    "    if len(res_list) == 1:\n",
    "        res_list.append(res_list[0])\n",
    "        \n",
    "    for res in range(res_list[0],res_list[1] + 1):\n",
    "        df['h3_res_' + str(res)] = df.apply(h3_from_row, axis=1, args=[res,lon,lat])\n",
    "\n",
    "    return df\n",
    "\n",
    "def vertices_cada_Xmetros(geom,metros):\n",
    "    n_puntos = int((geom.length/metros)+1)\n",
    "    percentiles = np.linspace(0,geom.length,n_puntos)\n",
    "    return [geom.interpolate(percentil,normalized=False) for percentil in percentiles]\n",
    "\n",
    "def convertir_recorridos_buses_paradas(fila,metros=400):\n",
    "    paradas = vertices_cada_Xmetros(fila.geometry,metros = metros)\n",
    "    paradas = gpd.GeoSeries(paradas).map(lambda g: Point(g.coords[0][0:2]))\n",
    "    crs = 'EPSG:3857'\n",
    "    gdf = gpd.GeoDataFrame(np.repeat(fila.linea,len(paradas)),crs=crs,geometry=paradas)\n",
    "    gdf.columns=['linea','geometry']\n",
    "    return gdf"
   ]
  },
  {
   "cell_type": "code",
   "execution_count": 3,
   "metadata": {},
   "outputs": [],
   "source": [
    "DB_USERNAME = 'sube_user'\n",
    "DB_PASSWORD = 'sube_pass'\n",
    "DB_HOST = 'localhost'\n",
    "DB_PORT = '5432'\n",
    "DB_NAME = 'sube'\n",
    "DB_SCHEMA = 'public'"
   ]
  },
  {
   "cell_type": "code",
   "execution_count": 4,
   "metadata": {},
   "outputs": [],
   "source": [
    "# Conectar a la db\n",
    "conn = psycopg2.connect(user = DB_USERNAME,\n",
    "                                      password = DB_PASSWORD,\n",
    "                                      host = DB_HOST,\n",
    "                                      port = DB_PORT,\n",
    "                                      database = DB_NAME)"
   ]
  },
  {
   "cell_type": "code",
   "execution_count": 5,
   "metadata": {},
   "outputs": [],
   "source": [
    "# traer modos\n",
    "sql = \"\"\"\n",
    "select distinct t.\"LINEA\"\n",
    "from public.trx t\n",
    "where t.\"MEDIO\" = 'SUB'\n",
    "\"\"\"\n",
    "lineas_subte_trx = pd.read_sql(sql, conn)"
   ]
  },
  {
   "cell_type": "code",
   "execution_count": 6,
   "metadata": {},
   "outputs": [
    {
     "data": {
      "text/html": [
       "<div>\n",
       "<style scoped>\n",
       "    .dataframe tbody tr th:only-of-type {\n",
       "        vertical-align: middle;\n",
       "    }\n",
       "\n",
       "    .dataframe tbody tr th {\n",
       "        vertical-align: top;\n",
       "    }\n",
       "\n",
       "    .dataframe thead th {\n",
       "        text-align: right;\n",
       "    }\n",
       "</style>\n",
       "<table border=\"1\" class=\"dataframe\">\n",
       "  <thead>\n",
       "    <tr style=\"text-align: right;\">\n",
       "      <th></th>\n",
       "      <th>LINEA</th>\n",
       "    </tr>\n",
       "  </thead>\n",
       "  <tbody>\n",
       "    <tr>\n",
       "      <th>0</th>\n",
       "      <td>LINEA A</td>\n",
       "    </tr>\n",
       "    <tr>\n",
       "      <th>1</th>\n",
       "      <td>LINEA E</td>\n",
       "    </tr>\n",
       "    <tr>\n",
       "      <th>2</th>\n",
       "      <td>LINEA C</td>\n",
       "    </tr>\n",
       "    <tr>\n",
       "      <th>3</th>\n",
       "      <td>SUBTE</td>\n",
       "    </tr>\n",
       "    <tr>\n",
       "      <th>4</th>\n",
       "      <td>LINEA D</td>\n",
       "    </tr>\n",
       "    <tr>\n",
       "      <th>5</th>\n",
       "      <td>LINEA H</td>\n",
       "    </tr>\n",
       "    <tr>\n",
       "      <th>6</th>\n",
       "      <td>LINEA PREMETRO</td>\n",
       "    </tr>\n",
       "    <tr>\n",
       "      <th>7</th>\n",
       "      <td>LINEA B</td>\n",
       "    </tr>\n",
       "  </tbody>\n",
       "</table>\n",
       "</div>"
      ],
      "text/plain": [
       "            LINEA\n",
       "0         LINEA A\n",
       "1         LINEA E\n",
       "2         LINEA C\n",
       "3           SUBTE\n",
       "4         LINEA D\n",
       "5         LINEA H\n",
       "6  LINEA PREMETRO\n",
       "7         LINEA B"
      ]
     },
     "execution_count": 6,
     "metadata": {},
     "output_type": "execute_result"
    }
   ],
   "source": [
    "lineas_subte_trx"
   ]
  },
  {
   "cell_type": "code",
   "execution_count": 7,
   "metadata": {},
   "outputs": [
    {
     "data": {
      "text/html": [
       "<div>\n",
       "<style scoped>\n",
       "    .dataframe tbody tr th:only-of-type {\n",
       "        vertical-align: middle;\n",
       "    }\n",
       "\n",
       "    .dataframe tbody tr th {\n",
       "        vertical-align: top;\n",
       "    }\n",
       "\n",
       "    .dataframe thead th {\n",
       "        text-align: right;\n",
       "    }\n",
       "</style>\n",
       "<table border=\"1\" class=\"dataframe\">\n",
       "  <thead>\n",
       "    <tr style=\"text-align: right;\">\n",
       "      <th></th>\n",
       "      <th>long</th>\n",
       "      <th>lat</th>\n",
       "      <th>id</th>\n",
       "      <th>linea</th>\n",
       "      <th>nombre</th>\n",
       "    </tr>\n",
       "  </thead>\n",
       "  <tbody>\n",
       "    <tr>\n",
       "      <th>0</th>\n",
       "      <td>-58.461491</td>\n",
       "      <td>-34.643757</td>\n",
       "      <td>1</td>\n",
       "      <td>PREMETRO</td>\n",
       "      <td>INTENDENTE SAGUIER</td>\n",
       "    </tr>\n",
       "    <tr>\n",
       "      <th>1</th>\n",
       "      <td>-58.456415</td>\n",
       "      <td>-34.648601</td>\n",
       "      <td>2</td>\n",
       "      <td>PREMETRO</td>\n",
       "      <td>BALBASTRO (Cementerio de Flores)</td>\n",
       "    </tr>\n",
       "    <tr>\n",
       "      <th>2</th>\n",
       "      <td>-58.450047</td>\n",
       "      <td>-34.659499</td>\n",
       "      <td>3</td>\n",
       "      <td>PREMETRO</td>\n",
       "      <td>ANA MARÍA JANER</td>\n",
       "    </tr>\n",
       "    <tr>\n",
       "      <th>3</th>\n",
       "      <td>-58.446607</td>\n",
       "      <td>-34.662225</td>\n",
       "      <td>4</td>\n",
       "      <td>PREMETRO</td>\n",
       "      <td>FERNANDEZ DE LA CRUZ</td>\n",
       "    </tr>\n",
       "    <tr>\n",
       "      <th>4</th>\n",
       "      <td>-58.448513</td>\n",
       "      <td>-34.665368</td>\n",
       "      <td>5</td>\n",
       "      <td>PREMETRO</td>\n",
       "      <td>PTE. ILLIA (Lacarra)</td>\n",
       "    </tr>\n",
       "  </tbody>\n",
       "</table>\n",
       "</div>"
      ],
      "text/plain": [
       "        long        lat  id     linea                            nombre\n",
       "0 -58.461491 -34.643757   1  PREMETRO                INTENDENTE SAGUIER\n",
       "1 -58.456415 -34.648601   2  PREMETRO  BALBASTRO (Cementerio de Flores)\n",
       "2 -58.450047 -34.659499   3  PREMETRO                   ANA MARÍA JANER\n",
       "3 -58.446607 -34.662225   4  PREMETRO              FERNANDEZ DE LA CRUZ\n",
       "4 -58.448513 -34.665368   5  PREMETRO              PTE. ILLIA (Lacarra)"
      ]
     },
     "execution_count": 7,
     "metadata": {},
     "output_type": "execute_result"
    }
   ],
   "source": [
    "premetro = pd.read_csv('../carto/insumos/estaciones-premetro.csv')\n",
    "premetro.head()"
   ]
  },
  {
   "cell_type": "code",
   "execution_count": 8,
   "metadata": {},
   "outputs": [],
   "source": [
    "subte = gpd.read_file('../carto/insumos/subterraneo-estaciones')\n",
    "subte['nombre'] = subte['ESTACION'] + ' | Linea ' + subte.LINEA\n",
    "subte = subte.reindex(columns = ['LINEA','nombre','geometry'])\n",
    "subte.columns = ['linea','nombre','geometry']\n",
    "\n",
    "premetro = pd.read_csv('../carto/insumos/estaciones-premetro.csv')\n",
    "premetro = gpd.GeoDataFrame(\n",
    "    premetro, geometry=gpd.points_from_xy(premetro['long'], premetro.lat),crs='EPSG:4326')\n",
    "premetro['nombre'] = premetro['nombre'] + ' | Linea ' + premetro.linea\n",
    "premetro = premetro.reindex(columns = ['linea','nombre','geometry'])\n",
    "premetro.columns = ['linea','nombre','geometry']\n",
    "\n",
    "subte = pd.concat([subte,premetro])\n",
    "subte['modo'] = 'SUB'\n",
    "#todas las lineas de subte se van a llamar subte porque puedo tener cualquier estacion como destino\n",
    "#, sin importar la linea. A los efectos del algoritmo, el SUBTE es una unica linea\n",
    "subte['linea'] = 'SUBTE'"
   ]
  },
  {
   "cell_type": "code",
   "execution_count": 9,
   "metadata": {},
   "outputs": [
    {
     "data": {
      "text/html": [
       "<div>\n",
       "<style scoped>\n",
       "    .dataframe tbody tr th:only-of-type {\n",
       "        vertical-align: middle;\n",
       "    }\n",
       "\n",
       "    .dataframe tbody tr th {\n",
       "        vertical-align: top;\n",
       "    }\n",
       "\n",
       "    .dataframe thead th {\n",
       "        text-align: right;\n",
       "    }\n",
       "</style>\n",
       "<table border=\"1\" class=\"dataframe\">\n",
       "  <thead>\n",
       "    <tr style=\"text-align: right;\">\n",
       "      <th></th>\n",
       "      <th>LINEA</th>\n",
       "    </tr>\n",
       "  </thead>\n",
       "  <tbody>\n",
       "    <tr>\n",
       "      <th>0</th>\n",
       "      <td>FERROVIAS S.A.</td>\n",
       "    </tr>\n",
       "    <tr>\n",
       "      <th>1</th>\n",
       "      <td>SOFSE- SARMIENTO</td>\n",
       "    </tr>\n",
       "    <tr>\n",
       "      <th>2</th>\n",
       "      <td>SOFSE - Mitre</td>\n",
       "    </tr>\n",
       "    <tr>\n",
       "      <th>3</th>\n",
       "      <td>SOFSE - San Martin</td>\n",
       "    </tr>\n",
       "    <tr>\n",
       "      <th>4</th>\n",
       "      <td>METROVIAS S.A. (URQUIZA)</td>\n",
       "    </tr>\n",
       "    <tr>\n",
       "      <th>5</th>\n",
       "      <td>SOFSE - Roca</td>\n",
       "    </tr>\n",
       "    <tr>\n",
       "      <th>6</th>\n",
       "      <td>SOFSE - Belgrano Sur</td>\n",
       "    </tr>\n",
       "  </tbody>\n",
       "</table>\n",
       "</div>"
      ],
      "text/plain": [
       "                      LINEA\n",
       "0            FERROVIAS S.A.\n",
       "1          SOFSE- SARMIENTO\n",
       "2             SOFSE - Mitre\n",
       "3        SOFSE - San Martin\n",
       "4  METROVIAS S.A. (URQUIZA)\n",
       "5              SOFSE - Roca\n",
       "6      SOFSE - Belgrano Sur"
      ]
     },
     "execution_count": 9,
     "metadata": {},
     "output_type": "execute_result"
    }
   ],
   "source": [
    "# traer modos\n",
    "sql = \"\"\"\n",
    "select distinct t.\"LINEA\"\n",
    "from public.trx t\n",
    "where t.\"MEDIO\" = 'TRE'\n",
    "\"\"\"\n",
    "lineas_ffcc_trx = pd.read_sql(sql, conn)\n",
    "lineas_ffcc_trx"
   ]
  },
  {
   "cell_type": "code",
   "execution_count": 10,
   "metadata": {},
   "outputs": [],
   "source": [
    "ffcc = gpd.read_file('../carto/insumos/rmba-ferrocarril-estaciones/')\n",
    "ffcc['nombre'] = ffcc.ETIQUETA + ' | Linea ' + ffcc['Línea']\n",
    "\n",
    "ffcc = ffcc.loc[ffcc.Tipo=='Estación',['Línea','nombre','geometry']]\n",
    "ffcc.columns = ['linea','nombre','geometry']\n",
    "ffcc['modo'] = 'TRE'"
   ]
  },
  {
   "cell_type": "code",
   "execution_count": 11,
   "metadata": {},
   "outputs": [
    {
     "data": {
      "text/plain": [
       "array(['Mitre', 'Sarmiento', 'Roca', 'Belgrano Sur', 'San Martín',\n",
       "       'Belgrano Norte', 'Urquiza'], dtype=object)"
      ]
     },
     "execution_count": 11,
     "metadata": {},
     "output_type": "execute_result"
    }
   ],
   "source": [
    "ffcc.linea.unique()"
   ]
  },
  {
   "cell_type": "code",
   "execution_count": 12,
   "metadata": {},
   "outputs": [],
   "source": [
    "ffcc_equivalencias = {'Mitre':'SOFSE - Mitre',\n",
    "                      'Sarmiento':'SOFSE- SARMIENTO',\n",
    "                      'Roca':'SOFSE - Roca',\n",
    "                      'Belgrano Sur':'SOFSE - Belgrano Sur',\n",
    "                      'San Martín':'SOFSE - San Martin',\n",
    "                      'Belgrano Norte':'FERROVIAS S.A.',\n",
    "                      'Urquiza':'METROVIAS S.A. (URQUIZA)'}"
   ]
  },
  {
   "cell_type": "code",
   "execution_count": 13,
   "metadata": {},
   "outputs": [],
   "source": [
    "ffcc.linea = ffcc.linea.replace(ffcc_equivalencias)"
   ]
  },
  {
   "cell_type": "code",
   "execution_count": 14,
   "metadata": {},
   "outputs": [
    {
     "data": {
      "text/html": [
       "<div>\n",
       "<style scoped>\n",
       "    .dataframe tbody tr th:only-of-type {\n",
       "        vertical-align: middle;\n",
       "    }\n",
       "\n",
       "    .dataframe tbody tr th {\n",
       "        vertical-align: top;\n",
       "    }\n",
       "\n",
       "    .dataframe thead th {\n",
       "        text-align: right;\n",
       "    }\n",
       "</style>\n",
       "<table border=\"1\" class=\"dataframe\">\n",
       "  <thead>\n",
       "    <tr style=\"text-align: right;\">\n",
       "      <th></th>\n",
       "      <th>LINEA</th>\n",
       "    </tr>\n",
       "  </thead>\n",
       "  <tbody>\n",
       "    <tr>\n",
       "      <th>0</th>\n",
       "      <td>True</td>\n",
       "    </tr>\n",
       "    <tr>\n",
       "      <th>1</th>\n",
       "      <td>True</td>\n",
       "    </tr>\n",
       "    <tr>\n",
       "      <th>2</th>\n",
       "      <td>True</td>\n",
       "    </tr>\n",
       "    <tr>\n",
       "      <th>3</th>\n",
       "      <td>True</td>\n",
       "    </tr>\n",
       "    <tr>\n",
       "      <th>4</th>\n",
       "      <td>True</td>\n",
       "    </tr>\n",
       "    <tr>\n",
       "      <th>5</th>\n",
       "      <td>True</td>\n",
       "    </tr>\n",
       "    <tr>\n",
       "      <th>6</th>\n",
       "      <td>True</td>\n",
       "    </tr>\n",
       "  </tbody>\n",
       "</table>\n",
       "</div>"
      ],
      "text/plain": [
       "   LINEA\n",
       "0   True\n",
       "1   True\n",
       "2   True\n",
       "3   True\n",
       "4   True\n",
       "5   True\n",
       "6   True"
      ]
     },
     "execution_count": 14,
     "metadata": {},
     "output_type": "execute_result"
    }
   ],
   "source": [
    "lineas_ffcc_trx.isin(ffcc.linea.unique())"
   ]
  },
  {
   "cell_type": "code",
   "execution_count": 15,
   "metadata": {},
   "outputs": [
    {
     "data": {
      "text/html": [
       "<div>\n",
       "<style scoped>\n",
       "    .dataframe tbody tr th:only-of-type {\n",
       "        vertical-align: middle;\n",
       "    }\n",
       "\n",
       "    .dataframe tbody tr th {\n",
       "        vertical-align: top;\n",
       "    }\n",
       "\n",
       "    .dataframe thead th {\n",
       "        text-align: right;\n",
       "    }\n",
       "</style>\n",
       "<table border=\"1\" class=\"dataframe\">\n",
       "  <thead>\n",
       "    <tr style=\"text-align: right;\">\n",
       "      <th></th>\n",
       "      <th>linea</th>\n",
       "      <th>nombre</th>\n",
       "      <th>geometry</th>\n",
       "      <th>modo</th>\n",
       "    </tr>\n",
       "  </thead>\n",
       "  <tbody>\n",
       "    <tr>\n",
       "      <th>0</th>\n",
       "      <td>SOFSE - Mitre</td>\n",
       "      <td>San Martin | Linea Mitre</td>\n",
       "      <td>POINT (-58.53165 -34.57368)</td>\n",
       "      <td>TRE</td>\n",
       "    </tr>\n",
       "    <tr>\n",
       "      <th>1</th>\n",
       "      <td>SOFSE - Mitre</td>\n",
       "      <td>San Andres | Linea Mitre</td>\n",
       "      <td>POINT (-58.54055 -34.56368)</td>\n",
       "      <td>TRE</td>\n",
       "    </tr>\n",
       "    <tr>\n",
       "      <th>2</th>\n",
       "      <td>SOFSE - Mitre</td>\n",
       "      <td>Villa Ballester | Linea Mitre</td>\n",
       "      <td>POINT (-58.55608 -34.55091)</td>\n",
       "      <td>TRE</td>\n",
       "    </tr>\n",
       "    <tr>\n",
       "      <th>5</th>\n",
       "      <td>SOFSE - Mitre</td>\n",
       "      <td>José Leon Suarez | Linea Mitre</td>\n",
       "      <td>POINT (-58.57567 -34.53500)</td>\n",
       "      <td>TRE</td>\n",
       "    </tr>\n",
       "    <tr>\n",
       "      <th>7</th>\n",
       "      <td>SOFSE - Mitre</td>\n",
       "      <td>Urquiza | Linea Mitre</td>\n",
       "      <td>POINT (-58.48792 -34.57472)</td>\n",
       "      <td>TRE</td>\n",
       "    </tr>\n",
       "  </tbody>\n",
       "</table>\n",
       "</div>"
      ],
      "text/plain": [
       "           linea                          nombre                     geometry  \\\n",
       "0  SOFSE - Mitre        San Martin | Linea Mitre  POINT (-58.53165 -34.57368)   \n",
       "1  SOFSE - Mitre        San Andres | Linea Mitre  POINT (-58.54055 -34.56368)   \n",
       "2  SOFSE - Mitre   Villa Ballester | Linea Mitre  POINT (-58.55608 -34.55091)   \n",
       "5  SOFSE - Mitre  José Leon Suarez | Linea Mitre  POINT (-58.57567 -34.53500)   \n",
       "7  SOFSE - Mitre           Urquiza | Linea Mitre  POINT (-58.48792 -34.57472)   \n",
       "\n",
       "  modo  \n",
       "0  TRE  \n",
       "1  TRE  \n",
       "2  TRE  \n",
       "5  TRE  \n",
       "7  TRE  "
      ]
     },
     "execution_count": 15,
     "metadata": {},
     "output_type": "execute_result"
    }
   ],
   "source": [
    "ffcc.head()"
   ]
  },
  {
   "cell_type": "markdown",
   "metadata": {},
   "source": [
    "## Buses"
   ]
  },
  {
   "cell_type": "code",
   "execution_count": 16,
   "metadata": {},
   "outputs": [],
   "source": [
    "# nacionales\n",
    "bus_nac = gpd.read_file('../carto/insumos/lineas-nacionales/')\n",
    "bus_nac.rename(columns = {'LINEA':'linea'},inplace=True)\n",
    "bus_nac = bus_nac.reindex(columns = ['linea','geometry'])\n",
    "bus_nac = bus_nac.to_crs('EPSG:3857')\n",
    "\n",
    "paradas_bus_nac = pd.concat([convertir_recorridos_buses_paradas(fila) for i,fila in bus_nac.iterrows()])\n",
    "paradas_bus_nac.crs = 'EPSG:3857'\n",
    "paradas_bus_nac = paradas_bus_nac.to_crs('EPSG:4326')\n",
    "paradas_bus_nac['modo'] = 'COL'\n",
    "\n",
    "# provinciales\n",
    "bus_prov = gpd.read_file('../carto/insumos/lineas-provinciales/')\n",
    "bus_prov.rename(columns = {'LINEA':'linea'},inplace=True)\n",
    "\n",
    "bus_prov = bus_prov.reindex(columns = ['linea','geometry'])\n",
    "bus_prov = bus_prov.to_crs('EPSG:3857')\n",
    "\n",
    "paradas_bus_prov = pd.concat([convertir_recorridos_buses_paradas(fila) for i,fila in bus_prov.iterrows()])\n",
    "paradas_bus_prov.crs = 'EPSG:3857'\n",
    "paradas_bus_prov = paradas_bus_prov.to_crs('EPSG:4326')\n",
    "paradas_bus_prov['modo'] = 'COL'\n",
    "paradas_bus_prov.head()\n",
    "\n",
    "# municipales\n",
    "bus_muni = gpd.read_file('../carto/insumos/lineas-municipales/')\n",
    "bus_muni.rename(columns = {'LINEA':'linea'},inplace=True)\n",
    "\n",
    "bus_muni = bus_muni.reindex(columns = ['linea','geometry'])\n",
    "bus_muni = bus_muni.to_crs('EPSG:3857')\n",
    "\n",
    "paradas_bus_muni = pd.concat([convertir_recorridos_buses_paradas(fila) for i,fila in bus_muni.iterrows()])\n",
    "paradas_bus_muni.crs = 'EPSG:3857'\n",
    "paradas_bus_muni = paradas_bus_muni.to_crs('EPSG:4326')\n",
    "paradas_bus_muni['modo'] = 'COL'"
   ]
  },
  {
   "cell_type": "code",
   "execution_count": 17,
   "metadata": {},
   "outputs": [],
   "source": [
    "bus = pd.concat([paradas_bus_muni,paradas_bus_prov,paradas_bus_nac])"
   ]
  },
  {
   "cell_type": "code",
   "execution_count": 18,
   "metadata": {},
   "outputs": [],
   "source": [
    "bus['linea'] = 'Linea '+bus['linea'].map(str)"
   ]
  },
  {
   "cell_type": "code",
   "execution_count": 19,
   "metadata": {},
   "outputs": [],
   "source": [
    "bus['nombre'] = np.nan"
   ]
  },
  {
   "cell_type": "code",
   "execution_count": 20,
   "metadata": {},
   "outputs": [
    {
     "data": {
      "text/html": [
       "<div>\n",
       "<style scoped>\n",
       "    .dataframe tbody tr th:only-of-type {\n",
       "        vertical-align: middle;\n",
       "    }\n",
       "\n",
       "    .dataframe tbody tr th {\n",
       "        vertical-align: top;\n",
       "    }\n",
       "\n",
       "    .dataframe thead th {\n",
       "        text-align: right;\n",
       "    }\n",
       "</style>\n",
       "<table border=\"1\" class=\"dataframe\">\n",
       "  <thead>\n",
       "    <tr style=\"text-align: right;\">\n",
       "      <th></th>\n",
       "      <th>linea</th>\n",
       "      <th>geometry</th>\n",
       "      <th>modo</th>\n",
       "      <th>nombre</th>\n",
       "    </tr>\n",
       "  </thead>\n",
       "  <tbody>\n",
       "    <tr>\n",
       "      <th>0</th>\n",
       "      <td>Linea 501</td>\n",
       "      <td>POINT (-58.38407 -34.88737)</td>\n",
       "      <td>COL</td>\n",
       "      <td>NaN</td>\n",
       "    </tr>\n",
       "    <tr>\n",
       "      <th>1</th>\n",
       "      <td>Linea 501</td>\n",
       "      <td>POINT (-58.38771 -34.88767)</td>\n",
       "      <td>COL</td>\n",
       "      <td>NaN</td>\n",
       "    </tr>\n",
       "    <tr>\n",
       "      <th>2</th>\n",
       "      <td>Linea 501</td>\n",
       "      <td>POINT (-58.39012 -34.88754)</td>\n",
       "      <td>COL</td>\n",
       "      <td>NaN</td>\n",
       "    </tr>\n",
       "    <tr>\n",
       "      <th>3</th>\n",
       "      <td>Linea 501</td>\n",
       "      <td>POINT (-58.39024 -34.89055)</td>\n",
       "      <td>COL</td>\n",
       "      <td>NaN</td>\n",
       "    </tr>\n",
       "    <tr>\n",
       "      <th>4</th>\n",
       "      <td>Linea 501</td>\n",
       "      <td>POINT (-58.39197 -34.89216)</td>\n",
       "      <td>COL</td>\n",
       "      <td>NaN</td>\n",
       "    </tr>\n",
       "  </tbody>\n",
       "</table>\n",
       "</div>"
      ],
      "text/plain": [
       "       linea                     geometry modo  nombre\n",
       "0  Linea 501  POINT (-58.38407 -34.88737)  COL     NaN\n",
       "1  Linea 501  POINT (-58.38771 -34.88767)  COL     NaN\n",
       "2  Linea 501  POINT (-58.39012 -34.88754)  COL     NaN\n",
       "3  Linea 501  POINT (-58.39024 -34.89055)  COL     NaN\n",
       "4  Linea 501  POINT (-58.39197 -34.89216)  COL     NaN"
      ]
     },
     "execution_count": 20,
     "metadata": {},
     "output_type": "execute_result"
    }
   ],
   "source": [
    "bus.head()"
   ]
  },
  {
   "cell_type": "code",
   "execution_count": 21,
   "metadata": {},
   "outputs": [
    {
     "data": {
      "text/html": [
       "<div>\n",
       "<style scoped>\n",
       "    .dataframe tbody tr th:only-of-type {\n",
       "        vertical-align: middle;\n",
       "    }\n",
       "\n",
       "    .dataframe tbody tr th {\n",
       "        vertical-align: top;\n",
       "    }\n",
       "\n",
       "    .dataframe thead th {\n",
       "        text-align: right;\n",
       "    }\n",
       "</style>\n",
       "<table border=\"1\" class=\"dataframe\">\n",
       "  <thead>\n",
       "    <tr style=\"text-align: right;\">\n",
       "      <th></th>\n",
       "      <th>LINEA</th>\n",
       "    </tr>\n",
       "  </thead>\n",
       "  <tbody>\n",
       "    <tr>\n",
       "      <th>0</th>\n",
       "      <td>LINEA 56</td>\n",
       "    </tr>\n",
       "    <tr>\n",
       "      <th>1</th>\n",
       "      <td>LINEA 34</td>\n",
       "    </tr>\n",
       "    <tr>\n",
       "      <th>2</th>\n",
       "      <td>LINEA 532</td>\n",
       "    </tr>\n",
       "    <tr>\n",
       "      <th>3</th>\n",
       "      <td>LINEA 511B</td>\n",
       "    </tr>\n",
       "    <tr>\n",
       "      <th>4</th>\n",
       "      <td>LINEA 26</td>\n",
       "    </tr>\n",
       "    <tr>\n",
       "      <th>...</th>\n",
       "      <td>...</td>\n",
       "    </tr>\n",
       "    <tr>\n",
       "      <th>378</th>\n",
       "      <td>LINEA 175</td>\n",
       "    </tr>\n",
       "    <tr>\n",
       "      <th>379</th>\n",
       "      <td>LINEA 84</td>\n",
       "    </tr>\n",
       "    <tr>\n",
       "      <th>380</th>\n",
       "      <td>LINEA 278</td>\n",
       "    </tr>\n",
       "    <tr>\n",
       "      <th>381</th>\n",
       "      <td>LINEA_NORTE MUNICIPAL</td>\n",
       "    </tr>\n",
       "    <tr>\n",
       "      <th>382</th>\n",
       "      <td>LINEA 621</td>\n",
       "    </tr>\n",
       "  </tbody>\n",
       "</table>\n",
       "<p>383 rows × 1 columns</p>\n",
       "</div>"
      ],
      "text/plain": [
       "                     LINEA\n",
       "0                 LINEA 56\n",
       "1                 LINEA 34\n",
       "2                LINEA 532\n",
       "3               LINEA 511B\n",
       "4                 LINEA 26\n",
       "..                     ...\n",
       "378              LINEA 175\n",
       "379               LINEA 84\n",
       "380              LINEA 278\n",
       "381  LINEA_NORTE MUNICIPAL\n",
       "382              LINEA 621\n",
       "\n",
       "[383 rows x 1 columns]"
      ]
     },
     "execution_count": 21,
     "metadata": {},
     "output_type": "execute_result"
    }
   ],
   "source": [
    "# traer modos\n",
    "sql = \"\"\"\n",
    "select distinct t.\"LINEA\"\n",
    "from public.trx t\n",
    "where t.\"MEDIO\" = 'COL'\n",
    "\"\"\"\n",
    "lineas_bus_trx = pd.read_sql(sql, conn)\n",
    "lineas_bus_trx"
   ]
  },
  {
   "cell_type": "code",
   "execution_count": null,
   "metadata": {},
   "outputs": [],
   "source": [
    "#faltan 1/3\n",
    "lineas_faltantes = lineas_bus_trx[~lineas_bus_trx.isin(bus.linea.unique()).values]\n",
    "len(lineas_faltantes)"
   ]
  },
  {
   "cell_type": "code",
   "execution_count": null,
   "metadata": {},
   "outputs": [],
   "source": [
    "#separar las municipales y ver si se puede usar alguna forma de detectar a que linea pertenecen"
   ]
  },
  {
   "cell_type": "code",
   "execution_count": null,
   "metadata": {},
   "outputs": [],
   "source": [
    "no_500 = lineas_faltantes.LINEA.map(lambda s: s[:7] != 'LINEA 5')\n",
    "si_500 = ~no_500"
   ]
  },
  {
   "cell_type": "code",
   "execution_count": null,
   "metadata": {},
   "outputs": [],
   "source": [
    "lineas_faltantes[si_500].head()"
   ]
  },
  {
   "cell_type": "code",
   "execution_count": null,
   "metadata": {},
   "outputs": [],
   "source": [
    "lineas_faltantes[no_500].head()"
   ]
  },
  {
   "cell_type": "code",
   "execution_count": 22,
   "metadata": {},
   "outputs": [
    {
     "data": {
      "text/html": [
       "<div>\n",
       "<style scoped>\n",
       "    .dataframe tbody tr th:only-of-type {\n",
       "        vertical-align: middle;\n",
       "    }\n",
       "\n",
       "    .dataframe tbody tr th {\n",
       "        vertical-align: top;\n",
       "    }\n",
       "\n",
       "    .dataframe thead th {\n",
       "        text-align: right;\n",
       "    }\n",
       "</style>\n",
       "<table border=\"1\" class=\"dataframe\">\n",
       "  <thead>\n",
       "    <tr style=\"text-align: right;\">\n",
       "      <th></th>\n",
       "      <th>linea</th>\n",
       "      <th>geometry</th>\n",
       "      <th>modo</th>\n",
       "      <th>nombre</th>\n",
       "    </tr>\n",
       "  </thead>\n",
       "  <tbody>\n",
       "    <tr>\n",
       "      <th>0</th>\n",
       "      <td>Linea 501</td>\n",
       "      <td>POINT (-58.38407 -34.88737)</td>\n",
       "      <td>COL</td>\n",
       "      <td>NaN</td>\n",
       "    </tr>\n",
       "    <tr>\n",
       "      <th>1</th>\n",
       "      <td>Linea 501</td>\n",
       "      <td>POINT (-58.38771 -34.88767)</td>\n",
       "      <td>COL</td>\n",
       "      <td>NaN</td>\n",
       "    </tr>\n",
       "    <tr>\n",
       "      <th>2</th>\n",
       "      <td>Linea 501</td>\n",
       "      <td>POINT (-58.39012 -34.88754)</td>\n",
       "      <td>COL</td>\n",
       "      <td>NaN</td>\n",
       "    </tr>\n",
       "    <tr>\n",
       "      <th>3</th>\n",
       "      <td>Linea 501</td>\n",
       "      <td>POINT (-58.39024 -34.89055)</td>\n",
       "      <td>COL</td>\n",
       "      <td>NaN</td>\n",
       "    </tr>\n",
       "    <tr>\n",
       "      <th>4</th>\n",
       "      <td>Linea 501</td>\n",
       "      <td>POINT (-58.39197 -34.89216)</td>\n",
       "      <td>COL</td>\n",
       "      <td>NaN</td>\n",
       "    </tr>\n",
       "  </tbody>\n",
       "</table>\n",
       "</div>"
      ],
      "text/plain": [
       "       linea                     geometry modo nombre\n",
       "0  Linea 501  POINT (-58.38407 -34.88737)  COL    NaN\n",
       "1  Linea 501  POINT (-58.38771 -34.88767)  COL    NaN\n",
       "2  Linea 501  POINT (-58.39012 -34.88754)  COL    NaN\n",
       "3  Linea 501  POINT (-58.39024 -34.89055)  COL    NaN\n",
       "4  Linea 501  POINT (-58.39197 -34.89216)  COL    NaN"
      ]
     },
     "execution_count": 22,
     "metadata": {},
     "output_type": "execute_result"
    }
   ],
   "source": [
    "paradas = pd.concat([bus,ffcc,subte])\n",
    "paradas.head()"
   ]
  },
  {
   "cell_type": "code",
   "execution_count": 23,
   "metadata": {},
   "outputs": [
    {
     "data": {
      "text/plain": [
       "(178178, 4)"
      ]
     },
     "execution_count": 23,
     "metadata": {},
     "output_type": "execute_result"
    }
   ],
   "source": [
    "paradas.shape"
   ]
  },
  {
   "cell_type": "code",
   "execution_count": 24,
   "metadata": {},
   "outputs": [],
   "source": [
    "paradas.to_file('../carto/paradas.geojson',driver='GeoJSON')"
   ]
  },
  {
   "cell_type": "code",
   "execution_count": 25,
   "metadata": {},
   "outputs": [],
   "source": [
    "paradas['latitude'] = paradas.geometry.y\n",
    "paradas['longitude'] = paradas.geometry.x\n",
    "paradas.drop('geometry',axis=1,inplace=True)"
   ]
  },
  {
   "cell_type": "code",
   "execution_count": 26,
   "metadata": {},
   "outputs": [],
   "source": [
    "engine = create_engine('postgresql://{}:{}@{}:{}/{}'\n",
    "    .format(DB_USERNAME, DB_PASSWORD, DB_HOST,\n",
    "            DB_PORT, DB_NAME))"
   ]
  },
  {
   "cell_type": "code",
   "execution_count": 27,
   "metadata": {},
   "outputs": [
    {
     "name": "stdout",
     "output_type": "stream",
     "text": [
      "CPU times: user 38.4 s, sys: 192 ms, total: 38.6 s\n",
      "Wall time: 38.6 s\n"
     ]
    }
   ],
   "source": [
    "%time h3_paradas = h3_indexing(paradas.copy(),res_list = [5,12])"
   ]
  },
  {
   "cell_type": "code",
   "execution_count": 28,
   "metadata": {},
   "outputs": [
    {
     "data": {
      "text/html": [
       "<div>\n",
       "<style scoped>\n",
       "    .dataframe tbody tr th:only-of-type {\n",
       "        vertical-align: middle;\n",
       "    }\n",
       "\n",
       "    .dataframe tbody tr th {\n",
       "        vertical-align: top;\n",
       "    }\n",
       "\n",
       "    .dataframe thead th {\n",
       "        text-align: right;\n",
       "    }\n",
       "</style>\n",
       "<table border=\"1\" class=\"dataframe\">\n",
       "  <thead>\n",
       "    <tr style=\"text-align: right;\">\n",
       "      <th></th>\n",
       "      <th>linea</th>\n",
       "      <th>modo</th>\n",
       "      <th>nombre</th>\n",
       "      <th>latitude</th>\n",
       "      <th>longitude</th>\n",
       "      <th>h3_res_5</th>\n",
       "      <th>h3_res_6</th>\n",
       "      <th>h3_res_7</th>\n",
       "      <th>h3_res_8</th>\n",
       "      <th>h3_res_9</th>\n",
       "      <th>h3_res_10</th>\n",
       "      <th>h3_res_11</th>\n",
       "      <th>h3_res_12</th>\n",
       "    </tr>\n",
       "  </thead>\n",
       "  <tbody>\n",
       "    <tr>\n",
       "      <th>0</th>\n",
       "      <td>Linea 501</td>\n",
       "      <td>COL</td>\n",
       "      <td>NaN</td>\n",
       "      <td>-34.887373</td>\n",
       "      <td>-58.384068</td>\n",
       "      <td>85c2e39bfffffff</td>\n",
       "      <td>86c2e3997ffffff</td>\n",
       "      <td>87c2e3994ffffff</td>\n",
       "      <td>88c2e39945fffff</td>\n",
       "      <td>89c2e399453ffff</td>\n",
       "      <td>8ac2e39945affff</td>\n",
       "      <td>8bc2e39945adfff</td>\n",
       "      <td>8cc2e39945ad1ff</td>\n",
       "    </tr>\n",
       "    <tr>\n",
       "      <th>1</th>\n",
       "      <td>Linea 501</td>\n",
       "      <td>COL</td>\n",
       "      <td>NaN</td>\n",
       "      <td>-34.887670</td>\n",
       "      <td>-58.387713</td>\n",
       "      <td>85c2e39bfffffff</td>\n",
       "      <td>86c2e3997ffffff</td>\n",
       "      <td>87c2e3994ffffff</td>\n",
       "      <td>88c2e39945fffff</td>\n",
       "      <td>89c2e3994cfffff</td>\n",
       "      <td>8ac2e3994cdffff</td>\n",
       "      <td>8bc2e3994cdbfff</td>\n",
       "      <td>8cc2e3994cdb1ff</td>\n",
       "    </tr>\n",
       "    <tr>\n",
       "      <th>2</th>\n",
       "      <td>Linea 501</td>\n",
       "      <td>COL</td>\n",
       "      <td>NaN</td>\n",
       "      <td>-34.887542</td>\n",
       "      <td>-58.390125</td>\n",
       "      <td>85c2e39bfffffff</td>\n",
       "      <td>86c2e3997ffffff</td>\n",
       "      <td>87c2e3994ffffff</td>\n",
       "      <td>88c2e39941fffff</td>\n",
       "      <td>89c2e39941bffff</td>\n",
       "      <td>8ac2e3994197fff</td>\n",
       "      <td>8bc2e39941b3fff</td>\n",
       "      <td>8cc2e3994194bff</td>\n",
       "    </tr>\n",
       "    <tr>\n",
       "      <th>3</th>\n",
       "      <td>Linea 501</td>\n",
       "      <td>COL</td>\n",
       "      <td>NaN</td>\n",
       "      <td>-34.890546</td>\n",
       "      <td>-58.390244</td>\n",
       "      <td>85c2e39bfffffff</td>\n",
       "      <td>86c2e3997ffffff</td>\n",
       "      <td>87c2e3994ffffff</td>\n",
       "      <td>88c2e3994dfffff</td>\n",
       "      <td>89c2e3994c7ffff</td>\n",
       "      <td>8ac2e3994c77fff</td>\n",
       "      <td>8bc2e3994c76fff</td>\n",
       "      <td>8cc2e3994c763ff</td>\n",
       "    </tr>\n",
       "    <tr>\n",
       "      <th>4</th>\n",
       "      <td>Linea 501</td>\n",
       "      <td>COL</td>\n",
       "      <td>NaN</td>\n",
       "      <td>-34.892161</td>\n",
       "      <td>-58.391970</td>\n",
       "      <td>85c2e39bfffffff</td>\n",
       "      <td>86c2e3997ffffff</td>\n",
       "      <td>87c2e3994ffffff</td>\n",
       "      <td>88c2e3994dfffff</td>\n",
       "      <td>89c2e3994d7ffff</td>\n",
       "      <td>8ac2e3994d47fff</td>\n",
       "      <td>8bc2e3994d45fff</td>\n",
       "      <td>8cc2e3994d45bff</td>\n",
       "    </tr>\n",
       "  </tbody>\n",
       "</table>\n",
       "</div>"
      ],
      "text/plain": [
       "       linea modo nombre   latitude  longitude         h3_res_5  \\\n",
       "0  Linea 501  COL    NaN -34.887373 -58.384068  85c2e39bfffffff   \n",
       "1  Linea 501  COL    NaN -34.887670 -58.387713  85c2e39bfffffff   \n",
       "2  Linea 501  COL    NaN -34.887542 -58.390125  85c2e39bfffffff   \n",
       "3  Linea 501  COL    NaN -34.890546 -58.390244  85c2e39bfffffff   \n",
       "4  Linea 501  COL    NaN -34.892161 -58.391970  85c2e39bfffffff   \n",
       "\n",
       "          h3_res_6         h3_res_7         h3_res_8         h3_res_9  \\\n",
       "0  86c2e3997ffffff  87c2e3994ffffff  88c2e39945fffff  89c2e399453ffff   \n",
       "1  86c2e3997ffffff  87c2e3994ffffff  88c2e39945fffff  89c2e3994cfffff   \n",
       "2  86c2e3997ffffff  87c2e3994ffffff  88c2e39941fffff  89c2e39941bffff   \n",
       "3  86c2e3997ffffff  87c2e3994ffffff  88c2e3994dfffff  89c2e3994c7ffff   \n",
       "4  86c2e3997ffffff  87c2e3994ffffff  88c2e3994dfffff  89c2e3994d7ffff   \n",
       "\n",
       "         h3_res_10        h3_res_11        h3_res_12  \n",
       "0  8ac2e39945affff  8bc2e39945adfff  8cc2e39945ad1ff  \n",
       "1  8ac2e3994cdffff  8bc2e3994cdbfff  8cc2e3994cdb1ff  \n",
       "2  8ac2e3994197fff  8bc2e39941b3fff  8cc2e3994194bff  \n",
       "3  8ac2e3994c77fff  8bc2e3994c76fff  8cc2e3994c763ff  \n",
       "4  8ac2e3994d47fff  8bc2e3994d45fff  8cc2e3994d45bff  "
      ]
     },
     "execution_count": 28,
     "metadata": {},
     "output_type": "execute_result"
    }
   ],
   "source": [
    "h3_paradas.head()"
   ]
  },
  {
   "cell_type": "code",
   "execution_count": 29,
   "metadata": {},
   "outputs": [],
   "source": [
    "h3_paradas.to_csv('../data/h3_paradas.csv',index=False)"
   ]
  },
  {
   "cell_type": "code",
   "execution_count": 30,
   "metadata": {},
   "outputs": [],
   "source": [
    "h3_paradas.to_sql('paradas', engine, schema=DB_SCHEMA,method='multi')"
   ]
  },
  {
   "cell_type": "code",
   "execution_count": null,
   "metadata": {},
   "outputs": [],
   "source": [
    "h3_paradas = h3_paradas.reindex(columns = ['LINEA','MEDIO','h3_res_11'])\n",
    "h3_paradas = h3_paradas.drop_duplicates()"
   ]
  },
  {
   "cell_type": "code",
   "execution_count": null,
   "metadata": {
    "scrolled": true
   },
   "outputs": [],
   "source": [
    "# plotear el mapa de hexagrillas de paradas\n",
    "lista_indices_global = h3_paradas.h3_res_11.unique()\n",
    "geo_df = gpd.GeoDataFrame(lista_indices_global,\n",
    "                          geometry = [Polygon(h3.h3_to_geo_boundary(h3_address=h, geo_json=True)\n",
    "                                                                   ) for h in lista_indices_global],\n",
    "                          crs = 'EPSG:4326')\n",
    "geo_df.columns=['h3_index','geometry']\n",
    "geo_df = geo_df.merge(h3_paradas,left_on = 'h3_index',right_on = 'h3_res_11',how='inner')\n",
    "geo_df.to_file('../carto/carto_paradas_hex_res_11.geojson',driver='GeoJSON')\n",
    "\n",
    "geo_df.head()"
   ]
  },
  {
   "cell_type": "code",
   "execution_count": null,
   "metadata": {},
   "outputs": [],
   "source": []
  }
 ],
 "metadata": {
  "kernelspec": {
   "display_name": "sube_od",
   "language": "python",
   "name": "sube_od"
  },
  "language_info": {
   "codemirror_mode": {
    "name": "ipython",
    "version": 3
   },
   "file_extension": ".py",
   "mimetype": "text/x-python",
   "name": "python",
   "nbconvert_exporter": "python",
   "pygments_lexer": "ipython3",
   "version": "3.7.6"
  }
 },
 "nbformat": 4,
 "nbformat_minor": 4
}
