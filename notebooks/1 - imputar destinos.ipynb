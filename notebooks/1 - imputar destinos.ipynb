{
 "cells": [
  {
   "cell_type": "markdown",
   "metadata": {},
   "source": [
    "#  probar una linea queno encuentre"
   ]
  },
  {
   "cell_type": "markdown",
   "metadata": {},
   "source": [
    "# comparar performance"
   ]
  },
  {
   "cell_type": "code",
   "execution_count": 1,
   "metadata": {},
   "outputs": [],
   "source": [
    "import pandas as pd\n",
    "import numpy as np\n",
    "import yaml\n",
    "\n",
    "from sqlalchemy import create_engine\n",
    "import psycopg2\n",
    "\n",
    "import geopandas as gpd\n",
    "from h3 import h3\n",
    "from shapely.geometry import LineString, Point\n",
    "\n",
    "import matplotlib.pyplot as plt\n",
    "%matplotlib inline"
   ]
  },
  {
   "cell_type": "code",
   "execution_count": 2,
   "metadata": {},
   "outputs": [],
   "source": [
    "def imputar_detino_por_tarjeta(tramos_tarjeta,tolerancia_hex = 21):\n",
    "    try:\n",
    "        for i in range(len(tramos_tarjeta)):\n",
    "            # tomo un tramo\n",
    "            tramo = tramos_tarjeta.iloc[i]\n",
    "            # tomo la linea del tramo\n",
    "            linea = tramo.linea\n",
    "            # y sus posibles paradas\n",
    "            paradas_destino_posibles = paradas.loc[paradas.LINEA == linea,'h3_res_%i'%resolucion]\n",
    "\n",
    "            # tomo las coordenadas del siguiente origen\n",
    "            if i < (len(tramos_tarjeta)-1):\n",
    "                #cuando hay un O_2\n",
    "                O_2 = tramos_tarjeta.iloc[i+1]['h3_o']\n",
    "            else:\n",
    "                #si no tomar el primero del dia\n",
    "                O_2 = tramos_tarjeta.iloc[0]['h3_o']\n",
    "                \n",
    "            #calculo la distancias        \n",
    "            distancias_a_paradas = paradas_destino_posibles.map(\n",
    "                lambda h : h3.h3_distance(\n",
    "                    h3_address_origin = O_2,\n",
    "                    h3_address_h3 = h))\n",
    "            \n",
    "            #evaluo tolerancia\n",
    "            if any(distancias_a_paradas < tolerancia_hex):\n",
    "                parada_destino = paradas_destino_posibles.loc[distancias_a_paradas.idxmin()]\n",
    "            else:\n",
    "                parada_destino = None \n",
    "                \n",
    "            #asigno el destino\n",
    "            tramos_tarjeta.loc[tramo.name,'h3_d'] = parada_destino\n",
    "            \n",
    "    except: \n",
    "        print('tarjeta:',tramos_tarjeta.tarjeta.unique())\n",
    "        \n",
    "    return tramos_tarjeta\n",
    "\n",
    "def crear_Punto(row):\n",
    "    if row.lat_d == None:\n",
    "        return None\n",
    "    else:\n",
    "        return Point(row.lon_d,row.lat_d)\n",
    "        "
   ]
  },
  {
   "cell_type": "code",
   "execution_count": 3,
   "metadata": {},
   "outputs": [],
   "source": [
    "DB_USERNAME = 'sube_user'\n",
    "DB_PASSWORD = 'sube_pass'\n",
    "DB_HOST = 'localhost'\n",
    "DB_PORT = '5432'\n",
    "DB_NAME = 'sube'\n",
    "DB_SCHEMA = 'public'"
   ]
  },
  {
   "cell_type": "code",
   "execution_count": 4,
   "metadata": {},
   "outputs": [],
   "source": [
    "# Conectar a la db\n",
    "conn = psycopg2.connect(user = DB_USERNAME,\n",
    "                                      password = DB_PASSWORD,\n",
    "                                      host = DB_HOST,\n",
    "                                      port = DB_PORT,\n",
    "                                      database = DB_NAME)"
   ]
  },
  {
   "cell_type": "code",
   "execution_count": 6,
   "metadata": {},
   "outputs": [
    {
     "data": {
      "text/html": [
       "<div>\n",
       "<style scoped>\n",
       "    .dataframe tbody tr th:only-of-type {\n",
       "        vertical-align: middle;\n",
       "    }\n",
       "\n",
       "    .dataframe tbody tr th {\n",
       "        vertical-align: top;\n",
       "    }\n",
       "\n",
       "    .dataframe thead th {\n",
       "        text-align: right;\n",
       "    }\n",
       "</style>\n",
       "<table border=\"1\" class=\"dataframe\">\n",
       "  <thead>\n",
       "    <tr style=\"text-align: right;\">\n",
       "      <th></th>\n",
       "      <th>tarjeta</th>\n",
       "      <th>tramo_id</th>\n",
       "      <th>linea</th>\n",
       "      <th>fecha</th>\n",
       "      <th>lat_o</th>\n",
       "      <th>lon_o</th>\n",
       "      <th>delta</th>\n",
       "      <th>h3_o</th>\n",
       "      <th>lat_d</th>\n",
       "      <th>lon_d</th>\n",
       "      <th>h3_d</th>\n",
       "    </tr>\n",
       "  </thead>\n",
       "  <tbody>\n",
       "    <tr>\n",
       "      <th>0</th>\n",
       "      <td>2482584</td>\n",
       "      <td>0</td>\n",
       "      <td>SUBTE</td>\n",
       "      <td>2018-10-10 09:00:47</td>\n",
       "      <td>-34.604581</td>\n",
       "      <td>-58.405399</td>\n",
       "      <td>00:53:34</td>\n",
       "      <td>8bc2e311e96bfff</td>\n",
       "      <td>None</td>\n",
       "      <td>None</td>\n",
       "      <td>None</td>\n",
       "    </tr>\n",
       "    <tr>\n",
       "      <th>1</th>\n",
       "      <td>2482584</td>\n",
       "      <td>1</td>\n",
       "      <td>SUBTE</td>\n",
       "      <td>2018-10-10 09:54:21</td>\n",
       "      <td>-34.607802</td>\n",
       "      <td>-58.373956</td>\n",
       "      <td>04:11:55</td>\n",
       "      <td>8bc2e3113736fff</td>\n",
       "      <td>None</td>\n",
       "      <td>None</td>\n",
       "      <td>None</td>\n",
       "    </tr>\n",
       "    <tr>\n",
       "      <th>2</th>\n",
       "      <td>2482584</td>\n",
       "      <td>2</td>\n",
       "      <td>LINEA D</td>\n",
       "      <td>2018-10-10 14:06:16</td>\n",
       "      <td>-34.599757</td>\n",
       "      <td>-58.397924</td>\n",
       "      <td>04:10:46</td>\n",
       "      <td>8bc2e311e119fff</td>\n",
       "      <td>None</td>\n",
       "      <td>None</td>\n",
       "      <td>None</td>\n",
       "    </tr>\n",
       "    <tr>\n",
       "      <th>3</th>\n",
       "      <td>2482584</td>\n",
       "      <td>3</td>\n",
       "      <td>LINEA B</td>\n",
       "      <td>2018-10-10 18:17:02</td>\n",
       "      <td>-34.603297</td>\n",
       "      <td>-58.375072</td>\n",
       "      <td>NaT</td>\n",
       "      <td>8bc2e311360afff</td>\n",
       "      <td>None</td>\n",
       "      <td>None</td>\n",
       "      <td>None</td>\n",
       "    </tr>\n",
       "    <tr>\n",
       "      <th>4</th>\n",
       "      <td>2482609</td>\n",
       "      <td>0</td>\n",
       "      <td>SUBTE</td>\n",
       "      <td>2018-10-10 13:50:57</td>\n",
       "      <td>-34.608935</td>\n",
       "      <td>-58.406036</td>\n",
       "      <td>05:19:37</td>\n",
       "      <td>8bc2e3111272fff</td>\n",
       "      <td>None</td>\n",
       "      <td>None</td>\n",
       "      <td>None</td>\n",
       "    </tr>\n",
       "  </tbody>\n",
       "</table>\n",
       "</div>"
      ],
      "text/plain": [
       "   tarjeta  tramo_id    linea               fecha      lat_o      lon_o  \\\n",
       "0  2482584         0    SUBTE 2018-10-10 09:00:47 -34.604581 -58.405399   \n",
       "1  2482584         1    SUBTE 2018-10-10 09:54:21 -34.607802 -58.373956   \n",
       "2  2482584         2  LINEA D 2018-10-10 14:06:16 -34.599757 -58.397924   \n",
       "3  2482584         3  LINEA B 2018-10-10 18:17:02 -34.603297 -58.375072   \n",
       "4  2482609         0    SUBTE 2018-10-10 13:50:57 -34.608935 -58.406036   \n",
       "\n",
       "     delta             h3_o lat_d lon_d  h3_d  \n",
       "0 00:53:34  8bc2e311e96bfff  None  None  None  \n",
       "1 04:11:55  8bc2e3113736fff  None  None  None  \n",
       "2 04:10:46  8bc2e311e119fff  None  None  None  \n",
       "3      NaT  8bc2e311360afff  None  None  None  \n",
       "4 05:19:37  8bc2e3111272fff  None  None  None  "
      ]
     },
     "execution_count": 6,
     "metadata": {},
     "output_type": "execute_result"
    }
   ],
   "source": [
    "# traer trx de tarjetas que hayan pasado por la B\n",
    "q = \"\"\"\n",
    "select *\n",
    "from tramos_linea_b\n",
    "limit 70000;\n",
    "\"\"\"\n",
    "tramos = pd.read_sql(q, conn)\n",
    "tramos['delta'] = pd.to_timedelta(tramos['delta'])\n",
    "tramos.head()"
   ]
  },
  {
   "cell_type": "code",
   "execution_count": 7,
   "metadata": {},
   "outputs": [
    {
     "data": {
      "text/plain": [
       "18262"
      ]
     },
     "execution_count": 7,
     "metadata": {},
     "output_type": "execute_result"
    }
   ],
   "source": [
    "len(tramos.tarjeta.unique())"
   ]
  },
  {
   "cell_type": "code",
   "execution_count": 8,
   "metadata": {},
   "outputs": [],
   "source": [
    "resolucion = 11\n",
    "tolerancia_metros = 1000\n"
   ]
  },
  {
   "cell_type": "code",
   "execution_count": 9,
   "metadata": {},
   "outputs": [
    {
     "data": {
      "text/plain": [
       "21.0"
      ]
     },
     "execution_count": 9,
     "metadata": {},
     "output_type": "execute_result"
    }
   ],
   "source": [
    "distancia_entre_hex = h3.edge_length(resolution=resolucion, unit='m') * 2 \n",
    "tolerancia_hex = np.ceil(tolerancia_metros / distancia_entre_hex)\n",
    "tolerancia_hex"
   ]
  },
  {
   "cell_type": "code",
   "execution_count": 10,
   "metadata": {},
   "outputs": [
    {
     "data": {
      "text/html": [
       "<div>\n",
       "<style scoped>\n",
       "    .dataframe tbody tr th:only-of-type {\n",
       "        vertical-align: middle;\n",
       "    }\n",
       "\n",
       "    .dataframe tbody tr th {\n",
       "        vertical-align: top;\n",
       "    }\n",
       "\n",
       "    .dataframe thead th {\n",
       "        text-align: right;\n",
       "    }\n",
       "</style>\n",
       "<table border=\"1\" class=\"dataframe\">\n",
       "  <thead>\n",
       "    <tr style=\"text-align: right;\">\n",
       "      <th></th>\n",
       "      <th>LINEA</th>\n",
       "      <th>LATITUDE</th>\n",
       "      <th>LONGITUDE</th>\n",
       "      <th>h3_res_11</th>\n",
       "    </tr>\n",
       "  </thead>\n",
       "  <tbody>\n",
       "    <tr>\n",
       "      <th>0</th>\n",
       "      <td>LINEA 501</td>\n",
       "      <td>-34.887373</td>\n",
       "      <td>-58.384068</td>\n",
       "      <td>8bc2e39945adfff</td>\n",
       "    </tr>\n",
       "    <tr>\n",
       "      <th>1</th>\n",
       "      <td>LINEA 501</td>\n",
       "      <td>-34.887670</td>\n",
       "      <td>-58.387713</td>\n",
       "      <td>8bc2e3994cdbfff</td>\n",
       "    </tr>\n",
       "    <tr>\n",
       "      <th>2</th>\n",
       "      <td>LINEA 501</td>\n",
       "      <td>-34.887542</td>\n",
       "      <td>-58.390125</td>\n",
       "      <td>8bc2e39941b3fff</td>\n",
       "    </tr>\n",
       "    <tr>\n",
       "      <th>3</th>\n",
       "      <td>LINEA 501</td>\n",
       "      <td>-34.890546</td>\n",
       "      <td>-58.390244</td>\n",
       "      <td>8bc2e3994c76fff</td>\n",
       "    </tr>\n",
       "    <tr>\n",
       "      <th>4</th>\n",
       "      <td>LINEA 501</td>\n",
       "      <td>-34.892161</td>\n",
       "      <td>-58.391970</td>\n",
       "      <td>8bc2e3994d45fff</td>\n",
       "    </tr>\n",
       "  </tbody>\n",
       "</table>\n",
       "</div>"
      ],
      "text/plain": [
       "       LINEA   LATITUDE  LONGITUDE        h3_res_11\n",
       "0  LINEA 501 -34.887373 -58.384068  8bc2e39945adfff\n",
       "1  LINEA 501 -34.887670 -58.387713  8bc2e3994cdbfff\n",
       "2  LINEA 501 -34.887542 -58.390125  8bc2e39941b3fff\n",
       "3  LINEA 501 -34.890546 -58.390244  8bc2e3994c76fff\n",
       "4  LINEA 501 -34.892161 -58.391970  8bc2e3994d45fff"
      ]
     },
     "execution_count": 10,
     "metadata": {},
     "output_type": "execute_result"
    }
   ],
   "source": [
    "q = \"\"\"\n",
    "select p.\"LINEA\", p.\"LATITUDE\",p.\"LONGITUDE\",p.\"h3_res_%i\"\n",
    "from paradas p\n",
    "\"\"\"%resolucion\n",
    "paradas = pd.read_sql(q, conn)\n",
    "paradas.head()"
   ]
  },
  {
   "cell_type": "code",
   "execution_count": null,
   "metadata": {},
   "outputs": [],
   "source": [
    "%time destinos = tramos.groupby(['tarjeta']).apply(imputar_detino_por_tarjeta,tolerancia_hex=tolerancia_hex)\n",
    "destinos"
   ]
  },
  {
   "cell_type": "code",
   "execution_count": null,
   "metadata": {},
   "outputs": [],
   "source": []
  },
  {
   "cell_type": "code",
   "execution_count": null,
   "metadata": {},
   "outputs": [],
   "source": []
  },
  {
   "cell_type": "code",
   "execution_count": null,
   "metadata": {},
   "outputs": [],
   "source": []
  },
  {
   "cell_type": "code",
   "execution_count": null,
   "metadata": {},
   "outputs": [],
   "source": []
  },
  {
   "cell_type": "code",
   "execution_count": null,
   "metadata": {},
   "outputs": [],
   "source": []
  },
  {
   "cell_type": "code",
   "execution_count": null,
   "metadata": {},
   "outputs": [],
   "source": [
    "tramos_tarjeta = tramos.loc[tramos.tarjeta ==32,:]\n",
    "tramos_tarjeta"
   ]
  },
  {
   "cell_type": "code",
   "execution_count": null,
   "metadata": {},
   "outputs": [],
   "source": []
  },
  {
   "cell_type": "code",
   "execution_count": null,
   "metadata": {},
   "outputs": [],
   "source": [
    "imputar_detino_por_tarjeta(tramos_tarjeta)"
   ]
  },
  {
   "cell_type": "code",
   "execution_count": null,
   "metadata": {},
   "outputs": [],
   "source": []
  },
  {
   "cell_type": "code",
   "execution_count": null,
   "metadata": {},
   "outputs": [],
   "source": [
    "destinos"
   ]
  },
  {
   "cell_type": "code",
   "execution_count": null,
   "metadata": {},
   "outputs": [],
   "source": []
  },
  {
   "cell_type": "code",
   "execution_count": null,
   "metadata": {},
   "outputs": [],
   "source": []
  },
  {
   "cell_type": "code",
   "execution_count": null,
   "metadata": {},
   "outputs": [],
   "source": []
  },
  {
   "cell_type": "code",
   "execution_count": null,
   "metadata": {},
   "outputs": [],
   "source": []
  },
  {
   "cell_type": "code",
   "execution_count": null,
   "metadata": {},
   "outputs": [],
   "source": []
  },
  {
   "cell_type": "code",
   "execution_count": null,
   "metadata": {},
   "outputs": [],
   "source": []
  },
  {
   "cell_type": "code",
   "execution_count": null,
   "metadata": {},
   "outputs": [],
   "source": []
  },
  {
   "cell_type": "code",
   "execution_count": null,
   "metadata": {},
   "outputs": [],
   "source": []
  },
  {
   "cell_type": "code",
   "execution_count": null,
   "metadata": {},
   "outputs": [],
   "source": [
    "for i in range(len(tramos_tarjeta)):\n",
    "    print(i)\n",
    "    # tomo un tramo\n",
    "    tramo = tramos_tarjeta.iloc[i]\n",
    "    # tomo la linea del tramo\n",
    "    linea = tramo.linea\n",
    "    # y sus posibles paradas\n",
    "    paradas_destino_posibles = paradas.loc[paradas.LINEA == linea,'h3_res_%i'%resolucion]\n",
    "    #print(paradas_destino_posibles)\n",
    "    # tomo las coordenadas del siguiente origen\n",
    "    if i < (len(tramos_tarjeta)-1):\n",
    "        #cuando hay un O_2\n",
    "        O_2 = tramos_tarjeta.iloc[i+1]['h3_o']\n",
    "    else:\n",
    "        #si no tomar el primero del dia\n",
    "        O_2 = tramos_tarjeta.iloc[0]['h3_o']\n",
    "    #calculo la distancias        \n",
    "    distancias_a_paradas = paradas_destino_posibles.map(\n",
    "        lambda h : h3.h3_distance(\n",
    "            h3_address_origin = O_2,\n",
    "            h3_address_h3 = h))\n",
    "    \n",
    "    if any(distancias_a_paradas < tolerancia_hex):\n",
    "        parada_destino = paradas_destino_posibles.loc[distancias_a_paradas.idxmin()]\n",
    "    else:\n",
    "        parada_destino = None \n",
    "    print(parada_destino)"
   ]
  },
  {
   "cell_type": "code",
   "execution_count": null,
   "metadata": {},
   "outputs": [],
   "source": []
  },
  {
   "cell_type": "code",
   "execution_count": null,
   "metadata": {},
   "outputs": [],
   "source": []
  },
  {
   "cell_type": "code",
   "execution_count": null,
   "metadata": {},
   "outputs": [],
   "source": []
  },
  {
   "cell_type": "code",
   "execution_count": null,
   "metadata": {},
   "outputs": [],
   "source": []
  },
  {
   "cell_type": "code",
   "execution_count": null,
   "metadata": {},
   "outputs": [],
   "source": []
  },
  {
   "cell_type": "code",
   "execution_count": null,
   "metadata": {},
   "outputs": [],
   "source": []
  },
  {
   "cell_type": "code",
   "execution_count": null,
   "metadata": {},
   "outputs": [],
   "source": [
    "O_2"
   ]
  },
  {
   "cell_type": "code",
   "execution_count": null,
   "metadata": {},
   "outputs": [],
   "source": [
    "        for i in range(len(tramos_tarjeta)):\n",
    "\n",
    "            tramo = tramos_tarjeta.iloc[i]\n",
    "            check_equivalencias = equivalencias[tramo.linea]\n",
    "            if not isinstance(check_equivalencias,list):\n",
    "                check_equivalencias = [check_equivalencias]\n",
    "\n",
    "            linea = rec.loc[rec.linea.isin(check_equivalencias),:]\n",
    "            if i < (len(tramos_tarjeta)-1):\n",
    "                #cuando hay un O_2\n",
    "                O_2 = tramos_tarjeta.iloc[i+1]['geometry']\n",
    "            else:\n",
    "                #si no tomar el primero del dia\n",
    "                O_2 = tramos_tarjeta.geometry.iloc[0]\n",
    "\n",
    "            # ramal mas cercano al origen siguiente\n",
    "            distancias = linea.geometry.distance(O_2)\n",
    "\n",
    "            if any(distancias < tolerancia_metros):\n",
    "                ramal_O_1 = linea.loc[distancias.idxmin(),'geometry']\n",
    "\n",
    "                D_1 = ramal_O_1.interpolate(ramal_O_1.project(O_2))\n",
    "                tramos_tarjeta.loc[tramo.name,'lat_d'] = D_1.y\n",
    "                tramos_tarjeta.loc[tramo.name,'lon_d'] = D_1.x\n",
    "\n",
    "            else:\n",
    "                tramos_tarjeta.loc[tramo.name,'lat_d'] = None\n",
    "                tramos_tarjeta.loc[tramo.name,'lon_d'] = None\n",
    "    except: \n",
    "        print('tarjeta:',tramos_tarjeta.tarjeta.unique())\n",
    "        print('dia',tramos_tarjeta.dia.unique())\n",
    "\n",
    "        "
   ]
  },
  {
   "cell_type": "code",
   "execution_count": null,
   "metadata": {},
   "outputs": [],
   "source": []
  },
  {
   "cell_type": "code",
   "execution_count": null,
   "metadata": {},
   "outputs": [],
   "source": []
  },
  {
   "cell_type": "code",
   "execution_count": null,
   "metadata": {},
   "outputs": [],
   "source": []
  },
  {
   "cell_type": "code",
   "execution_count": null,
   "metadata": {},
   "outputs": [],
   "source": []
  },
  {
   "cell_type": "code",
   "execution_count": null,
   "metadata": {},
   "outputs": [],
   "source": [
    "#tarjetas\n",
    "#ejemplo 209215\n",
    "#"
   ]
  },
  {
   "cell_type": "code",
   "execution_count": null,
   "metadata": {},
   "outputs": [],
   "source": [
    "with open('../carto/recorridos_equivalencias.yaml') as file:\n",
    "    equivalencias = yaml.load(file, Loader=yaml.FullLoader)\n",
    "    \n",
    "rec = gpd.read_file('../carto/recorridos.geojson')\n",
    "tramos = gpd.read_file('../data/tramos.geojson')"
   ]
  },
  {
   "cell_type": "code",
   "execution_count": null,
   "metadata": {},
   "outputs": [],
   "source": [
    "#elimino las tarjetas que hayan viajado en alguna de las lineas con problemas\n",
    "#lineas_con_problemas = [ 'LINEA 157 SFE', 'LINEA_906', 'STAFE_SANTA FE_LINEA_907', 'LINEA_C_SFE','LINEA_013_SFE']\n",
    "#tarjetas_eliminar = tramos.loc[tramos.linea.isin(lineas_con_problemas),'tarjeta'].unique()\n",
    "#tramos = tramos.loc[~tramos.tarjeta.isin(tarjetas_eliminar),:].copy()"
   ]
  },
  {
   "cell_type": "code",
   "execution_count": null,
   "metadata": {},
   "outputs": [],
   "source": [
    "tramos['lat_d'] = None\n",
    "tramos['lon_d'] = None"
   ]
  },
  {
   "cell_type": "code",
   "execution_count": null,
   "metadata": {},
   "outputs": [],
   "source": [
    "tolerancia_metros = 1000"
   ]
  },
  {
   "cell_type": "code",
   "execution_count": null,
   "metadata": {},
   "outputs": [],
   "source": [
    "#tarjeta = 209215\n",
    "#tarjeta = 437\n",
    "#tarjeta = 747\n",
    "tarjeta = 1133\n",
    "tramos_tarjeta = tramos.loc[tramos.tarjeta == tarjeta,:].copy()"
   ]
  },
  {
   "cell_type": "code",
   "execution_count": null,
   "metadata": {},
   "outputs": [],
   "source": [
    "tramos_tarjeta.groupby(['tarjeta','dia']).apply(imputar_detino_por_tarjeta_dia)"
   ]
  },
  {
   "cell_type": "code",
   "execution_count": null,
   "metadata": {},
   "outputs": [],
   "source": [
    "%time destinos = tramos.groupby(['tarjeta','dia']).apply(imputar_detino_por_tarjeta_dia)\n"
   ]
  },
  {
   "cell_type": "code",
   "execution_count": null,
   "metadata": {},
   "outputs": [],
   "source": [
    "destinos.lat_d.isnull().sum() /len(destinos) *100"
   ]
  },
  {
   "cell_type": "code",
   "execution_count": null,
   "metadata": {},
   "outputs": [],
   "source": [
    "destinos.lon_d.isnull().sum() /len(destinos) *100"
   ]
  },
  {
   "cell_type": "code",
   "execution_count": null,
   "metadata": {},
   "outputs": [],
   "source": [
    "destinos['lat_o'] = destinos.geometry.y\n",
    "destinos['lon_o'] = destinos.geometry.x"
   ]
  },
  {
   "cell_type": "code",
   "execution_count": null,
   "metadata": {},
   "outputs": [],
   "source": [
    "destinos.drop(['geometry'],axis=1).to_csv('../data/tabla_tramos_completos_epsg3857.csv',index=False)"
   ]
  },
  {
   "cell_type": "code",
   "execution_count": null,
   "metadata": {},
   "outputs": [],
   "source": [
    "destinos.head()"
   ]
  },
  {
   "cell_type": "code",
   "execution_count": null,
   "metadata": {},
   "outputs": [],
   "source": [
    "destinos_geoserie = gpd.GeoDataFrame(geometry = destinos.apply(crear_Punto,axis=1),crs='EPSG:3857')\n",
    "destinos_geoserie['4326']=destinos_geoserie[destinos_geoserie.geometry.notnull()].to_crs('EPSG:4326')\n",
    "destinos_geoserie = gpd.GeoSeries(destinos_geoserie['4326'])\n",
    "destinos_geoserie.head()"
   ]
  },
  {
   "cell_type": "code",
   "execution_count": null,
   "metadata": {},
   "outputs": [],
   "source": [
    "destinos = destinos.to_crs('EPSG:4326')"
   ]
  },
  {
   "cell_type": "code",
   "execution_count": null,
   "metadata": {},
   "outputs": [],
   "source": [
    "destinos['lat_o'] = destinos.geometry.y\n",
    "destinos['lon_o'] = destinos.geometry.x\n",
    "destinos['lat_d'] = destinos_geoserie.y\n",
    "destinos['lon_d'] = destinos_geoserie.x"
   ]
  },
  {
   "cell_type": "code",
   "execution_count": null,
   "metadata": {},
   "outputs": [],
   "source": [
    "destinos.head()"
   ]
  },
  {
   "cell_type": "code",
   "execution_count": null,
   "metadata": {},
   "outputs": [],
   "source": [
    "destinos.drop(['geometry'],axis=1).to_csv('../data/tabla_tramos_completos_epsg4326.csv',index=False)"
   ]
  },
  {
   "cell_type": "code",
   "execution_count": null,
   "metadata": {},
   "outputs": [],
   "source": []
  }
 ],
 "metadata": {
  "kernelspec": {
   "display_name": "sube_od",
   "language": "python",
   "name": "sube_od"
  },
  "language_info": {
   "codemirror_mode": {
    "name": "ipython",
    "version": 3
   },
   "file_extension": ".py",
   "mimetype": "text/x-python",
   "name": "python",
   "nbconvert_exporter": "python",
   "pygments_lexer": "ipython3",
   "version": "3.7.6"
  }
 },
 "nbformat": 4,
 "nbformat_minor": 2
}
