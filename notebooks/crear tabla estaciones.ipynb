{
 "cells": [
  {
   "cell_type": "code",
   "execution_count": null,
   "metadata": {},
   "outputs": [],
   "source": [
    "import geopandas as gpd\n",
    "import pandas as pd\n",
    "from h3 import h3\n",
    "from sqlalchemy import create_engine\n",
    "from shapely.geometry import Polygon, Point\n",
    "import numpy as np\n",
    "import psycopg2"
   ]
  },
  {
   "cell_type": "code",
   "execution_count": null,
   "metadata": {},
   "outputs": [],
   "source": [
    "\n",
    "def h3_from_row(row,res,x,y):\n",
    "    '''\n",
    "    Esta funcion toma una fila, un nivel de resolucion de h3\n",
    "    y los nombres que contienen las coordenadas xy\n",
    "    y devuelve un id de indice h3\n",
    "    '''\n",
    "    return h3.geo_to_h3(row[y],row[x],res = res)\n",
    "\n",
    "def h3_indexing(df,res_list,lat='LATITUDE',lon='LONGITUDE'):\n",
    "    \"\"\"\n",
    "    Esta funcion toma una tabla con dos pares de coordenadas para origen y destino\n",
    "    Un nivel de resolucion h3\n",
    "    y devuelve la tabla con los ids de h3\n",
    "    \"\"\"\n",
    "    \n",
    "    if len(res_list) == 1:\n",
    "        res_list.append(res_list[0])\n",
    "        \n",
    "    for res in range(res_list[0],res_list[1] + 1):\n",
    "        df['h3_res_' + str(res)] = df.apply(h3_from_row, axis=1, args=[res,lon,lat])\n",
    "\n",
    "    return df\n",
    "\n",
    "def vertices_cada_Xmetros(geom,metros):\n",
    "    n_puntos = int((geom.length/metros)+1)\n",
    "    percentiles = np.linspace(0,geom.length,n_puntos)\n",
    "    return [geom.interpolate(percentil,normalized=False) for percentil in percentiles]\n",
    "\n",
    "def convertir_recorridos_buses_paradas(fila,metros=400):\n",
    "    paradas = vertices_cada_Xmetros(fila.geometry,metros = metros)\n",
    "    paradas = gpd.GeoSeries(paradas).map(lambda g: Point(g.coords[0][0:2]))\n",
    "    crs = 'EPSG:3857'\n",
    "    gdf = gpd.GeoDataFrame(np.repeat(fila.LINEA,len(paradas)),crs=crs,geometry=paradas)\n",
    "    gdf.columns=['LINEA','geometry']\n",
    "    return gdf"
   ]
  },
  {
   "cell_type": "code",
   "execution_count": null,
   "metadata": {},
   "outputs": [],
   "source": [
    "DB_USERNAME = 'sube_user'\n",
    "DB_PASSWORD = 'sube_pass'\n",
    "DB_HOST = 'localhost'\n",
    "DB_PORT = '5432'\n",
    "DB_NAME = 'sube'\n",
    "DB_SCHEMA = 'public'"
   ]
  },
  {
   "cell_type": "code",
   "execution_count": null,
   "metadata": {},
   "outputs": [],
   "source": [
    "# Conectar a la db\n",
    "conn = psycopg2.connect(user = DB_USERNAME,\n",
    "                                      password = DB_PASSWORD,\n",
    "                                      host = DB_HOST,\n",
    "                                      port = DB_PORT,\n",
    "                                      database = DB_NAME)"
   ]
  },
  {
   "cell_type": "code",
   "execution_count": null,
   "metadata": {},
   "outputs": [],
   "source": [
    "# traer modos\n",
    "sql = \"\"\"\n",
    "select distinct t.\"LINEA\"\n",
    "from public.trx t\n",
    "where t.\"MEDIO\" = 'SUB'\n",
    "\"\"\"\n",
    "lineas_subte_trx = pd.read_sql(sql, conn)"
   ]
  },
  {
   "cell_type": "code",
   "execution_count": null,
   "metadata": {},
   "outputs": [],
   "source": [
    "lineas_subte_trx"
   ]
  },
  {
   "cell_type": "code",
   "execution_count": null,
   "metadata": {},
   "outputs": [],
   "source": [
    "subte = gpd.read_file('../carto/insumos/subterraneo-estaciones')\n",
    "subte = subte.reindex(columns = ['LINEA','geometry'])\n",
    "\n",
    "premetro = pd.read_csv('../carto/insumos/estaciones-premetro.csv')\n",
    "premetro = gpd.GeoDataFrame(\n",
    "    premetro, geometry=gpd.points_from_xy(premetro['long'], premetro.lat),crs='EPSG:4326')\n",
    "premetro = premetro.reindex(columns = ['linea','geometry'])\n",
    "premetro.columns = ['LINEA','geometry']\n",
    "\n",
    "subte = pd.concat([subte,premetro])\n",
    "subte['MEDIO'] = 'SUB'\n",
    "subte['LINEA'] = 'LINEA '+subte['LINEA']"
   ]
  },
  {
   "cell_type": "code",
   "execution_count": null,
   "metadata": {},
   "outputs": [],
   "source": [
    "lineas_subte_trx.isin(subte.LINEA.unique())"
   ]
  },
  {
   "cell_type": "code",
   "execution_count": null,
   "metadata": {},
   "outputs": [],
   "source": [
    "# traer modos\n",
    "sql = \"\"\"\n",
    "select distinct t.\"LINEA\"\n",
    "from public.trx t\n",
    "where t.\"MEDIO\" = 'TRE'\n",
    "\"\"\"\n",
    "lineas_ffcc_trx = pd.read_sql(sql, conn)\n",
    "lineas_ffcc_trx"
   ]
  },
  {
   "cell_type": "code",
   "execution_count": null,
   "metadata": {},
   "outputs": [],
   "source": [
    "ffcc = gpd.read_file('../carto/insumos/rmba-ferrocarril-estaciones/')\n",
    "ffcc = ffcc.loc[ffcc.Tipo=='Estación',['Línea','geometry']]\n",
    "ffcc.columns = ['LINEA','geometry']\n",
    "ffcc['MEDIO'] = 'TRE'"
   ]
  },
  {
   "cell_type": "code",
   "execution_count": null,
   "metadata": {},
   "outputs": [],
   "source": [
    "ffcc.LINEA.unique()"
   ]
  },
  {
   "cell_type": "code",
   "execution_count": null,
   "metadata": {},
   "outputs": [],
   "source": [
    "ffcc_equivalencias = {'Mitre':'SOFSE - Mitre',\n",
    "                      'Sarmiento':'SOFSE- SARMIENTO',\n",
    "                      'Roca':'SOFSE - Roca',\n",
    "                      'Belgrano Sur':'SOFSE - Belgrano Sur',\n",
    "                      'San Martín':'SOFSE - San Martin',\n",
    "                      'Belgrano Norte':'FERROVIAS S.A.',\n",
    "                      'Urquiza':'METROVIAS S.A. (URQUIZA)'}"
   ]
  },
  {
   "cell_type": "code",
   "execution_count": null,
   "metadata": {},
   "outputs": [],
   "source": [
    "ffcc.LINEA = ffcc.LINEA.replace(ffcc_equivalencias)"
   ]
  },
  {
   "cell_type": "code",
   "execution_count": null,
   "metadata": {},
   "outputs": [],
   "source": [
    "lineas_ffcc_trx.isin(ffcc.LINEA.unique())"
   ]
  },
  {
   "cell_type": "markdown",
   "metadata": {},
   "source": [
    "## Buses"
   ]
  },
  {
   "cell_type": "code",
   "execution_count": null,
   "metadata": {},
   "outputs": [],
   "source": [
    "# nacionales\n",
    "bus_nac = gpd.read_file('../carto/insumos/lineas-nacionales/')\n",
    "bus_nac = bus_nac.reindex(columns = ['LINEA','geometry'])\n",
    "bus_nac = bus_nac.to_crs('EPSG:3857')\n",
    "\n",
    "paradas_bus_nac = pd.concat([convertir_recorridos_buses_paradas(fila) for i,fila in bus_nac.iterrows()])\n",
    "paradas_bus_nac.crs = 'EPSG:3857'\n",
    "paradas_bus_nac = paradas_bus_nac.to_crs('EPSG:4326')\n",
    "paradas_bus_nac['MEDIO'] = 'COL'\n",
    "\n",
    "# provinciales\n",
    "bus_prov = gpd.read_file('../carto/insumos/lineas-provinciales/')\n",
    "bus_prov = bus_prov.reindex(columns = ['LINEA','geometry'])\n",
    "bus_prov = bus_prov.to_crs('EPSG:3857')\n",
    "\n",
    "paradas_bus_prov = pd.concat([convertir_recorridos_buses_paradas(fila) for i,fila in bus_prov.iterrows()])\n",
    "paradas_bus_prov.crs = 'EPSG:3857'\n",
    "paradas_bus_prov = paradas_bus_prov.to_crs('EPSG:4326')\n",
    "paradas_bus_prov['MEDIO'] = 'COL'\n",
    "paradas_bus_prov.head()\n",
    "\n",
    "# municipales\n",
    "bus_muni = gpd.read_file('../carto/insumos/lineas-municipales/')\n",
    "bus_muni = bus_muni.reindex(columns = ['LINEA','geometry'])\n",
    "bus_muni = bus_muni.to_crs('EPSG:3857')\n",
    "\n",
    "paradas_bus_muni = pd.concat([convertir_recorridos_buses_paradas(fila) for i,fila in bus_muni.iterrows()])\n",
    "paradas_bus_muni.crs = 'EPSG:3857'\n",
    "paradas_bus_muni = paradas_bus_muni.to_crs('EPSG:4326')\n",
    "paradas_bus_muni['MEDIO'] = 'COL'"
   ]
  },
  {
   "cell_type": "code",
   "execution_count": null,
   "metadata": {},
   "outputs": [],
   "source": [
    "bus = pd.concat([paradas_bus_muni,paradas_bus_prov,paradas_bus_nac])\n"
   ]
  },
  {
   "cell_type": "code",
   "execution_count": null,
   "metadata": {},
   "outputs": [],
   "source": [
    "bus['LINEA'] = 'LINEA '+bus['LINEA'].map(str)"
   ]
  },
  {
   "cell_type": "code",
   "execution_count": null,
   "metadata": {},
   "outputs": [],
   "source": [
    "# traer modos\n",
    "sql = \"\"\"\n",
    "select distinct t.\"LINEA\"\n",
    "from public.trx t\n",
    "where t.\"MEDIO\" = 'COL'\n",
    "\"\"\"\n",
    "lineas_bus_trx = pd.read_sql(sql, conn)\n",
    "lineas_bus_trx"
   ]
  },
  {
   "cell_type": "code",
   "execution_count": null,
   "metadata": {},
   "outputs": [],
   "source": [
    "#faltan 1/3\n",
    "lineas_faltantes = lineas_bus_trx[~lineas_bus_trx.isin(bus.LINEA.unique()).values]\n",
    "len(lineas_faltantes)"
   ]
  },
  {
   "cell_type": "code",
   "execution_count": null,
   "metadata": {},
   "outputs": [],
   "source": [
    "#separar las municipales y ver si se puede usar alguna forma de detectar a que linea pertenecen"
   ]
  },
  {
   "cell_type": "code",
   "execution_count": null,
   "metadata": {},
   "outputs": [],
   "source": [
    "no_500 = lineas_faltantes.LINEA.map(lambda s: s[:7] != 'LINEA 5')\n",
    "si_500 = ~no_500"
   ]
  },
  {
   "cell_type": "code",
   "execution_count": null,
   "metadata": {},
   "outputs": [],
   "source": [
    "lineas_faltantes[si_500].head()"
   ]
  },
  {
   "cell_type": "code",
   "execution_count": null,
   "metadata": {},
   "outputs": [],
   "source": [
    "lineas_faltantes[no_500].head()"
   ]
  },
  {
   "cell_type": "code",
   "execution_count": null,
   "metadata": {},
   "outputs": [],
   "source": [
    "paradas = pd.concat([bus,ffcc,subte])\n",
    "paradas.head()"
   ]
  },
  {
   "cell_type": "code",
   "execution_count": null,
   "metadata": {},
   "outputs": [],
   "source": [
    "paradas.shape"
   ]
  },
  {
   "cell_type": "code",
   "execution_count": null,
   "metadata": {},
   "outputs": [],
   "source": [
    "paradas.to_file('../carto/paradas.geojson',driver='GeoJSON')"
   ]
  },
  {
   "cell_type": "code",
   "execution_count": null,
   "metadata": {},
   "outputs": [],
   "source": [
    "paradas['LATITUDE'] = paradas.geometry.y\n",
    "paradas['LONGITUDE'] = paradas.geometry.x\n",
    "paradas.drop('geometry',axis=1,inplace=True)"
   ]
  },
  {
   "cell_type": "code",
   "execution_count": null,
   "metadata": {},
   "outputs": [],
   "source": [
    "conn.close()"
   ]
  },
  {
   "cell_type": "code",
   "execution_count": null,
   "metadata": {},
   "outputs": [],
   "source": [
    "engine = create_engine('postgresql://{}:{}@{}:{}/{}'\n",
    "    .format(DB_USERNAME, DB_PASSWORD, DB_HOST,\n",
    "            DB_PORT, DB_NAME))"
   ]
  },
  {
   "cell_type": "code",
   "execution_count": null,
   "metadata": {},
   "outputs": [],
   "source": [
    "%time h3_paradas = h3_indexing(paradas.copy(),res_list = [5,12])"
   ]
  },
  {
   "cell_type": "code",
   "execution_count": null,
   "metadata": {},
   "outputs": [],
   "source": [
    "h3_paradas.head()"
   ]
  },
  {
   "cell_type": "code",
   "execution_count": null,
   "metadata": {},
   "outputs": [],
   "source": [
    "h3_paradas.to_csv('../data/h3_paradas.csv',index=False)"
   ]
  },
  {
   "cell_type": "code",
   "execution_count": null,
   "metadata": {},
   "outputs": [],
   "source": [
    "h3_paradas.to_sql('paradas', engine, schema=DB_SCHEMA)"
   ]
  },
  {
   "cell_type": "code",
   "execution_count": null,
   "metadata": {
    "scrolled": true
   },
   "outputs": [],
   "source": [
    "# plotear el mapa de hexagrillas de paradas\n",
    "lista_indices_global = h3_paradas.h3_res_5.unique()\n",
    "geo_df = gpd.GeoDataFrame(lista_indices_global,\n",
    "                          geometry = [Polygon(h3.h3_to_geo_boundary(h3_address=h, geo_json=True)\n",
    "                                                                   ) for h in lista_indices_global],\n",
    "                          crs = 'EPSG:4326')\n",
    "geo_df.columns=['h3_index','geometry']\n",
    "geo_df.to_file('../carto/carto_paradas_hex_res_5.geojson',driver='GeoJSON')\n",
    "geo_df.head()"
   ]
  }
 ],
 "metadata": {
  "kernelspec": {
   "display_name": "sube_od",
   "language": "python",
   "name": "sube_od"
  },
  "language_info": {
   "codemirror_mode": {
    "name": "ipython",
    "version": 3
   },
   "file_extension": ".py",
   "mimetype": "text/x-python",
   "name": "python",
   "nbconvert_exporter": "python",
   "pygments_lexer": "ipython3",
   "version": "3.7.6"
  }
 },
 "nbformat": 4,
 "nbformat_minor": 4
}
