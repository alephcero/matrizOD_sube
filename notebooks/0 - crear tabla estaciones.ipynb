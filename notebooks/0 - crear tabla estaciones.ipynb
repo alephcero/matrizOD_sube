{
 "cells": [
  {
   "cell_type": "code",
   "execution_count": 1,
   "metadata": {},
   "outputs": [],
   "source": [
    "import geopandas as gpd\n",
    "import pandas as pd\n",
    "from h3 import h3\n",
    "from sqlalchemy import create_engine\n",
    "from shapely.geometry import Polygon, Point\n",
    "import numpy as np\n",
    "import psycopg2"
   ]
  },
  {
   "cell_type": "code",
   "execution_count": 2,
   "metadata": {},
   "outputs": [],
   "source": [
    "def h3_from_row(row,res,x,y):\n",
    "    '''\n",
    "    Esta funcion toma una fila, un nivel de resolucion de h3\n",
    "    y los nombres que contienen las coordenadas xy\n",
    "    y devuelve un id de indice h3\n",
    "    '''\n",
    "    return h3.geo_to_h3(row[y],row[x],res = res)\n",
    "\n",
    "def h3_indexing(df,res_list,lat='LATITUDE',lon='LONGITUDE'):\n",
    "    \"\"\"\n",
    "    Esta funcion toma una tabla con dos pares de coordenadas para origen y destino\n",
    "    Un nivel de resolucion h3\n",
    "    y devuelve la tabla con los ids de h3\n",
    "    \"\"\"\n",
    "    \n",
    "    if len(res_list) == 1:\n",
    "        res_list.append(res_list[0])\n",
    "        \n",
    "    for res in range(res_list[0],res_list[1] + 1):\n",
    "        df['h3_res_' + str(res)] = df.apply(h3_from_row, axis=1, args=[res,lon,lat])\n",
    "\n",
    "    return df\n",
    "\n",
    "def vertices_cada_Xmetros(geom,metros):\n",
    "    n_puntos = int((geom.length/metros)+1)\n",
    "    percentiles = np.linspace(0,geom.length,n_puntos)\n",
    "    return [geom.interpolate(percentil,normalized=False) for percentil in percentiles]\n",
    "\n",
    "def convertir_recorridos_buses_paradas(fila,metros=400):\n",
    "    paradas = vertices_cada_Xmetros(fila.geometry,metros = metros)\n",
    "    paradas = gpd.GeoSeries(paradas).map(lambda g: Point(g.coords[0][0:2]))\n",
    "    crs = 'EPSG:3857'\n",
    "    gdf = gpd.GeoDataFrame(np.repeat(fila.LINEA,len(paradas)),crs=crs,geometry=paradas)\n",
    "    gdf.columns=['LINEA','geometry']\n",
    "    return gdf"
   ]
  },
  {
   "cell_type": "code",
   "execution_count": 3,
   "metadata": {},
   "outputs": [],
   "source": [
    "DB_USERNAME = 'sube_user'\n",
    "DB_PASSWORD = 'sube_pass'\n",
    "DB_HOST = 'localhost'\n",
    "DB_PORT = '5432'\n",
    "DB_NAME = 'sube'\n",
    "DB_SCHEMA = 'public'"
   ]
  },
  {
   "cell_type": "code",
   "execution_count": 4,
   "metadata": {},
   "outputs": [],
   "source": [
    "# Conectar a la db\n",
    "conn = psycopg2.connect(user = DB_USERNAME,\n",
    "                                      password = DB_PASSWORD,\n",
    "                                      host = DB_HOST,\n",
    "                                      port = DB_PORT,\n",
    "                                      database = DB_NAME)"
   ]
  },
  {
   "cell_type": "code",
   "execution_count": 5,
   "metadata": {},
   "outputs": [],
   "source": [
    "# traer modos\n",
    "sql = \"\"\"\n",
    "select distinct t.\"LINEA\"\n",
    "from public.trx t\n",
    "where t.\"MEDIO\" = 'SUB'\n",
    "\"\"\"\n",
    "lineas_subte_trx = pd.read_sql(sql, conn)"
   ]
  },
  {
   "cell_type": "code",
   "execution_count": 6,
   "metadata": {},
   "outputs": [
    {
     "data": {
      "text/html": [
       "<div>\n",
       "<style scoped>\n",
       "    .dataframe tbody tr th:only-of-type {\n",
       "        vertical-align: middle;\n",
       "    }\n",
       "\n",
       "    .dataframe tbody tr th {\n",
       "        vertical-align: top;\n",
       "    }\n",
       "\n",
       "    .dataframe thead th {\n",
       "        text-align: right;\n",
       "    }\n",
       "</style>\n",
       "<table border=\"1\" class=\"dataframe\">\n",
       "  <thead>\n",
       "    <tr style=\"text-align: right;\">\n",
       "      <th></th>\n",
       "      <th>LINEA</th>\n",
       "    </tr>\n",
       "  </thead>\n",
       "  <tbody>\n",
       "    <tr>\n",
       "      <th>0</th>\n",
       "      <td>LINEA A</td>\n",
       "    </tr>\n",
       "    <tr>\n",
       "      <th>1</th>\n",
       "      <td>LINEA E</td>\n",
       "    </tr>\n",
       "    <tr>\n",
       "      <th>2</th>\n",
       "      <td>LINEA C</td>\n",
       "    </tr>\n",
       "    <tr>\n",
       "      <th>3</th>\n",
       "      <td>SUBTE</td>\n",
       "    </tr>\n",
       "    <tr>\n",
       "      <th>4</th>\n",
       "      <td>LINEA D</td>\n",
       "    </tr>\n",
       "    <tr>\n",
       "      <th>5</th>\n",
       "      <td>LINEA H</td>\n",
       "    </tr>\n",
       "    <tr>\n",
       "      <th>6</th>\n",
       "      <td>LINEA PREMETRO</td>\n",
       "    </tr>\n",
       "    <tr>\n",
       "      <th>7</th>\n",
       "      <td>LINEA B</td>\n",
       "    </tr>\n",
       "  </tbody>\n",
       "</table>\n",
       "</div>"
      ],
      "text/plain": [
       "            LINEA\n",
       "0         LINEA A\n",
       "1         LINEA E\n",
       "2         LINEA C\n",
       "3           SUBTE\n",
       "4         LINEA D\n",
       "5         LINEA H\n",
       "6  LINEA PREMETRO\n",
       "7         LINEA B"
      ]
     },
     "execution_count": 6,
     "metadata": {},
     "output_type": "execute_result"
    }
   ],
   "source": [
    "lineas_subte_trx"
   ]
  },
  {
   "cell_type": "code",
   "execution_count": 7,
   "metadata": {},
   "outputs": [],
   "source": [
    "subte = gpd.read_file('../carto/insumos/subterraneo-estaciones')\n",
    "subte = subte.reindex(columns = ['LINEA','geometry'])\n",
    "\n",
    "premetro = pd.read_csv('../carto/insumos/estaciones-premetro.csv')\n",
    "premetro = gpd.GeoDataFrame(\n",
    "    premetro, geometry=gpd.points_from_xy(premetro['long'], premetro.lat),crs='EPSG:4326')\n",
    "premetro = premetro.reindex(columns = ['linea','geometry'])\n",
    "premetro.columns = ['LINEA','geometry']\n",
    "\n",
    "subte = pd.concat([subte,premetro])\n",
    "subte['MEDIO'] = 'SUB'\n",
    "#todas las lineas de subte se van a llamar subte porque puedo tener cualquier estacion como destino\n",
    "#, sin importar la linea. A los efectos del algoritmo, el SUBTE es una unica linea\n",
    "subte['LINEA'] = 'SUBTE'"
   ]
  },
  {
   "cell_type": "code",
   "execution_count": 10,
   "metadata": {},
   "outputs": [
    {
     "data": {
      "text/html": [
       "<div>\n",
       "<style scoped>\n",
       "    .dataframe tbody tr th:only-of-type {\n",
       "        vertical-align: middle;\n",
       "    }\n",
       "\n",
       "    .dataframe tbody tr th {\n",
       "        vertical-align: top;\n",
       "    }\n",
       "\n",
       "    .dataframe thead th {\n",
       "        text-align: right;\n",
       "    }\n",
       "</style>\n",
       "<table border=\"1\" class=\"dataframe\">\n",
       "  <thead>\n",
       "    <tr style=\"text-align: right;\">\n",
       "      <th></th>\n",
       "      <th>LINEA</th>\n",
       "    </tr>\n",
       "  </thead>\n",
       "  <tbody>\n",
       "    <tr>\n",
       "      <th>0</th>\n",
       "      <td>FERROVIAS S.A.</td>\n",
       "    </tr>\n",
       "    <tr>\n",
       "      <th>1</th>\n",
       "      <td>SOFSE- SARMIENTO</td>\n",
       "    </tr>\n",
       "    <tr>\n",
       "      <th>2</th>\n",
       "      <td>SOFSE - Mitre</td>\n",
       "    </tr>\n",
       "    <tr>\n",
       "      <th>3</th>\n",
       "      <td>SOFSE - San Martin</td>\n",
       "    </tr>\n",
       "    <tr>\n",
       "      <th>4</th>\n",
       "      <td>METROVIAS S.A. (URQUIZA)</td>\n",
       "    </tr>\n",
       "    <tr>\n",
       "      <th>5</th>\n",
       "      <td>SOFSE - Roca</td>\n",
       "    </tr>\n",
       "    <tr>\n",
       "      <th>6</th>\n",
       "      <td>SOFSE - Belgrano Sur</td>\n",
       "    </tr>\n",
       "  </tbody>\n",
       "</table>\n",
       "</div>"
      ],
      "text/plain": [
       "                      LINEA\n",
       "0            FERROVIAS S.A.\n",
       "1          SOFSE- SARMIENTO\n",
       "2             SOFSE - Mitre\n",
       "3        SOFSE - San Martin\n",
       "4  METROVIAS S.A. (URQUIZA)\n",
       "5              SOFSE - Roca\n",
       "6      SOFSE - Belgrano Sur"
      ]
     },
     "execution_count": 10,
     "metadata": {},
     "output_type": "execute_result"
    }
   ],
   "source": [
    "# traer modos\n",
    "sql = \"\"\"\n",
    "select distinct t.\"LINEA\"\n",
    "from public.trx t\n",
    "where t.\"MEDIO\" = 'TRE'\n",
    "\"\"\"\n",
    "lineas_ffcc_trx = pd.read_sql(sql, conn)\n",
    "lineas_ffcc_trx"
   ]
  },
  {
   "cell_type": "code",
   "execution_count": 11,
   "metadata": {},
   "outputs": [],
   "source": [
    "ffcc = gpd.read_file('../carto/insumos/rmba-ferrocarril-estaciones/')\n",
    "ffcc = ffcc.loc[ffcc.Tipo=='Estación',['Línea','geometry']]\n",
    "ffcc.columns = ['LINEA','geometry']\n",
    "ffcc['MEDIO'] = 'TRE'"
   ]
  },
  {
   "cell_type": "code",
   "execution_count": 12,
   "metadata": {},
   "outputs": [
    {
     "data": {
      "text/plain": [
       "array(['Mitre', 'Sarmiento', 'Roca', 'Belgrano Sur', 'San Martín',\n",
       "       'Belgrano Norte', 'Urquiza'], dtype=object)"
      ]
     },
     "execution_count": 12,
     "metadata": {},
     "output_type": "execute_result"
    }
   ],
   "source": [
    "ffcc.LINEA.unique()"
   ]
  },
  {
   "cell_type": "code",
   "execution_count": 13,
   "metadata": {},
   "outputs": [],
   "source": [
    "ffcc_equivalencias = {'Mitre':'SOFSE - Mitre',\n",
    "                      'Sarmiento':'SOFSE- SARMIENTO',\n",
    "                      'Roca':'SOFSE - Roca',\n",
    "                      'Belgrano Sur':'SOFSE - Belgrano Sur',\n",
    "                      'San Martín':'SOFSE - San Martin',\n",
    "                      'Belgrano Norte':'FERROVIAS S.A.',\n",
    "                      'Urquiza':'METROVIAS S.A. (URQUIZA)'}"
   ]
  },
  {
   "cell_type": "code",
   "execution_count": 14,
   "metadata": {},
   "outputs": [],
   "source": [
    "ffcc.LINEA = ffcc.LINEA.replace(ffcc_equivalencias)"
   ]
  },
  {
   "cell_type": "code",
   "execution_count": 15,
   "metadata": {},
   "outputs": [
    {
     "data": {
      "text/html": [
       "<div>\n",
       "<style scoped>\n",
       "    .dataframe tbody tr th:only-of-type {\n",
       "        vertical-align: middle;\n",
       "    }\n",
       "\n",
       "    .dataframe tbody tr th {\n",
       "        vertical-align: top;\n",
       "    }\n",
       "\n",
       "    .dataframe thead th {\n",
       "        text-align: right;\n",
       "    }\n",
       "</style>\n",
       "<table border=\"1\" class=\"dataframe\">\n",
       "  <thead>\n",
       "    <tr style=\"text-align: right;\">\n",
       "      <th></th>\n",
       "      <th>LINEA</th>\n",
       "    </tr>\n",
       "  </thead>\n",
       "  <tbody>\n",
       "    <tr>\n",
       "      <th>0</th>\n",
       "      <td>True</td>\n",
       "    </tr>\n",
       "    <tr>\n",
       "      <th>1</th>\n",
       "      <td>True</td>\n",
       "    </tr>\n",
       "    <tr>\n",
       "      <th>2</th>\n",
       "      <td>True</td>\n",
       "    </tr>\n",
       "    <tr>\n",
       "      <th>3</th>\n",
       "      <td>True</td>\n",
       "    </tr>\n",
       "    <tr>\n",
       "      <th>4</th>\n",
       "      <td>True</td>\n",
       "    </tr>\n",
       "    <tr>\n",
       "      <th>5</th>\n",
       "      <td>True</td>\n",
       "    </tr>\n",
       "    <tr>\n",
       "      <th>6</th>\n",
       "      <td>True</td>\n",
       "    </tr>\n",
       "  </tbody>\n",
       "</table>\n",
       "</div>"
      ],
      "text/plain": [
       "   LINEA\n",
       "0   True\n",
       "1   True\n",
       "2   True\n",
       "3   True\n",
       "4   True\n",
       "5   True\n",
       "6   True"
      ]
     },
     "execution_count": 15,
     "metadata": {},
     "output_type": "execute_result"
    }
   ],
   "source": [
    "lineas_ffcc_trx.isin(ffcc.LINEA.unique())"
   ]
  },
  {
   "cell_type": "markdown",
   "metadata": {},
   "source": [
    "## Buses"
   ]
  },
  {
   "cell_type": "code",
   "execution_count": 16,
   "metadata": {},
   "outputs": [],
   "source": [
    "# nacionales\n",
    "bus_nac = gpd.read_file('../carto/insumos/lineas-nacionales/')\n",
    "bus_nac = bus_nac.reindex(columns = ['LINEA','geometry'])\n",
    "bus_nac = bus_nac.to_crs('EPSG:3857')\n",
    "\n",
    "paradas_bus_nac = pd.concat([convertir_recorridos_buses_paradas(fila) for i,fila in bus_nac.iterrows()])\n",
    "paradas_bus_nac.crs = 'EPSG:3857'\n",
    "paradas_bus_nac = paradas_bus_nac.to_crs('EPSG:4326')\n",
    "paradas_bus_nac['MEDIO'] = 'COL'\n",
    "\n",
    "# provinciales\n",
    "bus_prov = gpd.read_file('../carto/insumos/lineas-provinciales/')\n",
    "bus_prov = bus_prov.reindex(columns = ['LINEA','geometry'])\n",
    "bus_prov = bus_prov.to_crs('EPSG:3857')\n",
    "\n",
    "paradas_bus_prov = pd.concat([convertir_recorridos_buses_paradas(fila) for i,fila in bus_prov.iterrows()])\n",
    "paradas_bus_prov.crs = 'EPSG:3857'\n",
    "paradas_bus_prov = paradas_bus_prov.to_crs('EPSG:4326')\n",
    "paradas_bus_prov['MEDIO'] = 'COL'\n",
    "paradas_bus_prov.head()\n",
    "\n",
    "# municipales\n",
    "bus_muni = gpd.read_file('../carto/insumos/lineas-municipales/')\n",
    "bus_muni = bus_muni.reindex(columns = ['LINEA','geometry'])\n",
    "bus_muni = bus_muni.to_crs('EPSG:3857')\n",
    "\n",
    "paradas_bus_muni = pd.concat([convertir_recorridos_buses_paradas(fila) for i,fila in bus_muni.iterrows()])\n",
    "paradas_bus_muni.crs = 'EPSG:3857'\n",
    "paradas_bus_muni = paradas_bus_muni.to_crs('EPSG:4326')\n",
    "paradas_bus_muni['MEDIO'] = 'COL'"
   ]
  },
  {
   "cell_type": "code",
   "execution_count": 17,
   "metadata": {},
   "outputs": [],
   "source": [
    "bus = pd.concat([paradas_bus_muni,paradas_bus_prov,paradas_bus_nac])"
   ]
  },
  {
   "cell_type": "code",
   "execution_count": 18,
   "metadata": {},
   "outputs": [],
   "source": [
    "bus['LINEA'] = 'LINEA '+bus['LINEA'].map(str)"
   ]
  },
  {
   "cell_type": "code",
   "execution_count": 19,
   "metadata": {},
   "outputs": [
    {
     "data": {
      "text/html": [
       "<div>\n",
       "<style scoped>\n",
       "    .dataframe tbody tr th:only-of-type {\n",
       "        vertical-align: middle;\n",
       "    }\n",
       "\n",
       "    .dataframe tbody tr th {\n",
       "        vertical-align: top;\n",
       "    }\n",
       "\n",
       "    .dataframe thead th {\n",
       "        text-align: right;\n",
       "    }\n",
       "</style>\n",
       "<table border=\"1\" class=\"dataframe\">\n",
       "  <thead>\n",
       "    <tr style=\"text-align: right;\">\n",
       "      <th></th>\n",
       "      <th>LINEA</th>\n",
       "    </tr>\n",
       "  </thead>\n",
       "  <tbody>\n",
       "    <tr>\n",
       "      <th>0</th>\n",
       "      <td>LINEA 56</td>\n",
       "    </tr>\n",
       "    <tr>\n",
       "      <th>1</th>\n",
       "      <td>LINEA 34</td>\n",
       "    </tr>\n",
       "    <tr>\n",
       "      <th>2</th>\n",
       "      <td>LINEA 532</td>\n",
       "    </tr>\n",
       "    <tr>\n",
       "      <th>3</th>\n",
       "      <td>LINEA 511B</td>\n",
       "    </tr>\n",
       "    <tr>\n",
       "      <th>4</th>\n",
       "      <td>LINEA 26</td>\n",
       "    </tr>\n",
       "    <tr>\n",
       "      <th>...</th>\n",
       "      <td>...</td>\n",
       "    </tr>\n",
       "    <tr>\n",
       "      <th>378</th>\n",
       "      <td>LINEA 175</td>\n",
       "    </tr>\n",
       "    <tr>\n",
       "      <th>379</th>\n",
       "      <td>LINEA 84</td>\n",
       "    </tr>\n",
       "    <tr>\n",
       "      <th>380</th>\n",
       "      <td>LINEA 278</td>\n",
       "    </tr>\n",
       "    <tr>\n",
       "      <th>381</th>\n",
       "      <td>LINEA_NORTE MUNICIPAL</td>\n",
       "    </tr>\n",
       "    <tr>\n",
       "      <th>382</th>\n",
       "      <td>LINEA 621</td>\n",
       "    </tr>\n",
       "  </tbody>\n",
       "</table>\n",
       "<p>383 rows × 1 columns</p>\n",
       "</div>"
      ],
      "text/plain": [
       "                     LINEA\n",
       "0                 LINEA 56\n",
       "1                 LINEA 34\n",
       "2                LINEA 532\n",
       "3               LINEA 511B\n",
       "4                 LINEA 26\n",
       "..                     ...\n",
       "378              LINEA 175\n",
       "379               LINEA 84\n",
       "380              LINEA 278\n",
       "381  LINEA_NORTE MUNICIPAL\n",
       "382              LINEA 621\n",
       "\n",
       "[383 rows x 1 columns]"
      ]
     },
     "execution_count": 19,
     "metadata": {},
     "output_type": "execute_result"
    }
   ],
   "source": [
    "# traer modos\n",
    "sql = \"\"\"\n",
    "select distinct t.\"LINEA\"\n",
    "from public.trx t\n",
    "where t.\"MEDIO\" = 'COL'\n",
    "\"\"\"\n",
    "lineas_bus_trx = pd.read_sql(sql, conn)\n",
    "lineas_bus_trx"
   ]
  },
  {
   "cell_type": "code",
   "execution_count": 20,
   "metadata": {},
   "outputs": [
    {
     "data": {
      "text/plain": [
       "111"
      ]
     },
     "execution_count": 20,
     "metadata": {},
     "output_type": "execute_result"
    }
   ],
   "source": [
    "#faltan 1/3\n",
    "lineas_faltantes = lineas_bus_trx[~lineas_bus_trx.isin(bus.LINEA.unique()).values]\n",
    "len(lineas_faltantes)"
   ]
  },
  {
   "cell_type": "code",
   "execution_count": 21,
   "metadata": {},
   "outputs": [],
   "source": [
    "#separar las municipales y ver si se puede usar alguna forma de detectar a que linea pertenecen"
   ]
  },
  {
   "cell_type": "code",
   "execution_count": 22,
   "metadata": {},
   "outputs": [],
   "source": [
    "no_500 = lineas_faltantes.LINEA.map(lambda s: s[:7] != 'LINEA 5')\n",
    "si_500 = ~no_500"
   ]
  },
  {
   "cell_type": "code",
   "execution_count": 23,
   "metadata": {},
   "outputs": [
    {
     "data": {
      "text/html": [
       "<div>\n",
       "<style scoped>\n",
       "    .dataframe tbody tr th:only-of-type {\n",
       "        vertical-align: middle;\n",
       "    }\n",
       "\n",
       "    .dataframe tbody tr th {\n",
       "        vertical-align: top;\n",
       "    }\n",
       "\n",
       "    .dataframe thead th {\n",
       "        text-align: right;\n",
       "    }\n",
       "</style>\n",
       "<table border=\"1\" class=\"dataframe\">\n",
       "  <thead>\n",
       "    <tr style=\"text-align: right;\">\n",
       "      <th></th>\n",
       "      <th>LINEA</th>\n",
       "    </tr>\n",
       "  </thead>\n",
       "  <tbody>\n",
       "    <tr>\n",
       "      <th>2</th>\n",
       "      <td>LINEA 532</td>\n",
       "    </tr>\n",
       "    <tr>\n",
       "      <th>3</th>\n",
       "      <td>LINEA 511B</td>\n",
       "    </tr>\n",
       "    <tr>\n",
       "      <th>7</th>\n",
       "      <td>LINEA 505A</td>\n",
       "    </tr>\n",
       "    <tr>\n",
       "      <th>15</th>\n",
       "      <td>LINEA 561B</td>\n",
       "    </tr>\n",
       "    <tr>\n",
       "      <th>27</th>\n",
       "      <td>LINEA 503A BS AS</td>\n",
       "    </tr>\n",
       "  </tbody>\n",
       "</table>\n",
       "</div>"
      ],
      "text/plain": [
       "               LINEA\n",
       "2          LINEA 532\n",
       "3         LINEA 511B\n",
       "7         LINEA 505A\n",
       "15        LINEA 561B\n",
       "27  LINEA 503A BS AS"
      ]
     },
     "execution_count": 23,
     "metadata": {},
     "output_type": "execute_result"
    }
   ],
   "source": [
    "lineas_faltantes[si_500].head()"
   ]
  },
  {
   "cell_type": "code",
   "execution_count": 24,
   "metadata": {},
   "outputs": [
    {
     "data": {
      "text/html": [
       "<div>\n",
       "<style scoped>\n",
       "    .dataframe tbody tr th:only-of-type {\n",
       "        vertical-align: middle;\n",
       "    }\n",
       "\n",
       "    .dataframe tbody tr th {\n",
       "        vertical-align: top;\n",
       "    }\n",
       "\n",
       "    .dataframe thead th {\n",
       "        text-align: right;\n",
       "    }\n",
       "</style>\n",
       "<table border=\"1\" class=\"dataframe\">\n",
       "  <thead>\n",
       "    <tr style=\"text-align: right;\">\n",
       "      <th></th>\n",
       "      <th>LINEA</th>\n",
       "    </tr>\n",
       "  </thead>\n",
       "  <tbody>\n",
       "    <tr>\n",
       "      <th>16</th>\n",
       "      <td>LINEA 202</td>\n",
       "    </tr>\n",
       "    <tr>\n",
       "      <th>19</th>\n",
       "      <td>LINEA 174 BS AS</td>\n",
       "    </tr>\n",
       "    <tr>\n",
       "      <th>23</th>\n",
       "      <td>LINEA 355</td>\n",
       "    </tr>\n",
       "    <tr>\n",
       "      <th>28</th>\n",
       "      <td>LINEA 288</td>\n",
       "    </tr>\n",
       "    <tr>\n",
       "      <th>43</th>\n",
       "      <td>LINEA 237A</td>\n",
       "    </tr>\n",
       "  </tbody>\n",
       "</table>\n",
       "</div>"
      ],
      "text/plain": [
       "              LINEA\n",
       "16        LINEA 202\n",
       "19  LINEA 174 BS AS\n",
       "23        LINEA 355\n",
       "28        LINEA 288\n",
       "43       LINEA 237A"
      ]
     },
     "execution_count": 24,
     "metadata": {},
     "output_type": "execute_result"
    }
   ],
   "source": [
    "lineas_faltantes[no_500].head()"
   ]
  },
  {
   "cell_type": "code",
   "execution_count": 25,
   "metadata": {},
   "outputs": [
    {
     "data": {
      "text/html": [
       "<div>\n",
       "<style scoped>\n",
       "    .dataframe tbody tr th:only-of-type {\n",
       "        vertical-align: middle;\n",
       "    }\n",
       "\n",
       "    .dataframe tbody tr th {\n",
       "        vertical-align: top;\n",
       "    }\n",
       "\n",
       "    .dataframe thead th {\n",
       "        text-align: right;\n",
       "    }\n",
       "</style>\n",
       "<table border=\"1\" class=\"dataframe\">\n",
       "  <thead>\n",
       "    <tr style=\"text-align: right;\">\n",
       "      <th></th>\n",
       "      <th>LINEA</th>\n",
       "      <th>geometry</th>\n",
       "      <th>MEDIO</th>\n",
       "    </tr>\n",
       "  </thead>\n",
       "  <tbody>\n",
       "    <tr>\n",
       "      <th>0</th>\n",
       "      <td>LINEA 501</td>\n",
       "      <td>POINT (-58.38407 -34.88737)</td>\n",
       "      <td>COL</td>\n",
       "    </tr>\n",
       "    <tr>\n",
       "      <th>1</th>\n",
       "      <td>LINEA 501</td>\n",
       "      <td>POINT (-58.38771 -34.88767)</td>\n",
       "      <td>COL</td>\n",
       "    </tr>\n",
       "    <tr>\n",
       "      <th>2</th>\n",
       "      <td>LINEA 501</td>\n",
       "      <td>POINT (-58.39012 -34.88754)</td>\n",
       "      <td>COL</td>\n",
       "    </tr>\n",
       "    <tr>\n",
       "      <th>3</th>\n",
       "      <td>LINEA 501</td>\n",
       "      <td>POINT (-58.39024 -34.89055)</td>\n",
       "      <td>COL</td>\n",
       "    </tr>\n",
       "    <tr>\n",
       "      <th>4</th>\n",
       "      <td>LINEA 501</td>\n",
       "      <td>POINT (-58.39197 -34.89216)</td>\n",
       "      <td>COL</td>\n",
       "    </tr>\n",
       "  </tbody>\n",
       "</table>\n",
       "</div>"
      ],
      "text/plain": [
       "       LINEA                     geometry MEDIO\n",
       "0  LINEA 501  POINT (-58.38407 -34.88737)   COL\n",
       "1  LINEA 501  POINT (-58.38771 -34.88767)   COL\n",
       "2  LINEA 501  POINT (-58.39012 -34.88754)   COL\n",
       "3  LINEA 501  POINT (-58.39024 -34.89055)   COL\n",
       "4  LINEA 501  POINT (-58.39197 -34.89216)   COL"
      ]
     },
     "execution_count": 25,
     "metadata": {},
     "output_type": "execute_result"
    }
   ],
   "source": [
    "paradas = pd.concat([bus,ffcc,subte])\n",
    "paradas.head()"
   ]
  },
  {
   "cell_type": "code",
   "execution_count": 26,
   "metadata": {},
   "outputs": [
    {
     "data": {
      "text/plain": [
       "(178178, 3)"
      ]
     },
     "execution_count": 26,
     "metadata": {},
     "output_type": "execute_result"
    }
   ],
   "source": [
    "paradas.shape"
   ]
  },
  {
   "cell_type": "code",
   "execution_count": 30,
   "metadata": {},
   "outputs": [],
   "source": [
    "paradas.to_file('../carto/paradas.geojson',driver='GeoJSON')"
   ]
  },
  {
   "cell_type": "code",
   "execution_count": 31,
   "metadata": {},
   "outputs": [],
   "source": [
    "paradas['LATITUDE'] = paradas.geometry.y\n",
    "paradas['LONGITUDE'] = paradas.geometry.x\n",
    "paradas.drop('geometry',axis=1,inplace=True)"
   ]
  },
  {
   "cell_type": "code",
   "execution_count": 32,
   "metadata": {},
   "outputs": [],
   "source": [
    "conn.close()"
   ]
  },
  {
   "cell_type": "code",
   "execution_count": 33,
   "metadata": {},
   "outputs": [],
   "source": [
    "engine = create_engine('postgresql://{}:{}@{}:{}/{}'\n",
    "    .format(DB_USERNAME, DB_PASSWORD, DB_HOST,\n",
    "            DB_PORT, DB_NAME))"
   ]
  },
  {
   "cell_type": "code",
   "execution_count": 34,
   "metadata": {},
   "outputs": [
    {
     "name": "stdout",
     "output_type": "stream",
     "text": [
      "CPU times: user 37.9 s, sys: 144 ms, total: 38 s\n",
      "Wall time: 38 s\n"
     ]
    }
   ],
   "source": [
    "%time h3_paradas = h3_indexing(paradas.copy(),res_list = [5,12])"
   ]
  },
  {
   "cell_type": "code",
   "execution_count": 35,
   "metadata": {},
   "outputs": [
    {
     "data": {
      "text/html": [
       "<div>\n",
       "<style scoped>\n",
       "    .dataframe tbody tr th:only-of-type {\n",
       "        vertical-align: middle;\n",
       "    }\n",
       "\n",
       "    .dataframe tbody tr th {\n",
       "        vertical-align: top;\n",
       "    }\n",
       "\n",
       "    .dataframe thead th {\n",
       "        text-align: right;\n",
       "    }\n",
       "</style>\n",
       "<table border=\"1\" class=\"dataframe\">\n",
       "  <thead>\n",
       "    <tr style=\"text-align: right;\">\n",
       "      <th></th>\n",
       "      <th>LINEA</th>\n",
       "      <th>MEDIO</th>\n",
       "      <th>LATITUDE</th>\n",
       "      <th>LONGITUDE</th>\n",
       "      <th>h3_res_5</th>\n",
       "      <th>h3_res_6</th>\n",
       "      <th>h3_res_7</th>\n",
       "      <th>h3_res_8</th>\n",
       "      <th>h3_res_9</th>\n",
       "      <th>h3_res_10</th>\n",
       "      <th>h3_res_11</th>\n",
       "      <th>h3_res_12</th>\n",
       "    </tr>\n",
       "  </thead>\n",
       "  <tbody>\n",
       "    <tr>\n",
       "      <th>0</th>\n",
       "      <td>LINEA 501</td>\n",
       "      <td>COL</td>\n",
       "      <td>-34.887373</td>\n",
       "      <td>-58.384068</td>\n",
       "      <td>85c2e39bfffffff</td>\n",
       "      <td>86c2e3997ffffff</td>\n",
       "      <td>87c2e3994ffffff</td>\n",
       "      <td>88c2e39945fffff</td>\n",
       "      <td>89c2e399453ffff</td>\n",
       "      <td>8ac2e39945affff</td>\n",
       "      <td>8bc2e39945adfff</td>\n",
       "      <td>8cc2e39945ad1ff</td>\n",
       "    </tr>\n",
       "    <tr>\n",
       "      <th>1</th>\n",
       "      <td>LINEA 501</td>\n",
       "      <td>COL</td>\n",
       "      <td>-34.887670</td>\n",
       "      <td>-58.387713</td>\n",
       "      <td>85c2e39bfffffff</td>\n",
       "      <td>86c2e3997ffffff</td>\n",
       "      <td>87c2e3994ffffff</td>\n",
       "      <td>88c2e39945fffff</td>\n",
       "      <td>89c2e3994cfffff</td>\n",
       "      <td>8ac2e3994cdffff</td>\n",
       "      <td>8bc2e3994cdbfff</td>\n",
       "      <td>8cc2e3994cdb1ff</td>\n",
       "    </tr>\n",
       "    <tr>\n",
       "      <th>2</th>\n",
       "      <td>LINEA 501</td>\n",
       "      <td>COL</td>\n",
       "      <td>-34.887542</td>\n",
       "      <td>-58.390125</td>\n",
       "      <td>85c2e39bfffffff</td>\n",
       "      <td>86c2e3997ffffff</td>\n",
       "      <td>87c2e3994ffffff</td>\n",
       "      <td>88c2e39941fffff</td>\n",
       "      <td>89c2e39941bffff</td>\n",
       "      <td>8ac2e3994197fff</td>\n",
       "      <td>8bc2e39941b3fff</td>\n",
       "      <td>8cc2e3994194bff</td>\n",
       "    </tr>\n",
       "    <tr>\n",
       "      <th>3</th>\n",
       "      <td>LINEA 501</td>\n",
       "      <td>COL</td>\n",
       "      <td>-34.890546</td>\n",
       "      <td>-58.390244</td>\n",
       "      <td>85c2e39bfffffff</td>\n",
       "      <td>86c2e3997ffffff</td>\n",
       "      <td>87c2e3994ffffff</td>\n",
       "      <td>88c2e3994dfffff</td>\n",
       "      <td>89c2e3994c7ffff</td>\n",
       "      <td>8ac2e3994c77fff</td>\n",
       "      <td>8bc2e3994c76fff</td>\n",
       "      <td>8cc2e3994c763ff</td>\n",
       "    </tr>\n",
       "    <tr>\n",
       "      <th>4</th>\n",
       "      <td>LINEA 501</td>\n",
       "      <td>COL</td>\n",
       "      <td>-34.892161</td>\n",
       "      <td>-58.391970</td>\n",
       "      <td>85c2e39bfffffff</td>\n",
       "      <td>86c2e3997ffffff</td>\n",
       "      <td>87c2e3994ffffff</td>\n",
       "      <td>88c2e3994dfffff</td>\n",
       "      <td>89c2e3994d7ffff</td>\n",
       "      <td>8ac2e3994d47fff</td>\n",
       "      <td>8bc2e3994d45fff</td>\n",
       "      <td>8cc2e3994d45bff</td>\n",
       "    </tr>\n",
       "  </tbody>\n",
       "</table>\n",
       "</div>"
      ],
      "text/plain": [
       "       LINEA MEDIO   LATITUDE  LONGITUDE         h3_res_5         h3_res_6  \\\n",
       "0  LINEA 501   COL -34.887373 -58.384068  85c2e39bfffffff  86c2e3997ffffff   \n",
       "1  LINEA 501   COL -34.887670 -58.387713  85c2e39bfffffff  86c2e3997ffffff   \n",
       "2  LINEA 501   COL -34.887542 -58.390125  85c2e39bfffffff  86c2e3997ffffff   \n",
       "3  LINEA 501   COL -34.890546 -58.390244  85c2e39bfffffff  86c2e3997ffffff   \n",
       "4  LINEA 501   COL -34.892161 -58.391970  85c2e39bfffffff  86c2e3997ffffff   \n",
       "\n",
       "          h3_res_7         h3_res_8         h3_res_9        h3_res_10  \\\n",
       "0  87c2e3994ffffff  88c2e39945fffff  89c2e399453ffff  8ac2e39945affff   \n",
       "1  87c2e3994ffffff  88c2e39945fffff  89c2e3994cfffff  8ac2e3994cdffff   \n",
       "2  87c2e3994ffffff  88c2e39941fffff  89c2e39941bffff  8ac2e3994197fff   \n",
       "3  87c2e3994ffffff  88c2e3994dfffff  89c2e3994c7ffff  8ac2e3994c77fff   \n",
       "4  87c2e3994ffffff  88c2e3994dfffff  89c2e3994d7ffff  8ac2e3994d47fff   \n",
       "\n",
       "         h3_res_11        h3_res_12  \n",
       "0  8bc2e39945adfff  8cc2e39945ad1ff  \n",
       "1  8bc2e3994cdbfff  8cc2e3994cdb1ff  \n",
       "2  8bc2e39941b3fff  8cc2e3994194bff  \n",
       "3  8bc2e3994c76fff  8cc2e3994c763ff  \n",
       "4  8bc2e3994d45fff  8cc2e3994d45bff  "
      ]
     },
     "execution_count": 35,
     "metadata": {},
     "output_type": "execute_result"
    }
   ],
   "source": [
    "h3_paradas.head()"
   ]
  },
  {
   "cell_type": "code",
   "execution_count": 38,
   "metadata": {},
   "outputs": [],
   "source": [
    "h3_paradas.to_csv('../data/h3_paradas.csv',index=False)"
   ]
  },
  {
   "cell_type": "code",
   "execution_count": 42,
   "metadata": {},
   "outputs": [],
   "source": [
    "h3_paradas.to_sql('paradas', engine, schema=DB_SCHEMA,method='multi')"
   ]
  },
  {
   "cell_type": "code",
   "execution_count": 43,
   "metadata": {},
   "outputs": [],
   "source": [
    "h3_paradas = h3_paradas.reindex(columns = ['LINEA','MEDIO','h3_res_11'])\n",
    "h3_paradas = h3_paradas.drop_duplicates()"
   ]
  },
  {
   "cell_type": "code",
   "execution_count": 44,
   "metadata": {
    "scrolled": true
   },
   "outputs": [
    {
     "data": {
      "text/html": [
       "<div>\n",
       "<style scoped>\n",
       "    .dataframe tbody tr th:only-of-type {\n",
       "        vertical-align: middle;\n",
       "    }\n",
       "\n",
       "    .dataframe tbody tr th {\n",
       "        vertical-align: top;\n",
       "    }\n",
       "\n",
       "    .dataframe thead th {\n",
       "        text-align: right;\n",
       "    }\n",
       "</style>\n",
       "<table border=\"1\" class=\"dataframe\">\n",
       "  <thead>\n",
       "    <tr style=\"text-align: right;\">\n",
       "      <th></th>\n",
       "      <th>h3_index</th>\n",
       "      <th>geometry</th>\n",
       "      <th>LINEA</th>\n",
       "      <th>MEDIO</th>\n",
       "      <th>h3_res_11</th>\n",
       "    </tr>\n",
       "  </thead>\n",
       "  <tbody>\n",
       "    <tr>\n",
       "      <th>0</th>\n",
       "      <td>8bc2e39945adfff</td>\n",
       "      <td>POLYGON ((-58.38390 -34.88754, -58.38375 -34.8...</td>\n",
       "      <td>LINEA 501</td>\n",
       "      <td>COL</td>\n",
       "      <td>8bc2e39945adfff</td>\n",
       "    </tr>\n",
       "    <tr>\n",
       "      <th>1</th>\n",
       "      <td>8bc2e39945adfff</td>\n",
       "      <td>POLYGON ((-58.38390 -34.88754, -58.38375 -34.8...</td>\n",
       "      <td>LINEA 506</td>\n",
       "      <td>COL</td>\n",
       "      <td>8bc2e39945adfff</td>\n",
       "    </tr>\n",
       "    <tr>\n",
       "      <th>2</th>\n",
       "      <td>8bc2e3994cdbfff</td>\n",
       "      <td>POLYGON ((-58.38767 -34.88785, -58.38752 -34.8...</td>\n",
       "      <td>LINEA 501</td>\n",
       "      <td>COL</td>\n",
       "      <td>8bc2e3994cdbfff</td>\n",
       "    </tr>\n",
       "    <tr>\n",
       "      <th>3</th>\n",
       "      <td>8bc2e3994cdbfff</td>\n",
       "      <td>POLYGON ((-58.38767 -34.88785, -58.38752 -34.8...</td>\n",
       "      <td>LINEA 506</td>\n",
       "      <td>COL</td>\n",
       "      <td>8bc2e3994cdbfff</td>\n",
       "    </tr>\n",
       "    <tr>\n",
       "      <th>4</th>\n",
       "      <td>8bc2e39941b3fff</td>\n",
       "      <td>POLYGON ((-58.39017 -34.88783, -58.39002 -34.8...</td>\n",
       "      <td>LINEA 501</td>\n",
       "      <td>COL</td>\n",
       "      <td>8bc2e39941b3fff</td>\n",
       "    </tr>\n",
       "  </tbody>\n",
       "</table>\n",
       "</div>"
      ],
      "text/plain": [
       "          h3_index                                           geometry  \\\n",
       "0  8bc2e39945adfff  POLYGON ((-58.38390 -34.88754, -58.38375 -34.8...   \n",
       "1  8bc2e39945adfff  POLYGON ((-58.38390 -34.88754, -58.38375 -34.8...   \n",
       "2  8bc2e3994cdbfff  POLYGON ((-58.38767 -34.88785, -58.38752 -34.8...   \n",
       "3  8bc2e3994cdbfff  POLYGON ((-58.38767 -34.88785, -58.38752 -34.8...   \n",
       "4  8bc2e39941b3fff  POLYGON ((-58.39017 -34.88783, -58.39002 -34.8...   \n",
       "\n",
       "       LINEA MEDIO        h3_res_11  \n",
       "0  LINEA 501   COL  8bc2e39945adfff  \n",
       "1  LINEA 506   COL  8bc2e39945adfff  \n",
       "2  LINEA 501   COL  8bc2e3994cdbfff  \n",
       "3  LINEA 506   COL  8bc2e3994cdbfff  \n",
       "4  LINEA 501   COL  8bc2e39941b3fff  "
      ]
     },
     "execution_count": 44,
     "metadata": {},
     "output_type": "execute_result"
    }
   ],
   "source": [
    "# plotear el mapa de hexagrillas de paradas\n",
    "lista_indices_global = h3_paradas.h3_res_11.unique()\n",
    "geo_df = gpd.GeoDataFrame(lista_indices_global,\n",
    "                          geometry = [Polygon(h3.h3_to_geo_boundary(h3_address=h, geo_json=True)\n",
    "                                                                   ) for h in lista_indices_global],\n",
    "                          crs = 'EPSG:4326')\n",
    "geo_df.columns=['h3_index','geometry']\n",
    "geo_df = geo_df.merge(h3_paradas,left_on = 'h3_index',right_on = 'h3_res_11',how='inner')\n",
    "geo_df.to_file('../carto/carto_paradas_hex_res_11.geojson',driver='GeoJSON')\n",
    "\n",
    "geo_df.head()"
   ]
  },
  {
   "cell_type": "code",
   "execution_count": null,
   "metadata": {},
   "outputs": [],
   "source": []
  }
 ],
 "metadata": {
  "kernelspec": {
   "display_name": "sube_od",
   "language": "python",
   "name": "sube_od"
  },
  "language_info": {
   "codemirror_mode": {
    "name": "ipython",
    "version": 3
   },
   "file_extension": ".py",
   "mimetype": "text/x-python",
   "name": "python",
   "nbconvert_exporter": "python",
   "pygments_lexer": "ipython3",
   "version": "3.7.6"
  }
 },
 "nbformat": 4,
 "nbformat_minor": 4
}
