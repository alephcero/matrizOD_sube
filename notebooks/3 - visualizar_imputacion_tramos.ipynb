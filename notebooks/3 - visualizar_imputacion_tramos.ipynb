{
 "cells": [
  {
   "cell_type": "code",
   "execution_count": null,
   "metadata": {},
   "outputs": [],
   "source": [
    "import pandas as pd\n",
    "import geopandas as gpd\n",
    "from shapely.geometry import LineString, Point\n",
    "import yaml \n",
    "import numpy as np\n",
    "import folium\n",
    "from pyproj import Proj, transform\n",
    "from h3 import h3\n",
    "import psycopg2\n",
    "import matplotlib.pyplot as plt\n",
    "%matplotlib inline"
   ]
  },
  {
   "cell_type": "code",
   "execution_count": null,
   "metadata": {},
   "outputs": [],
   "source": [
    "paradas.head()"
   ]
  },
  {
   "cell_type": "code",
   "execution_count": null,
   "metadata": {},
   "outputs": [],
   "source": [
    "def visualizar_tramo_folium(tramos,id_tramo):\n",
    "\n",
    "    tramo1 = tramos.loc[tramos.id_tramo==id_tramo,:].iloc[0]\n",
    "\n",
    "    #si no hay origen siguiente, tomo el primero del dia \n",
    "    if id_tramo == tramos.id_tramo.iloc[-1]:\n",
    "        origen_siguiente = tramos.id_tramo.iloc[0]\n",
    "    else:\n",
    "        origen_siguiente = id_tramo+1\n",
    "        \n",
    "    tramo2 = tramos.loc[tramos.id_tramo==origen_siguiente,:].iloc[0]\n",
    "    \n",
    "    \n",
    "    if tramo1.d_h3 is None:\n",
    "        pass\n",
    "    else:\n",
    "        tramo1.lat_d = h3.h3_to_geo(tramo1.d_h3)[0]\n",
    "        tramo1.lon_d = h3.h3_to_geo(tramo1.d_h3)[1]\n",
    "        \n",
    "    #linea_trx = tramo1.linea\n",
    "    \n",
    "    #if linea_trx in equivalencias.keys():\n",
    "    #    linea_carto = equivalencias[linea_trx]\n",
    "    #else:\n",
    "    #    linea_carto = linea_trx\n",
    "    ramal_trx = tramo1.id_ramal\n",
    "    linea_trx = paradas.loc[paradas.id_ramal == ramal_trx,'id_linea'].unique()\n",
    "    paradas_destino_posibles = paradas.loc[paradas.id_linea.isin(linea_trx),['lat','lon']]\n",
    "    #paradas_destino_posibles = paradas.loc[paradas.LINEA == linea_carto,['LATITUDE','LONGITUDE']]\n",
    "    \n",
    "    if tramo1.d_h3 is None:\n",
    "        miny = min(tramo1.o_lat, tramo2.o_lat) - 0.06\n",
    "        maxy = max(tramo1.o_lat, tramo2.o_lat) + 0.06\n",
    "        minx = min(tramo1.o_lon, tramo2.o_lon) - 0.06\n",
    "        maxx = max(tramo1.o_lon, tramo2.o_lon) + 0.06\n",
    "    else:\n",
    "        miny = min(tramo1.o_lat, tramo2.o_lat) - 0.06\n",
    "        maxy = max(tramo1.o_lat, tramo2.o_lat) + 0.06\n",
    "        minx = min(tramo1.o_lon, tramo2.o_lon) - 0.06\n",
    "        maxx = max(tramo1.o_lon, tramo2.o_lon) + 0.06\n",
    "\n",
    "\n",
    "    x_centro,y_centro = minx + ((maxx - minx)/2),miny + ((maxy - miny)/2)\n",
    "\n",
    "    m = folium.Map(\n",
    "        location=[y_centro,x_centro],\n",
    "        zoom_start=12,\n",
    "        tiles='cartodbpositron'\n",
    "    )\n",
    "    \n",
    "    for i in paradas_destino_posibles.index:\n",
    "        folium.CircleMarker(\n",
    "            radius=1,\n",
    "            location=[paradas_destino_posibles.lat.loc[i],paradas_destino_posibles.lon.loc[i]],\n",
    "            color='black',\n",
    "            fill=True,\n",
    "            fill_color='black'\n",
    "        ).add_to(m)\n",
    "        \n",
    "        \n",
    "    folium.Circle(\n",
    "        radius=100,\n",
    "        location=[tramo1.o_lat,tramo1.o_lon],\n",
    "        popup='Origen '+str(tramo1.hora),\n",
    "        color='crimson',\n",
    "        fill=False,\n",
    "    ).add_to(m)\n",
    "    \n",
    "    if tramo1.d_h3 is None:\n",
    "        pass\n",
    "    else:\n",
    "\n",
    "        folium.Marker(\n",
    "            location=[tramo1.lat_d,tramo1.lon_d],\n",
    "            popup='Destino',\n",
    "            icon=folium.Icon(icon='glyphicon-remove-circle',color='red')\n",
    "        ).add_to(m)\n",
    "    \n",
    "    \n",
    "    folium.Circle(\n",
    "        radius=100,\n",
    "        location=[tramo2.o_lat,tramo2.o_lon],\n",
    "        popup='Origen 2 '+str(tramo2.hora),\n",
    "        color='grey',\n",
    "        fill=False,\n",
    "    ).add_to(m)\n",
    "\n",
    "                  \n",
    "    return m"
   ]
  },
  {
   "cell_type": "code",
   "execution_count": null,
   "metadata": {},
   "outputs": [],
   "source": [
    "DB_USERNAME = 'sube_user'\n",
    "DB_PASSWORD = 'sube_pass'\n",
    "DB_HOST = 'localhost'\n",
    "DB_PORT = '5432'\n",
    "DB_NAME = 'sube'\n",
    "DB_SCHEMA = 'public'"
   ]
  },
  {
   "cell_type": "code",
   "execution_count": null,
   "metadata": {},
   "outputs": [],
   "source": [
    "resolucion = 10"
   ]
  },
  {
   "cell_type": "code",
   "execution_count": null,
   "metadata": {},
   "outputs": [],
   "source": [
    "# Conectar a la db\n",
    "conn = psycopg2.connect(user = DB_USERNAME,\n",
    "                                      password = DB_PASSWORD,\n",
    "                                      host = DB_HOST,\n",
    "                                      port = DB_PORT,\n",
    "                                      database = DB_NAME)"
   ]
  },
  {
   "cell_type": "code",
   "execution_count": null,
   "metadata": {},
   "outputs": [],
   "source": [
    "q = \"\"\"\n",
    "select *\n",
    "from paradas p\n",
    "\"\"\"\n",
    "paradas = pd.read_sql(q, conn)"
   ]
  },
  {
   "cell_type": "code",
   "execution_count": null,
   "metadata": {},
   "outputs": [],
   "source": [
    "paradas.head()"
   ]
  },
  {
   "cell_type": "code",
   "execution_count": null,
   "metadata": {},
   "outputs": [],
   "source": [
    "#traer tramos de 10 tarjetas que hayan usado la linea b\n",
    "query = \"\"\"\n",
    "select *\n",
    "from tramos\n",
    "where id_tarjeta in (37030200,\n",
    "  37030272,\n",
    "  37030633,\n",
    "  37032074,\n",
    "  37032172,\n",
    "  37032419,\n",
    "  37032508,\n",
    "  37033376,\n",
    "  37034039,\n",
    "  37034278)\n",
    "order by id_tarjeta,id_viaje,id_tramo;\n",
    "\"\"\"\n",
    "tramos = pd.read_sql(query, conn)\n",
    "tramos.head()"
   ]
  },
  {
   "cell_type": "code",
   "execution_count": null,
   "metadata": {},
   "outputs": [],
   "source": [
    "tramo = tramos.loc[tramos.id_tarjeta == 37034039]\n",
    "tramo"
   ]
  },
  {
   "cell_type": "code",
   "execution_count": null,
   "metadata": {},
   "outputs": [],
   "source": [
    "visualizar_tramo_folium(tramos = tramo,id_tramo = 1)"
   ]
  },
  {
   "cell_type": "code",
   "execution_count": null,
   "metadata": {},
   "outputs": [],
   "source": []
  },
  {
   "cell_type": "code",
   "execution_count": null,
   "metadata": {},
   "outputs": [],
   "source": []
  },
  {
   "cell_type": "code",
   "execution_count": null,
   "metadata": {},
   "outputs": [],
   "source": []
  },
  {
   "cell_type": "code",
   "execution_count": null,
   "metadata": {},
   "outputs": [],
   "source": []
  },
  {
   "cell_type": "code",
   "execution_count": null,
   "metadata": {},
   "outputs": [],
   "source": []
  },
  {
   "cell_type": "code",
   "execution_count": null,
   "metadata": {},
   "outputs": [],
   "source": [
    "def visualizar_tramo_folium(tramos,tramo_id):\n",
    "\n",
    "    tramo1 = tramos.loc[tramos.tramo_id==tramo_id,:].iloc[0]\n",
    "\n",
    "    #si no hay origen siguiente, tomo el primero del dia \n",
    "    if tramo_id == tramos.tramo_id.iloc[-1]:\n",
    "        origen_siguiente = tramos.tramo_id.iloc[0]\n",
    "    else:\n",
    "        origen_siguiente = tramo_id+1\n",
    "        \n",
    "    tramo2 = tramos.loc[tramos.tramo_id==origen_siguiente,:].iloc[0]\n",
    "    \n",
    "    \n",
    "    if tramo1.h3_d is None:\n",
    "        pass\n",
    "    else:\n",
    "        tramo1.lat_d = h3.h3_to_geo(tramo1.h3_d)[0]\n",
    "        tramo1.lon_d = h3.h3_to_geo(tramo1.h3_d)[1]\n",
    "        \n",
    "    linea_trx = tramo1.linea\n",
    "    \n",
    "    if linea_trx in equivalencias.keys():\n",
    "        linea_carto = equivalencias[linea_trx]\n",
    "    else:\n",
    "        linea_carto = linea_trx\n",
    "    \n",
    "    paradas_destino_posibles = paradas.loc[paradas.LINEA == linea_carto,['LATITUDE','LONGITUDE']]\n",
    "    if tramo1.h3_d is None:\n",
    "        miny = min(tramo1.lat_o, tramo2.lat_o) - 0.06\n",
    "        maxy = max(tramo1.lat_o, tramo2.lat_o) + 0.06\n",
    "        minx = min(tramo1.lon_o, tramo2.lon_o) - 0.06\n",
    "        maxx = max(tramo1.lon_o, tramo2.lon_o) + 0.06\n",
    "    else:\n",
    "        miny = min(tramo1.lat_o, tramo2.lat_o) - 0.06\n",
    "        maxy = max(tramo1.lat_o, tramo2.lat_o) + 0.06\n",
    "        minx = min(tramo1.lon_o, tramo2.lon_o) - 0.06\n",
    "        maxx = max(tramo1.lon_o, tramo2.lon_o) + 0.06\n",
    "\n",
    "\n",
    "    x_centro,y_centro = minx + ((maxx - minx)/2),miny + ((maxy - miny)/2)\n",
    "\n",
    "    m = folium.Map(\n",
    "        location=[y_centro,x_centro],\n",
    "        zoom_start=12,\n",
    "        tiles='cartodbpositron'\n",
    "    )\n",
    "    \n",
    "    for i in paradas_destino_posibles.index:\n",
    "        folium.CircleMarker(\n",
    "            radius=1,\n",
    "            location=[paradas_destino_posibles.LATITUDE.loc[i],paradas_destino_posibles.LONGITUDE.loc[i]],\n",
    "            color='black',\n",
    "            fill=True,\n",
    "            fill_color='black'\n",
    "        ).add_to(m)\n",
    "        \n",
    "        \n",
    "    folium.Circle(\n",
    "        radius=100,\n",
    "        location=[tramo1.lat_o,tramo1.lon_o],\n",
    "        popup='Origen '+str(tramo1.fecha).split(' ')[1],\n",
    "        color='crimson',\n",
    "        fill=False,\n",
    "    ).add_to(m)\n",
    "    \n",
    "    if tramo1.h3_d is None:\n",
    "        pass\n",
    "    else:\n",
    "\n",
    "        folium.Marker(\n",
    "            location=[tramo1.lat_d,tramo1.lon_d],\n",
    "            popup='Destino',\n",
    "            icon=folium.Icon(icon='glyphicon-remove-circle',color='red')\n",
    "        ).add_to(m)\n",
    "    \n",
    "    \n",
    "    folium.Circle(\n",
    "        radius=100,\n",
    "        location=[tramo2.lat_o,tramo2.lon_o],\n",
    "        popup='Origen 2 '+str(tramo2.fecha).split(' ')[1],\n",
    "        color='grey',\n",
    "        fill=False,\n",
    "    ).add_to(m)\n",
    "\n",
    "                  \n",
    "    return m"
   ]
  },
  {
   "cell_type": "code",
   "execution_count": null,
   "metadata": {},
   "outputs": [],
   "source": [
    "with open('../recorridos_equivalencias.yaml') as file:\n",
    "    equivalencias = yaml.load(file, Loader=yaml.FullLoader)"
   ]
  },
  {
   "cell_type": "code",
   "execution_count": null,
   "metadata": {},
   "outputs": [],
   "source": [
    "visualizar_tramo_folium(tramos,5)"
   ]
  },
  {
   "cell_type": "code",
   "execution_count": null,
   "metadata": {},
   "outputs": [],
   "source": []
  },
  {
   "cell_type": "code",
   "execution_count": null,
   "metadata": {},
   "outputs": [],
   "source": []
  },
  {
   "cell_type": "code",
   "execution_count": null,
   "metadata": {},
   "outputs": [],
   "source": [
    "q = \"\"\"\n",
    "select p.\"LINEA\", p.\"LATITUDE\",p.\"LONGITUDE\",p.\"h3_res_%i\"\n",
    "from paradas p\n",
    "\"\"\"%resolucion\n",
    "paradas = pd.read_sql(q, conn)"
   ]
  },
  {
   "cell_type": "code",
   "execution_count": null,
   "metadata": {},
   "outputs": [],
   "source": [
    "# traer trx de tarjetas que hayan pasado por la B SIN MISSING\n",
    "q = \"\"\"\n",
    "select distinct tarjeta\n",
    "FROM tramos_linea_b\n",
    "where h3_d is not null\n",
    "\"\"\"\n",
    "tarjetas_con_destino = pd.read_sql(q, conn)"
   ]
  },
  {
   "cell_type": "code",
   "execution_count": null,
   "metadata": {},
   "outputs": [],
   "source": [
    "# traer trx de tarjetas que hayan pasado por la B CON MISSING\n",
    "q = \"\"\"\n",
    "select distinct tarjeta\n",
    "FROM tramos_linea_b\n",
    "where h3_d is null\n",
    "\"\"\"\n",
    "tarjetas_con_destino = pd.read_sql(q, conn)"
   ]
  },
  {
   "cell_type": "code",
   "execution_count": null,
   "metadata": {},
   "outputs": [],
   "source": [
    "# traer trx de tarjetas que hayan pasado por la B \n",
    "q = \"\"\"\n",
    "select distinct tarjeta\n",
    "FROM tramos_linea_b\n",
    "\"\"\"\n",
    "tarjetas_con_destino = pd.read_sql(q, conn)"
   ]
  },
  {
   "cell_type": "code",
   "execution_count": null,
   "metadata": {},
   "outputs": [],
   "source": [
    "#1263039 combina tren bus y subte\n",
    "#1233654 tipico pendular\n",
    "#1248216 ejemplo de perder un caso\n",
    "#18082 ejemplo de perder un caso porque camina mucho (actividad mediante quizas)\n",
    "#9099909 ejemplo de tarjeta que no respeta el ultimo viaje con destino \n",
    "tarjeta = tarjetas_con_destino.sample(1).iloc[0,0]"
   ]
  },
  {
   "cell_type": "code",
   "execution_count": null,
   "metadata": {},
   "outputs": [],
   "source": [
    "tarjeta = 147"
   ]
  },
  {
   "cell_type": "code",
   "execution_count": null,
   "metadata": {
    "scrolled": true
   },
   "outputs": [],
   "source": [
    "q = \"\"\"\n",
    "select *\n",
    "FROM tramos_linea_b\n",
    "where tarjeta = %i\n",
    "order by tramo_id\n",
    "\"\"\"%tarjeta\n",
    "tramos = pd.read_sql(q, conn)\n",
    "tramos.sort_values('tramo_id').iloc[:,1:]"
   ]
  },
  {
   "cell_type": "code",
   "execution_count": null,
   "metadata": {},
   "outputs": [],
   "source": [
    "visualizar_tramo_folium(tramos,5)"
   ]
  },
  {
   "cell_type": "code",
   "execution_count": null,
   "metadata": {},
   "outputs": [],
   "source": []
  }
 ],
 "metadata": {
  "kernelspec": {
   "display_name": "sube_od",
   "language": "python",
   "name": "sube_od"
  },
  "language_info": {
   "codemirror_mode": {
    "name": "ipython",
    "version": 3
   },
   "file_extension": ".py",
   "mimetype": "text/x-python",
   "name": "python",
   "nbconvert_exporter": "python",
   "pygments_lexer": "ipython3",
   "version": "3.7.6"
  }
 },
 "nbformat": 4,
 "nbformat_minor": 2
}
