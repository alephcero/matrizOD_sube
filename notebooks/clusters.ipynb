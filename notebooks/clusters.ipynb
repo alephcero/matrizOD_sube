{
 "cells": [
  {
   "cell_type": "code",
   "execution_count": 1,
   "metadata": {},
   "outputs": [],
   "source": [
    "import pandas as pd\n",
    "import numpy as np\n",
    "import yaml\n",
    "from h3 import h3\n",
    "from sklearn.cluster import DBSCAN\n",
    "from sqlalchemy import create_engine\n",
    "import psycopg2\n",
    "import folium\n"
   ]
  },
  {
   "cell_type": "code",
   "execution_count": 2,
   "metadata": {},
   "outputs": [],
   "source": [
    "DB_USERNAME = 'sube_user'\n",
    "DB_PASSWORD = 'sube_pass'\n",
    "DB_HOST = 'localhost'\n",
    "DB_PORT = '5432'\n",
    "DB_NAME = 'sube'\n",
    "DB_SCHEMA = 'public'"
   ]
  },
  {
   "cell_type": "code",
   "execution_count": 3,
   "metadata": {},
   "outputs": [],
   "source": [
    "# Conectar a la db\n",
    "conn = psycopg2.connect(user = DB_USERNAME,\n",
    "                                      password = DB_PASSWORD,\n",
    "                                      host = DB_HOST,\n",
    "                                      port = DB_PORT,\n",
    "                                      database = DB_NAME)"
   ]
  },
  {
   "cell_type": "code",
   "execution_count": 4,
   "metadata": {},
   "outputs": [],
   "source": [
    "engine = create_engine('postgresql://{}:{}@{}:{}/{}'\n",
    "    .format(DB_USERNAME, DB_PASSWORD, DB_HOST,\n",
    "            DB_PORT, DB_NAME))"
   ]
  },
  {
   "cell_type": "code",
   "execution_count": 5,
   "metadata": {},
   "outputs": [],
   "source": [
    "cantidad_de_tarjetas = 80000"
   ]
  },
  {
   "cell_type": "code",
   "execution_count": 6,
   "metadata": {},
   "outputs": [],
   "source": [
    "q = \"\"\"\n",
    "select *\n",
    "from viajes_linea_b t \n",
    "where tarjeta in (\n",
    "    with mask_table as (\n",
    "        select tarjeta,count(tarjeta) = SUM(CASE when h3_d  IS NULL THEN 0 else 1 END) as mask\n",
    "        from viajes_linea_b tlb \n",
    "        group by tarjeta\n",
    "    )\n",
    "    select tarjeta\n",
    "    from mask_table\n",
    "    where mask = true\n",
    "    limit %i\n",
    ")\n",
    "order by tarjeta, viaje_id;\n",
    "\"\"\"%cantidad_de_tarjetas"
   ]
  },
  {
   "cell_type": "code",
   "execution_count": 7,
   "metadata": {},
   "outputs": [],
   "source": [
    "viajes = pd.read_sql(q, conn)"
   ]
  },
  {
   "cell_type": "code",
   "execution_count": 8,
   "metadata": {},
   "outputs": [
    {
     "data": {
      "text/plain": [
       "(176442, 11)"
      ]
     },
     "execution_count": 8,
     "metadata": {},
     "output_type": "execute_result"
    }
   ],
   "source": [
    "viajes.shape"
   ]
  },
  {
   "cell_type": "code",
   "execution_count": 9,
   "metadata": {},
   "outputs": [],
   "source": [
    "viajes['lat_d'] = viajes.h3_d.map(lambda h: h3.h3_to_geo(h)[0])\n",
    "viajes['lon_d'] = viajes.h3_d.map(lambda h: h3.h3_to_geo(h)[1])"
   ]
  },
  {
   "cell_type": "code",
   "execution_count": 10,
   "metadata": {},
   "outputs": [],
   "source": [
    "X_o = viajes.reindex(columns = ['lat_o','lon_o']).values\n",
    "X_d = viajes.reindex(columns = ['lat_d','lon_d']).values"
   ]
  },
  {
   "cell_type": "code",
   "execution_count": 11,
   "metadata": {},
   "outputs": [],
   "source": [
    "clusters_o = DBSCAN(eps=0.002, min_samples=1000).fit(X_o)\n",
    "#clusters_d = DBSCAN(eps=0.014, min_samples=50).fit(X_d)\n"
   ]
  },
  {
   "cell_type": "code",
   "execution_count": 12,
   "metadata": {},
   "outputs": [],
   "source": [
    "viajes['k_o'] = clusters_o.labels_\n",
    "#viajes['k_d'] = clusters_d.labels_"
   ]
  },
  {
   "cell_type": "code",
   "execution_count": 13,
   "metadata": {},
   "outputs": [],
   "source": [
    "k_o = viajes.reindex(columns = ['lat_o','lon_o','k_o']).groupby('k_o').agg(['mean','count'])\n",
    "k_o = k_o.reset_index()\n",
    "k_o.columns = k_o.columns.droplevel(1)\n",
    "k_o.columns = ['k_o','lat_o','n2','lon_o','n']\n",
    "k_o = k_o.drop('n2',axis=1)"
   ]
  },
  {
   "cell_type": "code",
   "execution_count": null,
   "metadata": {},
   "outputs": [],
   "source": [
    "'''\n",
    "k_d = viajes.reindex(columns = ['lat_d','lon_d','k_d']).groupby('k_d').agg(['mean','count'])\n",
    "k_d = k_d.reset_index()\n",
    "k_d.columns = k_d.columns.droplevel(1)\n",
    "k_d.columns = ['k_d','lat_d','n2','lon_d','n']\n",
    "k_d=k_d.drop('n2',axis=1)\n",
    "'''"
   ]
  },
  {
   "cell_type": "code",
   "execution_count": null,
   "metadata": {},
   "outputs": [],
   "source": [
    "#k_d "
   ]
  },
  {
   "cell_type": "code",
   "execution_count": 14,
   "metadata": {},
   "outputs": [
    {
     "data": {
      "text/html": [
       "<div>\n",
       "<style scoped>\n",
       "    .dataframe tbody tr th:only-of-type {\n",
       "        vertical-align: middle;\n",
       "    }\n",
       "\n",
       "    .dataframe tbody tr th {\n",
       "        vertical-align: top;\n",
       "    }\n",
       "\n",
       "    .dataframe thead th {\n",
       "        text-align: right;\n",
       "    }\n",
       "</style>\n",
       "<table border=\"1\" class=\"dataframe\">\n",
       "  <thead>\n",
       "    <tr style=\"text-align: right;\">\n",
       "      <th></th>\n",
       "      <th>k_o</th>\n",
       "      <th>lat_o</th>\n",
       "      <th>lon_o</th>\n",
       "      <th>n</th>\n",
       "    </tr>\n",
       "  </thead>\n",
       "  <tbody>\n",
       "    <tr>\n",
       "      <th>0</th>\n",
       "      <td>-1</td>\n",
       "      <td>-34.613125</td>\n",
       "      <td>-58.459705</td>\n",
       "      <td>68227</td>\n",
       "    </tr>\n",
       "    <tr>\n",
       "      <th>1</th>\n",
       "      <td>0</td>\n",
       "      <td>-34.574310</td>\n",
       "      <td>-58.486419</td>\n",
       "      <td>9902</td>\n",
       "    </tr>\n",
       "    <tr>\n",
       "      <th>2</th>\n",
       "      <td>1</td>\n",
       "      <td>-34.604116</td>\n",
       "      <td>-58.411781</td>\n",
       "      <td>4696</td>\n",
       "    </tr>\n",
       "    <tr>\n",
       "      <th>3</th>\n",
       "      <td>2</td>\n",
       "      <td>-34.604158</td>\n",
       "      <td>-58.389918</td>\n",
       "      <td>14224</td>\n",
       "    </tr>\n",
       "    <tr>\n",
       "      <th>4</th>\n",
       "      <td>3</td>\n",
       "      <td>-34.603751</td>\n",
       "      <td>-58.380743</td>\n",
       "      <td>5069</td>\n",
       "    </tr>\n",
       "    <tr>\n",
       "      <th>5</th>\n",
       "      <td>4</td>\n",
       "      <td>-34.603050</td>\n",
       "      <td>-58.369912</td>\n",
       "      <td>6667</td>\n",
       "    </tr>\n",
       "    <tr>\n",
       "      <th>6</th>\n",
       "      <td>5</td>\n",
       "      <td>-34.586750</td>\n",
       "      <td>-58.454938</td>\n",
       "      <td>5041</td>\n",
       "    </tr>\n",
       "    <tr>\n",
       "      <th>7</th>\n",
       "      <td>6</td>\n",
       "      <td>-34.602149</td>\n",
       "      <td>-58.431314</td>\n",
       "      <td>6965</td>\n",
       "    </tr>\n",
       "    <tr>\n",
       "      <th>8</th>\n",
       "      <td>7</td>\n",
       "      <td>-34.604627</td>\n",
       "      <td>-58.399467</td>\n",
       "      <td>4662</td>\n",
       "    </tr>\n",
       "    <tr>\n",
       "      <th>9</th>\n",
       "      <td>8</td>\n",
       "      <td>-34.599010</td>\n",
       "      <td>-58.439722</td>\n",
       "      <td>7828</td>\n",
       "    </tr>\n",
       "    <tr>\n",
       "      <th>10</th>\n",
       "      <td>9</td>\n",
       "      <td>-34.603203</td>\n",
       "      <td>-58.420986</td>\n",
       "      <td>7762</td>\n",
       "    </tr>\n",
       "    <tr>\n",
       "      <th>11</th>\n",
       "      <td>10</td>\n",
       "      <td>-34.603297</td>\n",
       "      <td>-58.375073</td>\n",
       "      <td>8791</td>\n",
       "    </tr>\n",
       "    <tr>\n",
       "      <th>12</th>\n",
       "      <td>11</td>\n",
       "      <td>-34.591714</td>\n",
       "      <td>-58.447596</td>\n",
       "      <td>4091</td>\n",
       "    </tr>\n",
       "    <tr>\n",
       "      <th>13</th>\n",
       "      <td>12</td>\n",
       "      <td>-34.586929</td>\n",
       "      <td>-58.397109</td>\n",
       "      <td>1506</td>\n",
       "    </tr>\n",
       "    <tr>\n",
       "      <th>14</th>\n",
       "      <td>13</td>\n",
       "      <td>-34.591176</td>\n",
       "      <td>-58.374433</td>\n",
       "      <td>1688</td>\n",
       "    </tr>\n",
       "    <tr>\n",
       "      <th>15</th>\n",
       "      <td>14</td>\n",
       "      <td>-34.608282</td>\n",
       "      <td>-58.373948</td>\n",
       "      <td>3339</td>\n",
       "    </tr>\n",
       "    <tr>\n",
       "      <th>16</th>\n",
       "      <td>15</td>\n",
       "      <td>-34.577819</td>\n",
       "      <td>-58.480976</td>\n",
       "      <td>3623</td>\n",
       "    </tr>\n",
       "    <tr>\n",
       "      <th>17</th>\n",
       "      <td>16</td>\n",
       "      <td>-34.594507</td>\n",
       "      <td>-58.402383</td>\n",
       "      <td>1282</td>\n",
       "    </tr>\n",
       "    <tr>\n",
       "      <th>18</th>\n",
       "      <td>17</td>\n",
       "      <td>-34.581235</td>\n",
       "      <td>-58.474186</td>\n",
       "      <td>4348</td>\n",
       "    </tr>\n",
       "    <tr>\n",
       "      <th>19</th>\n",
       "      <td>18</td>\n",
       "      <td>-34.584089</td>\n",
       "      <td>-58.466250</td>\n",
       "      <td>2923</td>\n",
       "    </tr>\n",
       "    <tr>\n",
       "      <th>20</th>\n",
       "      <td>19</td>\n",
       "      <td>-34.604648</td>\n",
       "      <td>-58.405406</td>\n",
       "      <td>2462</td>\n",
       "    </tr>\n",
       "    <tr>\n",
       "      <th>21</th>\n",
       "      <td>20</td>\n",
       "      <td>-34.617938</td>\n",
       "      <td>-58.381568</td>\n",
       "      <td>1346</td>\n",
       "    </tr>\n",
       "  </tbody>\n",
       "</table>\n",
       "</div>"
      ],
      "text/plain": [
       "    k_o      lat_o      lon_o      n\n",
       "0    -1 -34.613125 -58.459705  68227\n",
       "1     0 -34.574310 -58.486419   9902\n",
       "2     1 -34.604116 -58.411781   4696\n",
       "3     2 -34.604158 -58.389918  14224\n",
       "4     3 -34.603751 -58.380743   5069\n",
       "5     4 -34.603050 -58.369912   6667\n",
       "6     5 -34.586750 -58.454938   5041\n",
       "7     6 -34.602149 -58.431314   6965\n",
       "8     7 -34.604627 -58.399467   4662\n",
       "9     8 -34.599010 -58.439722   7828\n",
       "10    9 -34.603203 -58.420986   7762\n",
       "11   10 -34.603297 -58.375073   8791\n",
       "12   11 -34.591714 -58.447596   4091\n",
       "13   12 -34.586929 -58.397109   1506\n",
       "14   13 -34.591176 -58.374433   1688\n",
       "15   14 -34.608282 -58.373948   3339\n",
       "16   15 -34.577819 -58.480976   3623\n",
       "17   16 -34.594507 -58.402383   1282\n",
       "18   17 -34.581235 -58.474186   4348\n",
       "19   18 -34.584089 -58.466250   2923\n",
       "20   19 -34.604648 -58.405406   2462\n",
       "21   20 -34.617938 -58.381568   1346"
      ]
     },
     "execution_count": 14,
     "metadata": {},
     "output_type": "execute_result"
    }
   ],
   "source": [
    "k_o"
   ]
  },
  {
   "cell_type": "code",
   "execution_count": null,
   "metadata": {},
   "outputs": [],
   "source": [
    "viajes.to_csv('caca.csv',index=False)"
   ]
  },
  {
   "cell_type": "code",
   "execution_count": null,
   "metadata": {},
   "outputs": [],
   "source": []
  },
  {
   "cell_type": "code",
   "execution_count": null,
   "metadata": {},
   "outputs": [],
   "source": [
    "miny = min(min(viajes.lat_o), min(viajes.lat_o)) - 0.06\n",
    "maxy = max(max(viajes.lat_o), max(viajes.lat_o)) + 0.06\n",
    "minx = min(min(viajes.lon_o), min(viajes.lon_o)) - 0.06\n",
    "maxx = max(max(viajes.lon_o), max(viajes.lon_o)) + 0.06\n",
    "\n",
    "\n",
    "x_centro,y_centro = minx + ((maxx - minx)/2),miny + ((maxy - miny)/2)\n",
    "\n",
    "m = folium.Map(\n",
    "        location=[y_centro,x_centro],\n",
    "        zoom_start=12,\n",
    "        tiles='cartodbpositron'\n",
    "    )\n",
    "for i in k_o.index:\n",
    "    folium.Circle(\n",
    "            radius=np.sqrt(k_o.loc[i].n),\n",
    "            location=[k_o.loc[i].lat_o,k_o.lon_o.loc[i]],\n",
    "            popup='Origen '+str(k_o.loc[i].k_o),\n",
    "            color='blue',\n",
    "            fill=True,\n",
    "        ).add_to(m)\n",
    "'''    \n",
    "for i in k_d.index:\n",
    "    folium.Circle(\n",
    "            radius=k_d.loc[i].n,\n",
    "            location=[k_d.loc[i].lat_d,k_d.lon_d.loc[i]],\n",
    "            popup='Destino '+str(k_d.loc[i].k_d),\n",
    "            color='red',\n",
    "            fill=True,\n",
    "        ).add_to(m)\n",
    "\n",
    "'''\n",
    "m"
   ]
  },
  {
   "cell_type": "code",
   "execution_count": null,
   "metadata": {},
   "outputs": [],
   "source": []
  }
 ],
 "metadata": {
  "kernelspec": {
   "display_name": "sube_od",
   "language": "python",
   "name": "sube_od"
  },
  "language_info": {
   "codemirror_mode": {
    "name": "ipython",
    "version": 3
   },
   "file_extension": ".py",
   "mimetype": "text/x-python",
   "name": "python",
   "nbconvert_exporter": "python",
   "pygments_lexer": "ipython3",
   "version": "3.7.6"
  }
 },
 "nbformat": 4,
 "nbformat_minor": 4
}
