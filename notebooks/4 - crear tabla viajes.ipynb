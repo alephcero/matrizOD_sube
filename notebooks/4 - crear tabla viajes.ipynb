{
 "cells": [
  {
   "cell_type": "code",
   "execution_count": null,
   "metadata": {},
   "outputs": [],
   "source": [
    "import pandas as pd\n",
    "import numpy as np\n",
    "import yaml\n",
    "\n",
    "from sqlalchemy import create_engine\n",
    "import psycopg2"
   ]
  },
  {
   "cell_type": "code",
   "execution_count": null,
   "metadata": {},
   "outputs": [],
   "source": [
    "def crear_viaje_id_acumulada(dt,ventana_minutos=120):\n",
    " \n",
    "    dt.delta = dt.delta.shift(1)\n",
    "    dt['delta']=(pd.to_timedelta(dt.delta) / np.timedelta64(1, 'm')).fillna(0)\n",
    "\n",
    "    cumulativa = 0\n",
    "    viaje_id = 0\n",
    "    viajes = []\n",
    "    for i in dt.delta:\n",
    "        cumulativa += i\n",
    "        if cumulativa < ventana_minutos:\n",
    "            pass\n",
    "        else:\n",
    "            cumulativa = 0\n",
    "            viaje_id += 1\n",
    "        viajes.append(viaje_id)\n",
    "    dt['viaje_id'] = viajes\n",
    "\n",
    "    return dt\n",
    "\n",
    "def consolidar_tabla_viajes(dt):\n",
    "    # si alguno de los destinos de los tramos es nulo\n",
    "    # el destino del viaje es nulo\n",
    "    if any(dt.h3_d.isnull()):\n",
    "        viaje = pd.DataFrame({\n",
    "                      'tarjeta':dt.tarjeta.unique(),\n",
    "                      'viaje_id':dt.viaje_id.unique(),\n",
    "                      'linea':' - '.join(dt.linea),\n",
    "                      'fecha':dt.fecha.iloc[0],\n",
    "                      'tramos':len(dt.tramo_id),\n",
    "                      'lat_o':dt.lat_o.iloc[0],\n",
    "                      'lon_o':dt.lon_o.iloc[0],\n",
    "                      'h3_o':dt.h3_o.iloc[0],\n",
    "                      'lat_d':np.nan,\n",
    "                      'lon_d':np.nan,\n",
    "                      'h3_d':np.nan\n",
    "                     },index=[0])\n",
    "    else:\n",
    "        viaje = pd.DataFrame({\n",
    "                      'tarjeta':dt.tarjeta.unique(),\n",
    "                      'viaje_id':dt.viaje_id.unique(),\n",
    "                      'linea':' - '.join(dt.linea),\n",
    "                      'fecha':dt.fecha.iloc[0],\n",
    "                      'tramos':len(dt.tramo_id),\n",
    "                      'lat_o':dt.lat_o.iloc[0],\n",
    "                      'lon_o':dt.lon_o.iloc[0],\n",
    "                      'h3_o':dt.h3_o.iloc[0],\n",
    "                      'lat_d':dt.lat_d.iloc[-1],\n",
    "                      'lon_d':dt.lon_d.iloc[-1],\n",
    "                      'h3_d':dt.h3_d.iloc[-1],\n",
    "                     },index=[0])\n",
    "    return viaje"
   ]
  },
  {
   "cell_type": "code",
   "execution_count": null,
   "metadata": {},
   "outputs": [],
   "source": [
    "DB_USERNAME = 'sube_user'\n",
    "DB_PASSWORD = 'sube_pass'\n",
    "DB_HOST = 'localhost'\n",
    "DB_PORT = '5432'\n",
    "DB_NAME = 'sube'\n",
    "DB_SCHEMA = 'public'"
   ]
  },
  {
   "cell_type": "code",
   "execution_count": null,
   "metadata": {},
   "outputs": [],
   "source": [
    "# Conectar a la db\n",
    "conn = psycopg2.connect(user = DB_USERNAME,\n",
    "                                      password = DB_PASSWORD,\n",
    "                                      host = DB_HOST,\n",
    "                                      port = DB_PORT,\n",
    "                                      database = DB_NAME)"
   ]
  },
  {
   "cell_type": "code",
   "execution_count": null,
   "metadata": {},
   "outputs": [],
   "source": [
    "engine = create_engine('postgresql://{}:{}@{}:{}/{}'\n",
    "    .format(DB_USERNAME, DB_PASSWORD, DB_HOST,\n",
    "            DB_PORT, DB_NAME))"
   ]
  },
  {
   "cell_type": "code",
   "execution_count": null,
   "metadata": {},
   "outputs": [],
   "source": [
    "cantidad_de_tarjetas = 6000"
   ]
  },
  {
   "cell_type": "code",
   "execution_count": null,
   "metadata": {},
   "outputs": [],
   "source": [
    "# traer tarjetas que tengan vacio el viaje_id\n",
    "# traer trx de tarjetas que hayan pasado por la B SIN MISSING\n",
    "\n",
    "q = \"\"\"\n",
    "select *\n",
    "from tramos_linea_b\n",
    "where tarjeta in (\n",
    "    select distinct tarjeta \n",
    "    from tramos_linea_b tlb \n",
    "    where viaje_id is null\n",
    "    limit %i\n",
    ")\n",
    "order by tarjeta, tramo_id\n",
    "\"\"\"%cantidad_de_tarjetas\n",
    "\n",
    "tramos = pd.read_sql(q, conn)"
   ]
  },
  {
   "cell_type": "code",
   "execution_count": null,
   "metadata": {},
   "outputs": [],
   "source": [
    "tramos"
   ]
  },
  {
   "cell_type": "code",
   "execution_count": null,
   "metadata": {},
   "outputs": [],
   "source": [
    "# popular en tabla tramos el viaje_id\n",
    "%time tramos_con_viaje_id = tramos.groupby(['tarjeta']).apply(crear_viaje_id_acumulada)"
   ]
  },
  {
   "cell_type": "code",
   "execution_count": null,
   "metadata": {},
   "outputs": [],
   "source": [
    "tramos_con_viaje_id"
   ]
  },
  {
   "cell_type": "code",
   "execution_count": null,
   "metadata": {},
   "outputs": [],
   "source": [
    "# actualizar tabla de tramos en db con viaje_id\n",
    "tramos_con_viaje_id.to_sql('viajes_tmp', engine, schema=DB_SCHEMA,index=False,method='multi')"
   ]
  },
  {
   "cell_type": "code",
   "execution_count": null,
   "metadata": {},
   "outputs": [],
   "source": [
    "update_viaje_id_query = \"\"\"\n",
    "UPDATE tramos_linea_b \n",
    "SET viaje_id = v.viaje_id\n",
    "FROM viajes_tmp v\n",
    "WHERE tramos_linea_b.tarjeta = v.tarjeta\n",
    "and tramos_linea_b.tramo_id = v.tramo_id;\n",
    "\n",
    "\n",
    "DROP TABLE IF EXISTS viajes_tmp; \n",
    "\"\"\""
   ]
  },
  {
   "cell_type": "code",
   "execution_count": null,
   "metadata": {},
   "outputs": [],
   "source": [
    "cur = conn.cursor()\n",
    "cur.execute(update_viaje_id_query)\n",
    "cur.close()\n",
    "conn.commit()"
   ]
  },
  {
   "cell_type": "code",
   "execution_count": null,
   "metadata": {},
   "outputs": [],
   "source": [
    "# crear tabla de viajes\n",
    "tabla_viajes = tramos_con_viaje_id.groupby(['tarjeta','viaje_id'],as_index=False)\\\n",
    "    .apply(consolidar_tabla_viajes).reset_index(drop=True)\n",
    "tabla_viajes"
   ]
  },
  {
   "cell_type": "code",
   "execution_count": null,
   "metadata": {},
   "outputs": [],
   "source": [
    "# appendear viajes a tabla de viajes "
   ]
  },
  {
   "cell_type": "code",
   "execution_count": null,
   "metadata": {},
   "outputs": [],
   "source": [
    "tabla_viajes.to_sql('viajes_linea_b', engine, schema=DB_SCHEMA,index=False,method='multi',if_exists = 'append')"
   ]
  },
  {
   "cell_type": "code",
   "execution_count": null,
   "metadata": {},
   "outputs": [],
   "source": [
    "q=\"\"\"\n",
    "select count(distinct tarjeta) \n",
    "from tramos_linea_b\n",
    "where viaje_id  is null\n",
    "\"\"\"\n",
    "quedan = pd.read_sql(q, conn)\n",
    "quedan = quedan.iloc[0,0]"
   ]
  },
  {
   "cell_type": "code",
   "execution_count": null,
   "metadata": {},
   "outputs": [],
   "source": [
    "print('Quedan %s tarjetas'%quedan)"
   ]
  },
  {
   "cell_type": "code",
   "execution_count": null,
   "metadata": {},
   "outputs": [],
   "source": []
  }
 ],
 "metadata": {
  "kernelspec": {
   "display_name": "sube_od",
   "language": "python",
   "name": "sube_od"
  },
  "language_info": {
   "codemirror_mode": {
    "name": "ipython",
    "version": 3
   },
   "file_extension": ".py",
   "mimetype": "text/x-python",
   "name": "python",
   "nbconvert_exporter": "python",
   "pygments_lexer": "ipython3",
   "version": "3.7.6"
  }
 },
 "nbformat": 4,
 "nbformat_minor": 4
}
