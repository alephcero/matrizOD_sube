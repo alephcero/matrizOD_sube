{
 "cells": [
  {
   "cell_type": "code",
   "execution_count": 1,
   "metadata": {},
   "outputs": [],
   "source": [
    "import geopandas as gpd\n",
    "import pandas as pd\n",
    "from h3 import h3\n",
    "from sqlalchemy import create_engine\n",
    "from shapely.geometry import Polygon, Point\n",
    "import numpy as np"
   ]
  },
  {
   "cell_type": "code",
   "execution_count": 2,
   "metadata": {},
   "outputs": [],
   "source": [
    "\n",
    "def h3_from_row(row,res,x,y):\n",
    "    '''\n",
    "    Esta funcion toma una fila, un nivel de resolucion de h3\n",
    "    y los nombres que contienen las coordenadas xy\n",
    "    y devuelve un id de indice h3\n",
    "    '''\n",
    "    return h3.geo_to_h3(row[y],row[x],res = res)\n",
    "\n",
    "def h3_indexing(df,res_list,lat='LATITUDE',lon='LONGITUDE'):\n",
    "    \"\"\"\n",
    "    Esta funcion toma una tabla con dos pares de coordenadas para origen y destino\n",
    "    Un nivel de resolucion h3\n",
    "    y devuelve la tabla con los ids de h3\n",
    "    \"\"\"\n",
    "    \n",
    "    if len(res_list) == 1:\n",
    "        res_list.append(res_list[0])\n",
    "        \n",
    "    for res in range(res_list[0],res_list[1] + 1):\n",
    "        df['h3_res_' + str(res)] = df.apply(h3_from_row, axis=1, args=[res,lon,lat])\n",
    "\n",
    "    return df\n",
    "\n",
    "def vertices_cada_Xmetros(geom,metros):\n",
    "    n_puntos = int((geom.length/metros)+1)\n",
    "    percentiles = np.linspace(0,geom.length,n_puntos)\n",
    "    return [geom.interpolate(percentil,normalized=False) for percentil in percentiles]\n",
    "\n",
    "def convertir_recorridos_buses_paradas(fila,metros=400):\n",
    "    paradas = vertices_cada_Xmetros(fila.geometry,metros = metros)\n",
    "    paradas = gpd.GeoSeries(paradas).map(lambda g: Point(g.coords[0][0:2]))\n",
    "    crs = 'EPSG:3857'\n",
    "    gdf = gpd.GeoDataFrame(np.repeat(fila.LINEA,len(paradas)),crs=crs,geometry=paradas)\n",
    "    gdf.columns=['LINEA','geometry']\n",
    "    return gdf"
   ]
  },
  {
   "cell_type": "code",
   "execution_count": 27,
   "metadata": {},
   "outputs": [
    {
     "data": {
      "text/html": [
       "<div>\n",
       "<style scoped>\n",
       "    .dataframe tbody tr th:only-of-type {\n",
       "        vertical-align: middle;\n",
       "    }\n",
       "\n",
       "    .dataframe tbody tr th {\n",
       "        vertical-align: top;\n",
       "    }\n",
       "\n",
       "    .dataframe thead th {\n",
       "        text-align: right;\n",
       "    }\n",
       "</style>\n",
       "<table border=\"1\" class=\"dataframe\">\n",
       "  <thead>\n",
       "    <tr style=\"text-align: right;\">\n",
       "      <th></th>\n",
       "      <th>LINEA</th>\n",
       "      <th>geometry</th>\n",
       "      <th>MEDIO</th>\n",
       "    </tr>\n",
       "  </thead>\n",
       "  <tbody>\n",
       "    <tr>\n",
       "      <th>0</th>\n",
       "      <td>Mitre</td>\n",
       "      <td>POINT (-58.53165 -34.57368)</td>\n",
       "      <td>TRE</td>\n",
       "    </tr>\n",
       "    <tr>\n",
       "      <th>1</th>\n",
       "      <td>Mitre</td>\n",
       "      <td>POINT (-58.54055 -34.56368)</td>\n",
       "      <td>TRE</td>\n",
       "    </tr>\n",
       "    <tr>\n",
       "      <th>2</th>\n",
       "      <td>Mitre</td>\n",
       "      <td>POINT (-58.55608 -34.55091)</td>\n",
       "      <td>TRE</td>\n",
       "    </tr>\n",
       "    <tr>\n",
       "      <th>5</th>\n",
       "      <td>Mitre</td>\n",
       "      <td>POINT (-58.57567 -34.53500)</td>\n",
       "      <td>TRE</td>\n",
       "    </tr>\n",
       "    <tr>\n",
       "      <th>7</th>\n",
       "      <td>Mitre</td>\n",
       "      <td>POINT (-58.48792 -34.57472)</td>\n",
       "      <td>TRE</td>\n",
       "    </tr>\n",
       "  </tbody>\n",
       "</table>\n",
       "</div>"
      ],
      "text/plain": [
       "   LINEA                     geometry MEDIO\n",
       "0  Mitre  POINT (-58.53165 -34.57368)   TRE\n",
       "1  Mitre  POINT (-58.54055 -34.56368)   TRE\n",
       "2  Mitre  POINT (-58.55608 -34.55091)   TRE\n",
       "5  Mitre  POINT (-58.57567 -34.53500)   TRE\n",
       "7  Mitre  POINT (-58.48792 -34.57472)   TRE"
      ]
     },
     "execution_count": 27,
     "metadata": {},
     "output_type": "execute_result"
    }
   ],
   "source": [
    "subte = gpd.read_file('../carto/insumos/subterraneo-estaciones')\n",
    "subte = subte.reindex(columns = ['LINEA','geometry'])\n",
    "subte['MEDIO'] = 'SUB'\n",
    "\n",
    "ffcc = gpd.read_file('../carto/insumos/rmba-ferrocarril-estaciones/')\n",
    "ffcc = ffcc.loc[ffcc.Tipo=='Estación',['Línea','geometry']]\n",
    "ffcc.columns = ['LINEA','geometry']\n",
    "ffcc['MEDIO'] = 'TRE'\n",
    "\n",
    "ffcc.head()"
   ]
  },
  {
   "cell_type": "code",
   "execution_count": 36,
   "metadata": {},
   "outputs": [
    {
     "data": {
      "text/html": [
       "<div>\n",
       "<style scoped>\n",
       "    .dataframe tbody tr th:only-of-type {\n",
       "        vertical-align: middle;\n",
       "    }\n",
       "\n",
       "    .dataframe tbody tr th {\n",
       "        vertical-align: top;\n",
       "    }\n",
       "\n",
       "    .dataframe thead th {\n",
       "        text-align: right;\n",
       "    }\n",
       "</style>\n",
       "<table border=\"1\" class=\"dataframe\">\n",
       "  <thead>\n",
       "    <tr style=\"text-align: right;\">\n",
       "      <th></th>\n",
       "      <th>LINEA</th>\n",
       "      <th>geometry</th>\n",
       "      <th>MEDIO</th>\n",
       "    </tr>\n",
       "  </thead>\n",
       "  <tbody>\n",
       "    <tr>\n",
       "      <th>0</th>\n",
       "      <td>1</td>\n",
       "      <td>POINT (-58.52931 -34.63934)</td>\n",
       "      <td>COL</td>\n",
       "    </tr>\n",
       "    <tr>\n",
       "      <th>1</th>\n",
       "      <td>1</td>\n",
       "      <td>POINT (-58.52927 -34.63947)</td>\n",
       "      <td>COL</td>\n",
       "    </tr>\n",
       "    <tr>\n",
       "      <th>2</th>\n",
       "      <td>1</td>\n",
       "      <td>POINT (-58.56432 -34.64013)</td>\n",
       "      <td>COL</td>\n",
       "    </tr>\n",
       "    <tr>\n",
       "      <th>3</th>\n",
       "      <td>1</td>\n",
       "      <td>POINT (-58.56612 -34.63818)</td>\n",
       "      <td>COL</td>\n",
       "    </tr>\n",
       "    <tr>\n",
       "      <th>4</th>\n",
       "      <td>1</td>\n",
       "      <td>POINT (-58.56971 -34.63831)</td>\n",
       "      <td>COL</td>\n",
       "    </tr>\n",
       "  </tbody>\n",
       "</table>\n",
       "</div>"
      ],
      "text/plain": [
       "  LINEA                     geometry MEDIO\n",
       "0     1  POINT (-58.52931 -34.63934)   COL\n",
       "1     1  POINT (-58.52927 -34.63947)   COL\n",
       "2     1  POINT (-58.56432 -34.64013)   COL\n",
       "3     1  POINT (-58.56612 -34.63818)   COL\n",
       "4     1  POINT (-58.56971 -34.63831)   COL"
      ]
     },
     "execution_count": 36,
     "metadata": {},
     "output_type": "execute_result"
    }
   ],
   "source": [
    "bus_nac = gpd.read_file('../carto/insumos/lineas-nacionales/')\n",
    "bus_nac = bus_nac.reindex(columns = ['LINEA','geometry'])\n",
    "bus_nac = bus_nac.to_crs('EPSG:3857')\n",
    "\n",
    "paradas_bus_nac = pd.concat([convertir_recorridos_buses_paradas(fila) for i,fila in bus_nac.iterrows()])\n",
    "paradas_bus_nac.crs = 'EPSG:3857'\n",
    "paradas_bus_nac = paradas_bus_nac.to_crs('EPSG:4326')\n",
    "paradas_bus_nac['MEDIO'] = 'COL'\n",
    "paradas_bus_nac.head()"
   ]
  },
  {
   "cell_type": "code",
   "execution_count": 38,
   "metadata": {},
   "outputs": [
    {
     "data": {
      "text/html": [
       "<div>\n",
       "<style scoped>\n",
       "    .dataframe tbody tr th:only-of-type {\n",
       "        vertical-align: middle;\n",
       "    }\n",
       "\n",
       "    .dataframe tbody tr th {\n",
       "        vertical-align: top;\n",
       "    }\n",
       "\n",
       "    .dataframe thead th {\n",
       "        text-align: right;\n",
       "    }\n",
       "</style>\n",
       "<table border=\"1\" class=\"dataframe\">\n",
       "  <thead>\n",
       "    <tr style=\"text-align: right;\">\n",
       "      <th></th>\n",
       "      <th>LINEA</th>\n",
       "      <th>geometry</th>\n",
       "      <th>MEDIO</th>\n",
       "    </tr>\n",
       "  </thead>\n",
       "  <tbody>\n",
       "    <tr>\n",
       "      <th>0</th>\n",
       "      <td>253</td>\n",
       "      <td>POINT (-58.52641 -34.63914)</td>\n",
       "      <td>COL</td>\n",
       "    </tr>\n",
       "    <tr>\n",
       "      <th>1</th>\n",
       "      <td>253</td>\n",
       "      <td>POINT (-58.52996 -34.63944)</td>\n",
       "      <td>COL</td>\n",
       "    </tr>\n",
       "    <tr>\n",
       "      <th>2</th>\n",
       "      <td>253</td>\n",
       "      <td>POINT (-58.53355 -34.63966)</td>\n",
       "      <td>COL</td>\n",
       "    </tr>\n",
       "    <tr>\n",
       "      <th>3</th>\n",
       "      <td>253</td>\n",
       "      <td>POINT (-58.53714 -34.63994)</td>\n",
       "      <td>COL</td>\n",
       "    </tr>\n",
       "    <tr>\n",
       "      <th>4</th>\n",
       "      <td>253</td>\n",
       "      <td>POINT (-58.54073 -34.64016)</td>\n",
       "      <td>COL</td>\n",
       "    </tr>\n",
       "    <tr>\n",
       "      <th>...</th>\n",
       "      <td>...</td>\n",
       "      <td>...</td>\n",
       "      <td>...</td>\n",
       "    </tr>\n",
       "    <tr>\n",
       "      <th>110</th>\n",
       "      <td>322</td>\n",
       "      <td>POINT (-58.74170 -34.66883)</td>\n",
       "      <td>COL</td>\n",
       "    </tr>\n",
       "    <tr>\n",
       "      <th>111</th>\n",
       "      <td>322</td>\n",
       "      <td>POINT (-58.73916 -34.66674)</td>\n",
       "      <td>COL</td>\n",
       "    </tr>\n",
       "    <tr>\n",
       "      <th>112</th>\n",
       "      <td>322</td>\n",
       "      <td>POINT (-58.73581 -34.66564)</td>\n",
       "      <td>COL</td>\n",
       "    </tr>\n",
       "    <tr>\n",
       "      <th>113</th>\n",
       "      <td>322</td>\n",
       "      <td>POINT (-58.73244 -34.66460)</td>\n",
       "      <td>COL</td>\n",
       "    </tr>\n",
       "    <tr>\n",
       "      <th>114</th>\n",
       "      <td>322</td>\n",
       "      <td>POINT (-58.72888 -34.66511)</td>\n",
       "      <td>COL</td>\n",
       "    </tr>\n",
       "  </tbody>\n",
       "</table>\n",
       "<p>41681 rows × 3 columns</p>\n",
       "</div>"
      ],
      "text/plain": [
       "     LINEA                     geometry MEDIO\n",
       "0      253  POINT (-58.52641 -34.63914)   COL\n",
       "1      253  POINT (-58.52996 -34.63944)   COL\n",
       "2      253  POINT (-58.53355 -34.63966)   COL\n",
       "3      253  POINT (-58.53714 -34.63994)   COL\n",
       "4      253  POINT (-58.54073 -34.64016)   COL\n",
       "..     ...                          ...   ...\n",
       "110    322  POINT (-58.74170 -34.66883)   COL\n",
       "111    322  POINT (-58.73916 -34.66674)   COL\n",
       "112    322  POINT (-58.73581 -34.66564)   COL\n",
       "113    322  POINT (-58.73244 -34.66460)   COL\n",
       "114    322  POINT (-58.72888 -34.66511)   COL\n",
       "\n",
       "[41681 rows x 3 columns]"
      ]
     },
     "execution_count": 38,
     "metadata": {},
     "output_type": "execute_result"
    }
   ],
   "source": [
    "bus_prov = gpd.read_file('../carto/insumos/lineas-provinciales/')\n",
    "bus_prov = bus_prov.reindex(columns = ['LINEA','geometry'])\n",
    "bus_prov = bus_prov.to_crs('EPSG:3857')\n",
    "\n",
    "paradas_bus_prov = pd.concat([convertir_recorridos_buses_paradas(fila) for i,fila in bus_prov.iterrows()])\n",
    "paradas_bus_prov.crs = 'EPSG:3857'\n",
    "paradas_bus_prov = paradas_bus_prov.to_crs('EPSG:4326')\n",
    "paradas_bus_prov['MEDIO'] = 'COL'\n",
    "paradas_bus_prov.head()\n",
    "paradas_bus_prov"
   ]
  },
  {
   "cell_type": "code",
   "execution_count": 42,
   "metadata": {},
   "outputs": [
    {
     "data": {
      "text/plain": [
       "0"
      ]
     },
     "execution_count": 42,
     "metadata": {},
     "output_type": "execute_result"
    }
   ],
   "source": [
    "pd.Series(paradas_bus_nac.LINEA.unique()).isin(paradas_bus_prov.LINEA.unique()).sum()"
   ]
  },
  {
   "cell_type": "code",
   "execution_count": 43,
   "metadata": {},
   "outputs": [
    {
     "data": {
      "text/plain": [
       "0"
      ]
     },
     "execution_count": 43,
     "metadata": {},
     "output_type": "execute_result"
    }
   ],
   "source": [
    "pd.Series(paradas_bus_prov.LINEA.unique()).isin(paradas_bus_nac.LINEA.unique()).sum()"
   ]
  },
  {
   "cell_type": "code",
   "execution_count": 46,
   "metadata": {},
   "outputs": [
    {
     "data": {
      "text/html": [
       "<div>\n",
       "<style scoped>\n",
       "    .dataframe tbody tr th:only-of-type {\n",
       "        vertical-align: middle;\n",
       "    }\n",
       "\n",
       "    .dataframe tbody tr th {\n",
       "        vertical-align: top;\n",
       "    }\n",
       "\n",
       "    .dataframe thead th {\n",
       "        text-align: right;\n",
       "    }\n",
       "</style>\n",
       "<table border=\"1\" class=\"dataframe\">\n",
       "  <thead>\n",
       "    <tr style=\"text-align: right;\">\n",
       "      <th></th>\n",
       "      <th>LINEA</th>\n",
       "      <th>geometry</th>\n",
       "      <th>MEDIO</th>\n",
       "    </tr>\n",
       "  </thead>\n",
       "  <tbody>\n",
       "    <tr>\n",
       "      <th>0</th>\n",
       "      <td>501</td>\n",
       "      <td>POINT (-58.38407 -34.88737)</td>\n",
       "      <td>COL</td>\n",
       "    </tr>\n",
       "    <tr>\n",
       "      <th>1</th>\n",
       "      <td>501</td>\n",
       "      <td>POINT (-58.38771 -34.88767)</td>\n",
       "      <td>COL</td>\n",
       "    </tr>\n",
       "    <tr>\n",
       "      <th>2</th>\n",
       "      <td>501</td>\n",
       "      <td>POINT (-58.39012 -34.88754)</td>\n",
       "      <td>COL</td>\n",
       "    </tr>\n",
       "    <tr>\n",
       "      <th>3</th>\n",
       "      <td>501</td>\n",
       "      <td>POINT (-58.39024 -34.89055)</td>\n",
       "      <td>COL</td>\n",
       "    </tr>\n",
       "    <tr>\n",
       "      <th>4</th>\n",
       "      <td>501</td>\n",
       "      <td>POINT (-58.39197 -34.89216)</td>\n",
       "      <td>COL</td>\n",
       "    </tr>\n",
       "  </tbody>\n",
       "</table>\n",
       "</div>"
      ],
      "text/plain": [
       "   LINEA                     geometry MEDIO\n",
       "0    501  POINT (-58.38407 -34.88737)   COL\n",
       "1    501  POINT (-58.38771 -34.88767)   COL\n",
       "2    501  POINT (-58.39012 -34.88754)   COL\n",
       "3    501  POINT (-58.39024 -34.89055)   COL\n",
       "4    501  POINT (-58.39197 -34.89216)   COL"
      ]
     },
     "execution_count": 46,
     "metadata": {},
     "output_type": "execute_result"
    }
   ],
   "source": [
    "bus_muni = gpd.read_file('../carto/insumos/lineas-municipales/')\n",
    "bus_muni = bus_muni.reindex(columns = ['LINEA','geometry'])\n",
    "bus_muni = bus_muni.to_crs('EPSG:3857')\n",
    "\n",
    "paradas_bus_muni = pd.concat([convertir_recorridos_buses_paradas(fila) for i,fila in bus_muni.iterrows()])\n",
    "paradas_bus_muni.crs = 'EPSG:3857'\n",
    "paradas_bus_muni = paradas_bus_muni.to_crs('EPSG:4326')\n",
    "paradas_bus_muni['MEDIO'] = 'COL'\n",
    "paradas_bus_muni.head()"
   ]
  },
  {
   "cell_type": "code",
   "execution_count": 47,
   "metadata": {},
   "outputs": [
    {
     "data": {
      "text/plain": [
       "array([501, 505, 506, 510, 514, 515, 603, 619, 502, 504, 670, 741, 749,\n",
       "       620, 621, 622, 628, 630, 520, 521, 526, 527, 540, 541, 542, 543,\n",
       "       544, 548, 549, 550, 551, 552, 553, 561, 562, 564, 503, 634, 635,\n",
       "       580, 582, 583, 584, 585, 710, 707, 720, 721, 723, 500, 624, 740,\n",
       "       570, 511, 507, 523, 524])"
      ]
     },
     "execution_count": 47,
     "metadata": {},
     "output_type": "execute_result"
    }
   ],
   "source": [
    "paradas_bus_muni.LINEA.unique()"
   ]
  },
  {
   "cell_type": "code",
   "execution_count": 48,
   "metadata": {},
   "outputs": [
    {
     "data": {
      "text/html": [
       "<div>\n",
       "<style scoped>\n",
       "    .dataframe tbody tr th:only-of-type {\n",
       "        vertical-align: middle;\n",
       "    }\n",
       "\n",
       "    .dataframe tbody tr th {\n",
       "        vertical-align: top;\n",
       "    }\n",
       "\n",
       "    .dataframe thead th {\n",
       "        text-align: right;\n",
       "    }\n",
       "</style>\n",
       "<table border=\"1\" class=\"dataframe\">\n",
       "  <thead>\n",
       "    <tr style=\"text-align: right;\">\n",
       "      <th></th>\n",
       "      <th>LINEA</th>\n",
       "      <th>geometry</th>\n",
       "      <th>MEDIO</th>\n",
       "    </tr>\n",
       "  </thead>\n",
       "  <tbody>\n",
       "    <tr>\n",
       "      <th>0</th>\n",
       "      <td>501</td>\n",
       "      <td>POINT (-58.38407 -34.88737)</td>\n",
       "      <td>COL</td>\n",
       "    </tr>\n",
       "    <tr>\n",
       "      <th>1</th>\n",
       "      <td>501</td>\n",
       "      <td>POINT (-58.38771 -34.88767)</td>\n",
       "      <td>COL</td>\n",
       "    </tr>\n",
       "    <tr>\n",
       "      <th>2</th>\n",
       "      <td>501</td>\n",
       "      <td>POINT (-58.39012 -34.88754)</td>\n",
       "      <td>COL</td>\n",
       "    </tr>\n",
       "    <tr>\n",
       "      <th>3</th>\n",
       "      <td>501</td>\n",
       "      <td>POINT (-58.39024 -34.89055)</td>\n",
       "      <td>COL</td>\n",
       "    </tr>\n",
       "    <tr>\n",
       "      <th>4</th>\n",
       "      <td>501</td>\n",
       "      <td>POINT (-58.39197 -34.89216)</td>\n",
       "      <td>COL</td>\n",
       "    </tr>\n",
       "  </tbody>\n",
       "</table>\n",
       "</div>"
      ],
      "text/plain": [
       "  LINEA                     geometry MEDIO\n",
       "0   501  POINT (-58.38407 -34.88737)   COL\n",
       "1   501  POINT (-58.38771 -34.88767)   COL\n",
       "2   501  POINT (-58.39012 -34.88754)   COL\n",
       "3   501  POINT (-58.39024 -34.89055)   COL\n",
       "4   501  POINT (-58.39197 -34.89216)   COL"
      ]
     },
     "execution_count": 48,
     "metadata": {},
     "output_type": "execute_result"
    }
   ],
   "source": [
    "paradas = pd.concat([paradas_bus_muni,paradas_bus_prov,paradas_bus_nac,ffcc,subte])\n",
    "paradas.head()"
   ]
  },
  {
   "cell_type": "code",
   "execution_count": 51,
   "metadata": {},
   "outputs": [],
   "source": [
    "paradas.to_file('../carto/paradas.geojson',driver='GeoJSON')"
   ]
  },
  {
   "cell_type": "code",
   "execution_count": 52,
   "metadata": {},
   "outputs": [],
   "source": [
    "paradas['LATITUDE'] = paradas.geometry.y\n",
    "paradas['LONGITUDE'] = paradas.geometry.x\n",
    "paradas.drop('geometry',axis=1,inplace=True)"
   ]
  },
  {
   "cell_type": "code",
   "execution_count": 53,
   "metadata": {},
   "outputs": [],
   "source": [
    "DB_USERNAME = 'sube_user'\n",
    "DB_PASSWORD = 'sube_pass'\n",
    "DB_HOST = 'localhost'\n",
    "DB_PORT = '5432'\n",
    "DB_NAME = 'sube'\n",
    "DB_SCHEMA = 'public'"
   ]
  },
  {
   "cell_type": "code",
   "execution_count": 54,
   "metadata": {},
   "outputs": [],
   "source": [
    "engine = create_engine('postgresql://{}:{}@{}:{}/{}'\n",
    "    .format(DB_USERNAME, DB_PASSWORD, DB_HOST,\n",
    "            DB_PORT, DB_NAME))"
   ]
  },
  {
   "cell_type": "code",
   "execution_count": 55,
   "metadata": {},
   "outputs": [
    {
     "name": "stdout",
     "output_type": "stream",
     "text": [
      "CPU times: user 40 s, sys: 116 ms, total: 40.1 s\n",
      "Wall time: 40.1 s\n"
     ]
    }
   ],
   "source": [
    "%time h3_paradas = h3_indexing(paradas.copy(),res_list = [5,12])"
   ]
  },
  {
   "cell_type": "code",
   "execution_count": 56,
   "metadata": {},
   "outputs": [
    {
     "data": {
      "text/html": [
       "<div>\n",
       "<style scoped>\n",
       "    .dataframe tbody tr th:only-of-type {\n",
       "        vertical-align: middle;\n",
       "    }\n",
       "\n",
       "    .dataframe tbody tr th {\n",
       "        vertical-align: top;\n",
       "    }\n",
       "\n",
       "    .dataframe thead th {\n",
       "        text-align: right;\n",
       "    }\n",
       "</style>\n",
       "<table border=\"1\" class=\"dataframe\">\n",
       "  <thead>\n",
       "    <tr style=\"text-align: right;\">\n",
       "      <th></th>\n",
       "      <th>LINEA</th>\n",
       "      <th>MEDIO</th>\n",
       "      <th>LATITUDE</th>\n",
       "      <th>LONGITUDE</th>\n",
       "      <th>h3_res_5</th>\n",
       "      <th>h3_res_6</th>\n",
       "      <th>h3_res_7</th>\n",
       "      <th>h3_res_8</th>\n",
       "      <th>h3_res_9</th>\n",
       "      <th>h3_res_10</th>\n",
       "      <th>h3_res_11</th>\n",
       "      <th>h3_res_12</th>\n",
       "    </tr>\n",
       "  </thead>\n",
       "  <tbody>\n",
       "    <tr>\n",
       "      <th>0</th>\n",
       "      <td>501</td>\n",
       "      <td>COL</td>\n",
       "      <td>-34.887373</td>\n",
       "      <td>-58.384068</td>\n",
       "      <td>85c2e39bfffffff</td>\n",
       "      <td>86c2e3997ffffff</td>\n",
       "      <td>87c2e3994ffffff</td>\n",
       "      <td>88c2e39945fffff</td>\n",
       "      <td>89c2e399453ffff</td>\n",
       "      <td>8ac2e39945affff</td>\n",
       "      <td>8bc2e39945adfff</td>\n",
       "      <td>8cc2e39945ad1ff</td>\n",
       "    </tr>\n",
       "    <tr>\n",
       "      <th>1</th>\n",
       "      <td>501</td>\n",
       "      <td>COL</td>\n",
       "      <td>-34.887670</td>\n",
       "      <td>-58.387713</td>\n",
       "      <td>85c2e39bfffffff</td>\n",
       "      <td>86c2e3997ffffff</td>\n",
       "      <td>87c2e3994ffffff</td>\n",
       "      <td>88c2e39945fffff</td>\n",
       "      <td>89c2e3994cfffff</td>\n",
       "      <td>8ac2e3994cdffff</td>\n",
       "      <td>8bc2e3994cdbfff</td>\n",
       "      <td>8cc2e3994cdb1ff</td>\n",
       "    </tr>\n",
       "    <tr>\n",
       "      <th>2</th>\n",
       "      <td>501</td>\n",
       "      <td>COL</td>\n",
       "      <td>-34.887542</td>\n",
       "      <td>-58.390125</td>\n",
       "      <td>85c2e39bfffffff</td>\n",
       "      <td>86c2e3997ffffff</td>\n",
       "      <td>87c2e3994ffffff</td>\n",
       "      <td>88c2e39941fffff</td>\n",
       "      <td>89c2e39941bffff</td>\n",
       "      <td>8ac2e3994197fff</td>\n",
       "      <td>8bc2e39941b3fff</td>\n",
       "      <td>8cc2e3994194bff</td>\n",
       "    </tr>\n",
       "    <tr>\n",
       "      <th>3</th>\n",
       "      <td>501</td>\n",
       "      <td>COL</td>\n",
       "      <td>-34.890546</td>\n",
       "      <td>-58.390244</td>\n",
       "      <td>85c2e39bfffffff</td>\n",
       "      <td>86c2e3997ffffff</td>\n",
       "      <td>87c2e3994ffffff</td>\n",
       "      <td>88c2e3994dfffff</td>\n",
       "      <td>89c2e3994c7ffff</td>\n",
       "      <td>8ac2e3994c77fff</td>\n",
       "      <td>8bc2e3994c76fff</td>\n",
       "      <td>8cc2e3994c763ff</td>\n",
       "    </tr>\n",
       "    <tr>\n",
       "      <th>4</th>\n",
       "      <td>501</td>\n",
       "      <td>COL</td>\n",
       "      <td>-34.892161</td>\n",
       "      <td>-58.391970</td>\n",
       "      <td>85c2e39bfffffff</td>\n",
       "      <td>86c2e3997ffffff</td>\n",
       "      <td>87c2e3994ffffff</td>\n",
       "      <td>88c2e3994dfffff</td>\n",
       "      <td>89c2e3994d7ffff</td>\n",
       "      <td>8ac2e3994d47fff</td>\n",
       "      <td>8bc2e3994d45fff</td>\n",
       "      <td>8cc2e3994d45bff</td>\n",
       "    </tr>\n",
       "  </tbody>\n",
       "</table>\n",
       "</div>"
      ],
      "text/plain": [
       "  LINEA MEDIO   LATITUDE  LONGITUDE         h3_res_5         h3_res_6  \\\n",
       "0   501   COL -34.887373 -58.384068  85c2e39bfffffff  86c2e3997ffffff   \n",
       "1   501   COL -34.887670 -58.387713  85c2e39bfffffff  86c2e3997ffffff   \n",
       "2   501   COL -34.887542 -58.390125  85c2e39bfffffff  86c2e3997ffffff   \n",
       "3   501   COL -34.890546 -58.390244  85c2e39bfffffff  86c2e3997ffffff   \n",
       "4   501   COL -34.892161 -58.391970  85c2e39bfffffff  86c2e3997ffffff   \n",
       "\n",
       "          h3_res_7         h3_res_8         h3_res_9        h3_res_10  \\\n",
       "0  87c2e3994ffffff  88c2e39945fffff  89c2e399453ffff  8ac2e39945affff   \n",
       "1  87c2e3994ffffff  88c2e39945fffff  89c2e3994cfffff  8ac2e3994cdffff   \n",
       "2  87c2e3994ffffff  88c2e39941fffff  89c2e39941bffff  8ac2e3994197fff   \n",
       "3  87c2e3994ffffff  88c2e3994dfffff  89c2e3994c7ffff  8ac2e3994c77fff   \n",
       "4  87c2e3994ffffff  88c2e3994dfffff  89c2e3994d7ffff  8ac2e3994d47fff   \n",
       "\n",
       "         h3_res_11        h3_res_12  \n",
       "0  8bc2e39945adfff  8cc2e39945ad1ff  \n",
       "1  8bc2e3994cdbfff  8cc2e3994cdb1ff  \n",
       "2  8bc2e39941b3fff  8cc2e3994194bff  \n",
       "3  8bc2e3994c76fff  8cc2e3994c763ff  \n",
       "4  8bc2e3994d45fff  8cc2e3994d45bff  "
      ]
     },
     "execution_count": 56,
     "metadata": {},
     "output_type": "execute_result"
    }
   ],
   "source": [
    "h3_paradas.head()"
   ]
  },
  {
   "cell_type": "code",
   "execution_count": 57,
   "metadata": {},
   "outputs": [],
   "source": [
    "h3_paradas.to_csv('../data/h3_paradas.csv',index=False)"
   ]
  },
  {
   "cell_type": "code",
   "execution_count": 58,
   "metadata": {},
   "outputs": [],
   "source": [
    "h3_paradas.to_sql('paradas', engine, schema=DB_SCHEMA)"
   ]
  },
  {
   "cell_type": "code",
   "execution_count": null,
   "metadata": {
    "scrolled": true
   },
   "outputs": [],
   "source": [
    "# plotear el mapa de hexagrillas de paradas\n",
    "lista_indices_global = h3_paradas.h3_res_5.unique()\n",
    "geo_df = gpd.GeoDataFrame(lista_indices_global,\n",
    "                          geometry = [Polygon(h3.h3_to_geo_boundary(h3_address=h, geo_json=True)\n",
    "                                                                   ) for h in lista_indices_global],\n",
    "                          crs = 'EPSG:4326')\n",
    "geo_df.columns=['h3_index','geometry']\n",
    "geo_df.to_file('../carto/carto_paradas_hex_res_5.geojson',driver='GeoJSON')\n",
    "geo_df.head()"
   ]
  }
 ],
 "metadata": {
  "kernelspec": {
   "display_name": "sube_od",
   "language": "python",
   "name": "sube_od"
  },
  "language_info": {
   "codemirror_mode": {
    "name": "ipython",
    "version": 3
   },
   "file_extension": ".py",
   "mimetype": "text/x-python",
   "name": "python",
   "nbconvert_exporter": "python",
   "pygments_lexer": "ipython3",
   "version": "3.7.6"
  }
 },
 "nbformat": 4,
 "nbformat_minor": 4
}
