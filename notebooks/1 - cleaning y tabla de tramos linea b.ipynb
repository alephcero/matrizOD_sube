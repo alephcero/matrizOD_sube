{
 "cells": [
  {
   "cell_type": "code",
   "execution_count": null,
   "metadata": {},
   "outputs": [],
   "source": [
    "import geopandas as gpd\n",
    "import pandas as pd\n",
    "from h3 import h3\n",
    "from sqlalchemy import create_engine\n",
    "import numpy as np\n",
    "import psycopg2"
   ]
  },
  {
   "cell_type": "code",
   "execution_count": null,
   "metadata": {},
   "outputs": [],
   "source": [
    "def crear_filtro_trx_seguidas(dt, minutos = 3, fecha_col = 'FECHATRX'):\n",
    "    '''\n",
    "    esta funcion toma el dataset de viajes, agrupa por tarjeta,\n",
    "    ordena por fecha y elimina las transacciones 'simultaneas', \n",
    "    es decir, menos de 3 minutos o el parametro que se corra\n",
    "    '''\n",
    "    dt = dt.sort_values(by=[fecha_col])\n",
    "    dt['delta'] = (dt[fecha_col].shift(-1) - dt[fecha_col])#.fillna(pd.Timedelta(10**12))\n",
    "    dt['trx_no_seguidas'] = dt['delta'] /np.timedelta64(1, 'm') > minutos\n",
    "    #la ultima transaccion va a tener un delta de NaT, va True\n",
    "    dt['trx_no_seguidas'].iloc[-1] = True\n",
    "    dt = dt.loc[dt.trx_no_seguidas,:]\n",
    "    return dt\n",
    "\n",
    "def crear_tramo_id(dt):\n",
    "    dt['tramo_id'] = range(len(dt))\n",
    "    return dt"
   ]
  },
  {
   "cell_type": "code",
   "execution_count": null,
   "metadata": {},
   "outputs": [],
   "source": [
    "DB_USERNAME = 'sube_user'\n",
    "DB_PASSWORD = 'sube_pass'\n",
    "DB_HOST = 'localhost'\n",
    "DB_PORT = '5432'\n",
    "DB_NAME = 'sube'\n",
    "DB_SCHEMA = 'public'"
   ]
  },
  {
   "cell_type": "code",
   "execution_count": null,
   "metadata": {},
   "outputs": [],
   "source": [
    "resolucion_h3 = 11"
   ]
  },
  {
   "cell_type": "code",
   "execution_count": null,
   "metadata": {},
   "outputs": [],
   "source": [
    "# Conectar a la db\n",
    "conn = psycopg2.connect(user = DB_USERNAME,\n",
    "                                      password = DB_PASSWORD,\n",
    "                                      host = DB_HOST,\n",
    "                                      port = DB_PORT,\n",
    "                                      database = DB_NAME)"
   ]
  },
  {
   "cell_type": "code",
   "execution_count": null,
   "metadata": {},
   "outputs": [],
   "source": [
    "engine = create_engine('postgresql://{}:{}@{}:{}/{}'\n",
    "    .format(DB_USERNAME, DB_PASSWORD, DB_HOST,\n",
    "            DB_PORT, DB_NAME))"
   ]
  },
  {
   "cell_type": "code",
   "execution_count": null,
   "metadata": {},
   "outputs": [],
   "source": [
    "# traer trx de tarjetas que hayan pasado por la B\n",
    "q = \"\"\"\n",
    "select t.\"ID_TARJETA\",t.\"LATITUDE\",t.\"LONGITUDE\",t.\"FECHATRX\",t.\"LINEA\",t.\"h3_res_%i\"\n",
    "from trx t\n",
    "where t.\"ID_TARJETA\" in (\n",
    "    select distinct t.\"ID_TARJETA\" \n",
    "    from trx t\n",
    "    where t.\"LINEA\" = 'LINEA B'\n",
    "\n",
    ");\n",
    "\"\"\"%resolucion_h3\n",
    "trx = pd.read_sql(q, conn)\n",
    "trx.shape"
   ]
  },
  {
   "cell_type": "code",
   "execution_count": null,
   "metadata": {},
   "outputs": [],
   "source": [
    "trx[trx.ID_TARJETA==955653]"
   ]
  },
  {
   "cell_type": "code",
   "execution_count": null,
   "metadata": {},
   "outputs": [],
   "source": [
    "# elimino tarjetas con una unica transaccion \n",
    "tarjetas_unica_trx = (trx.groupby('ID_TARJETA').count()['LINEA'] == 1)\n",
    "tarjetas_unica_trx = tarjetas_unica_trx.index[tarjetas_unica_trx]\n",
    "print('eliminadas por viaje unico %.2f por ciento'%(len(tarjetas_unica_trx)/len(trx.ID_TARJETA.unique())*100))\n",
    "trx = trx.loc[~trx.ID_TARJETA.isin(tarjetas_unica_trx),:]\n",
    "trx.head()"
   ]
  },
  {
   "cell_type": "code",
   "execution_count": null,
   "metadata": {},
   "outputs": [],
   "source": [
    "trx[trx.ID_TARJETA==955653]"
   ]
  },
  {
   "cell_type": "code",
   "execution_count": null,
   "metadata": {},
   "outputs": [],
   "source": [
    "#eliminar transacciones seguidas\n",
    "print(trx.shape)\n",
    "trx = trx.groupby('ID_TARJETA').apply(crear_filtro_trx_seguidas).copy()\n",
    "trx = trx.reset_index(drop=True)\n",
    "print(trx.shape)"
   ]
  },
  {
   "cell_type": "code",
   "execution_count": null,
   "metadata": {},
   "outputs": [],
   "source": [
    "trx[trx.ID_TARJETA==955653]"
   ]
  },
  {
   "cell_type": "code",
   "execution_count": null,
   "metadata": {},
   "outputs": [],
   "source": [
    "trx = trx.drop('trx_no_seguidas',axis=1)"
   ]
  },
  {
   "cell_type": "code",
   "execution_count": null,
   "metadata": {},
   "outputs": [],
   "source": [
    "trx[trx.ID_TARJETA==955653]"
   ]
  },
  {
   "cell_type": "code",
   "execution_count": null,
   "metadata": {},
   "outputs": [],
   "source": [
    "trx = trx.rename(columns = {'ID_TARJETA':'tarjeta',\n",
    "                    'LINEA':'linea',\n",
    "                    'LATITUDE':'lat_o',\n",
    "                    'LONGITUDE':'lon_o',\n",
    "                    'FECHATRX':'fecha',\n",
    "                    'h3_res_%i'%resolucion_h3:'h3_o'\n",
    "                    })"
   ]
  },
  {
   "cell_type": "code",
   "execution_count": null,
   "metadata": {},
   "outputs": [],
   "source": [
    "trx.head()"
   ]
  },
  {
   "cell_type": "code",
   "execution_count": null,
   "metadata": {},
   "outputs": [],
   "source": [
    "trx[trx.tarjeta==955653]"
   ]
  },
  {
   "cell_type": "code",
   "execution_count": null,
   "metadata": {},
   "outputs": [],
   "source": [
    "trx = trx.groupby('tarjeta').apply(crear_tramo_id)\n"
   ]
  },
  {
   "cell_type": "code",
   "execution_count": null,
   "metadata": {},
   "outputs": [],
   "source": [
    "trx[trx.tarjeta==955653]"
   ]
  },
  {
   "cell_type": "code",
   "execution_count": null,
   "metadata": {},
   "outputs": [],
   "source": [
    "conn.close()"
   ]
  },
  {
   "cell_type": "code",
   "execution_count": null,
   "metadata": {},
   "outputs": [],
   "source": [
    "trx.to_csv('../data/trx_linea_b.csv',index=False)"
   ]
  },
  {
   "cell_type": "code",
   "execution_count": null,
   "metadata": {},
   "outputs": [],
   "source": [
    "trx.to_sql('trx_linea_b', engine, schema=DB_SCHEMA,index=False,method='multi')"
   ]
  },
  {
   "cell_type": "code",
   "execution_count": null,
   "metadata": {
    "scrolled": true
   },
   "outputs": [],
   "source": [
    "# traer trx de tarjetas que hayan pasado por la B\n",
    "q = \"\"\"\n",
    "select *\n",
    "from trx_linea_b tlb;\n",
    "\"\"\"\n",
    "trx = pd.read_sql(q, conn)\n",
    "trx.shape"
   ]
  },
  {
   "cell_type": "code",
   "execution_count": null,
   "metadata": {},
   "outputs": [],
   "source": [
    "trx['delta'] = pd.to_timedelta(trx['delta'])\n",
    "trx.head()"
   ]
  },
  {
   "cell_type": "code",
   "execution_count": null,
   "metadata": {},
   "outputs": [],
   "source": [
    "tabla_tramos = trx.reindex(columns = ['tarjeta','tramo_id','linea','fecha','lat_o','lon_o','delta','h3_o'])\n",
    "tabla_tramos['lat_d'] = None\n",
    "tabla_tramos['lon_d'] = None\n",
    "tabla_tramos['h3_d'] = None\n",
    "tabla_tramos['viaje_id'] = None\n",
    "tabla_tramos.head(20)"
   ]
  },
  {
   "cell_type": "code",
   "execution_count": null,
   "metadata": {},
   "outputs": [],
   "source": [
    "tabla_tramos.to_sql('tramos_linea_b', engine, schema=DB_SCHEMA,index=False,method='multi')"
   ]
  },
  {
   "cell_type": "code",
   "execution_count": null,
   "metadata": {},
   "outputs": [],
   "source": [
    "# para volver el valor a time delta desde la db usar pd.to_timedelta(delta)"
   ]
  }
 ],
 "metadata": {
  "kernelspec": {
   "display_name": "sube_od",
   "language": "python",
   "name": "sube_od"
  },
  "language_info": {
   "codemirror_mode": {
    "name": "ipython",
    "version": 3
   },
   "file_extension": ".py",
   "mimetype": "text/x-python",
   "name": "python",
   "nbconvert_exporter": "python",
   "pygments_lexer": "ipython3",
   "version": "3.7.6"
  }
 },
 "nbformat": 4,
 "nbformat_minor": 4
}
