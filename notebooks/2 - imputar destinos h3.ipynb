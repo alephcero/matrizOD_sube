{
 "cells": [
  {
   "cell_type": "markdown",
   "metadata": {},
   "source": [
    "# comparar performance"
   ]
  },
  {
   "cell_type": "code",
   "execution_count": null,
   "metadata": {},
   "outputs": [],
   "source": [
    "import pandas as pd\n",
    "import numpy as np\n",
    "import yaml\n",
    "\n",
    "from sqlalchemy import create_engine\n",
    "import psycopg2\n",
    "\n",
    "import geopandas as gpd\n",
    "from h3 import h3\n",
    "from shapely.geometry import LineString, Point\n",
    "\n",
    "import matplotlib.pyplot as plt\n",
    "%matplotlib inline"
   ]
  },
  {
   "cell_type": "code",
   "execution_count": null,
   "metadata": {},
   "outputs": [],
   "source": [
    "def imputar_detino_por_tarjeta(tramos_tarjeta,tolerancia_hex = 21):\n",
    "    try:\n",
    "        for i in range(len(tramos_tarjeta)):\n",
    "            # tomo un tramo\n",
    "            tramo = tramos_tarjeta.iloc[i]\n",
    "            # tomo la linea del tramo\n",
    "            linea_trx = tramo.linea\n",
    "            if linea_trx in equivalencias.keys():\n",
    "                linea_carto = equivalencias[linea_trx]\n",
    "            else:\n",
    "                linea_carto = linea_trx\n",
    "\n",
    "            # y sus posibles paradas de la cartografia\n",
    "            paradas_destino_posibles = paradas.loc[paradas.linea == linea_carto,'h3_res_%i'%resolucion]\n",
    "\n",
    "            # tomo las coordenadas del siguiente origen\n",
    "            if i < (len(tramos_tarjeta)-1):\n",
    "                #cuando hay un O_2\n",
    "                O_2 = tramos_tarjeta.iloc[i+1]['h3_o']\n",
    "            else:\n",
    "                #si no tomar el primero del dia\n",
    "                O_2 = tramos_tarjeta.iloc[0]['h3_o']\n",
    "                \n",
    "            #calculo la distancias        \n",
    "            distancias_a_paradas = paradas_destino_posibles.map(\n",
    "                lambda h : h3.h3_distance(\n",
    "                    h3_address_origin = O_2,\n",
    "                    h3_address_h3 = h))\n",
    "            \n",
    "            #evaluo tolerancia\n",
    "            if any(distancias_a_paradas < tolerancia_hex):\n",
    "                parada_destino = paradas_destino_posibles.loc[distancias_a_paradas.idxmin()]\n",
    "            else:\n",
    "                parada_destino = None \n",
    "                \n",
    "            #asigno el destino\n",
    "            tramos_tarjeta.loc[tramo.name,'h3_d'] = parada_destino\n",
    "            \n",
    "    except: \n",
    "        print('tarjeta:',tramos_tarjeta.tarjeta.unique())\n",
    "        \n",
    "    return tramos_tarjeta\n",
    "\n",
    "def crear_Punto(row):\n",
    "    if row.lat_d == None:\n",
    "        return None\n",
    "    else:\n",
    "        return Point(row.lon_d,row.lat_d)\n",
    "        "
   ]
  },
  {
   "cell_type": "code",
   "execution_count": null,
   "metadata": {},
   "outputs": [],
   "source": [
    "DB_USERNAME = 'sube_user'\n",
    "DB_PASSWORD = 'sube_pass'\n",
    "DB_HOST = 'localhost'\n",
    "DB_PORT = '5432'\n",
    "DB_NAME = 'sube'\n",
    "DB_SCHEMA = 'public'"
   ]
  },
  {
   "cell_type": "code",
   "execution_count": null,
   "metadata": {},
   "outputs": [],
   "source": [
    "# Conectar a la db\n",
    "conn = psycopg2.connect(user = DB_USERNAME,\n",
    "                                      password = DB_PASSWORD,\n",
    "                                      host = DB_HOST,\n",
    "                                      port = DB_PORT,\n",
    "                                      database = DB_NAME)"
   ]
  },
  {
   "cell_type": "code",
   "execution_count": null,
   "metadata": {},
   "outputs": [],
   "source": [
    "engine = create_engine('postgresql://{}:{}@{}:{}/{}'\n",
    "    .format(DB_USERNAME, DB_PASSWORD, DB_HOST,\n",
    "            DB_PORT, DB_NAME))"
   ]
  },
  {
   "cell_type": "code",
   "execution_count": null,
   "metadata": {},
   "outputs": [],
   "source": [
    "with open('../recorridos_equivalencias.yaml') as file:\n",
    "    equivalencias = yaml.load(file, Loader=yaml.FullLoader)"
   ]
  },
  {
   "cell_type": "code",
   "execution_count": null,
   "metadata": {},
   "outputs": [],
   "source": [
    "cantidad_de_tarjetas = 30000"
   ]
  },
  {
   "cell_type": "code",
   "execution_count": null,
   "metadata": {},
   "outputs": [],
   "source": [
    "q = \"\"\"\n",
    "select *\n",
    "from tramos_linea_b t \n",
    "where tarjeta in (\n",
    "    with mask_table as (\n",
    "        select tarjeta,count(tarjeta) = SUM(CASE when h3_d  IS NULL THEN 1 else 0 END) as mask\n",
    "        from tramos_linea_b tlb \n",
    "        group by tarjeta\n",
    "    )\n",
    "    select tarjeta\n",
    "    from mask_table\n",
    "    where mask = true\n",
    "    limit %i\n",
    ")\n",
    "order by tarjeta, tramo_id;\n",
    "\"\"\"%cantidad_de_tarjetas\n",
    "tramos = pd.read_sql(q, conn)\n",
    "tramos['delta'] = pd.to_timedelta(tramos['delta'])\n",
    "tramos.head()"
   ]
  },
  {
   "cell_type": "code",
   "execution_count": null,
   "metadata": {},
   "outputs": [],
   "source": [
    "len(tramos)"
   ]
  },
  {
   "cell_type": "code",
   "execution_count": null,
   "metadata": {},
   "outputs": [],
   "source": [
    "resolucion = 11\n",
    "tolerancia_metros = 1000\n",
    "distancia_entre_hex = h3.edge_length(resolution=resolucion, unit='m') * 2 \n",
    "tolerancia_hex = np.ceil(tolerancia_metros / distancia_entre_hex)"
   ]
  },
  {
   "cell_type": "code",
   "execution_count": null,
   "metadata": {},
   "outputs": [],
   "source": [
    "q = \"\"\"\n",
    "select p.\"linea\", p.\"latitude\",p.\"longitude\",p.\"h3_res_%i\"\n",
    "from paradas p\n",
    "\"\"\"%resolucion\n",
    "paradas = pd.read_sql(q, conn)\n",
    "paradas.head()"
   ]
  },
  {
   "cell_type": "code",
   "execution_count": null,
   "metadata": {},
   "outputs": [],
   "source": [
    "%time destinos = tramos.groupby(['tarjeta']).apply(imputar_detino_por_tarjeta,tolerancia_hex=tolerancia_hex)\n",
    "destinos"
   ]
  },
  {
   "cell_type": "code",
   "execution_count": null,
   "metadata": {},
   "outputs": [],
   "source": [
    "#tarjetas_sin_destinos = destinos.groupby('tarjeta').agg(lambda x: x.isnull().sum()==len(x))\n",
    "#tarjetas_sin_destinos[tarjetas_sin_destinos.h3_d == True].head()"
   ]
  },
  {
   "cell_type": "code",
   "execution_count": null,
   "metadata": {},
   "outputs": [],
   "source": [
    "# 5k tarjetas 18k trx tardo: 3 min\n",
    "# 10k tarjetas 38k trx tardo: 6min\n",
    "# 20k tarjetas 78k trx tardo: 13min\n",
    "# 40k tarjetas 160k trx tardo: 29min\n",
    "# 80k tarjetas 320k trx tardo: 56min\n",
    "# 50k tarjetas 218 trx tardo: 40min"
   ]
  },
  {
   "cell_type": "code",
   "execution_count": null,
   "metadata": {},
   "outputs": [],
   "source": [
    "destinos.h3_d.isnull().sum()/len(destinos)*100"
   ]
  },
  {
   "cell_type": "code",
   "execution_count": null,
   "metadata": {},
   "outputs": [],
   "source": [
    "sin_destino_por_linea = destinos.groupby('linea').apply(lambda dt: dt.h3_d.isnull().sum()/len(dt)*100)\n",
    "sin_destino_por_linea = pd.DataFrame({'prop_sin_destino':sin_destino_por_linea,'trx':destinos.linea.value_counts()})\n",
    "sin_destino_por_linea.sort_values(by=['prop_sin_destino','trx'],ascending=False).head(20)"
   ]
  },
  {
   "cell_type": "code",
   "execution_count": null,
   "metadata": {},
   "outputs": [],
   "source": [
    "destinos.loc[destinos.tarjeta == destinos.tarjeta.sample(1).iloc[0],:]"
   ]
  },
  {
   "cell_type": "code",
   "execution_count": null,
   "metadata": {},
   "outputs": [],
   "source": [
    "destinos = destinos.reindex(columns = ['tarjeta','tramo_id','h3_d'])\n",
    "destinos"
   ]
  },
  {
   "cell_type": "code",
   "execution_count": null,
   "metadata": {},
   "outputs": [],
   "source": [
    "destinos.to_sql('destinos', engine, schema=DB_SCHEMA,index=False,method='multi')"
   ]
  },
  {
   "cell_type": "code",
   "execution_count": null,
   "metadata": {},
   "outputs": [],
   "source": [
    "update_query = \"\"\"\n",
    "UPDATE tramos_linea_b \n",
    "SET h3_d = d.h3_d\n",
    "FROM destinos d\n",
    "WHERE tramos_linea_b.tarjeta = d.tarjeta\n",
    "and tramos_linea_b.tramo_id = d.tramo_id;\n",
    "\n",
    "\n",
    "DROP TABLE IF EXISTS destinos; \n",
    "\"\"\""
   ]
  },
  {
   "cell_type": "code",
   "execution_count": null,
   "metadata": {},
   "outputs": [],
   "source": [
    "cur = conn.cursor()\n",
    "cur.execute(update_query)\n",
    "cur.close()\n",
    "conn.commit()"
   ]
  },
  {
   "cell_type": "code",
   "execution_count": null,
   "metadata": {},
   "outputs": [],
   "source": [
    "q=\"\"\"\n",
    "with mask_table as (\n",
    "    select tarjeta,count(tarjeta) = SUM(CASE when h3_d  IS NULL THEN 1 else 0 END) as mask\n",
    "    from tramos_linea_b tlb \n",
    "    group by tarjeta\n",
    ")\n",
    "select count(*)\n",
    "from mask_table\n",
    "where mask = true ;\n",
    "\"\"\"\n",
    "quedan = pd.read_sql(q, conn)\n",
    "quedan = quedan.iloc[0,0]"
   ]
  },
  {
   "cell_type": "code",
   "execution_count": null,
   "metadata": {},
   "outputs": [],
   "source": [
    "print('Quedan %s tarjetas'%quedan)"
   ]
  },
  {
   "cell_type": "code",
   "execution_count": null,
   "metadata": {},
   "outputs": [],
   "source": [
    "# post 80k 1 tanda tarjetas quedan 106811\n",
    "# post 80k 2 tanda tarjetas quedan 27609\n"
   ]
  },
  {
   "cell_type": "code",
   "execution_count": null,
   "metadata": {},
   "outputs": [],
   "source": []
  },
  {
   "cell_type": "code",
   "execution_count": null,
   "metadata": {},
   "outputs": [],
   "source": []
  }
 ],
 "metadata": {
  "kernelspec": {
   "display_name": "sube_od",
   "language": "python",
   "name": "sube_od"
  },
  "language_info": {
   "codemirror_mode": {
    "name": "ipython",
    "version": 3
   },
   "file_extension": ".py",
   "mimetype": "text/x-python",
   "name": "python",
   "nbconvert_exporter": "python",
   "pygments_lexer": "ipython3",
   "version": "3.7.6"
  }
 },
 "nbformat": 4,
 "nbformat_minor": 2
}
