{
 "cells": [
  {
   "cell_type": "code",
   "execution_count": 1,
   "metadata": {},
   "outputs": [],
   "source": [
    "import pandas as pd\n",
    "from h3 import h3\n",
    "from sqlalchemy import create_engine\n"
   ]
  },
  {
   "cell_type": "code",
   "execution_count": null,
   "metadata": {},
   "outputs": [],
   "source": [
    "def h3_from_row(row,res,x,y):\n",
    "    '''\n",
    "    Esta funcion toma una fila, un nivel de resolucion de h3\n",
    "    y los nombres que contienen las coordenadas xy\n",
    "    y devuelve un id de indice h3\n",
    "    '''\n",
    "    return h3.geo_to_h3(row[y],row[x],res = res)\n",
    "\n",
    "def h3_indexing(df,res_list,lat='LATITUDE',lon='LONGITUDE'):\n",
    "    \"\"\"\n",
    "    Esta funcion toma una tabla con dos pares de coordenadas para origen y destino\n",
    "    Un nivel de resolucion h3\n",
    "    y devuelve la tabla con los ids de h3\n",
    "    \"\"\"\n",
    "    \n",
    "    if len(res_list) == 1:\n",
    "        res_list.append(res_list[0])\n",
    "        \n",
    "    for res in range(res_list[0],res_list[1] + 1):\n",
    "        df['h3_res_' + str(res)] = df.apply(h3_from_row, axis=1, args=[res,lon,lat])\n",
    "\n",
    "    return df"
   ]
  },
  {
   "cell_type": "code",
   "execution_count": null,
   "metadata": {},
   "outputs": [],
   "source": [
    "DB_USERNAME = 'sube_user'\n",
    "DB_PASSWORD = 'sube_pass'\n",
    "DB_HOST = 'localhost'\n",
    "DB_PORT = '5432'\n",
    "DB_NAME = 'sube'\n",
    "DB_SCHEMA = 'public'"
   ]
  },
  {
   "cell_type": "code",
   "execution_count": null,
   "metadata": {},
   "outputs": [],
   "source": [
    "%time trx = pd.read_csv('../data/original/D_USOS_DIA20181010.CSV',sep=';',parse_dates=[3])"
   ]
  },
  {
   "cell_type": "code",
   "execution_count": null,
   "metadata": {},
   "outputs": [],
   "source": [
    "# limpiar latlong nulls \n",
    "%time trx = trx.dropna(subset=['LATITUDE','LONGITUDE'])"
   ]
  },
  {
   "cell_type": "code",
   "execution_count": null,
   "metadata": {},
   "outputs": [],
   "source": [
    "# limpiar fuera del area de interes\n",
    "trx = trx.loc[(trx.LATITUDE > -35.55) & (trx.LATITUDE < -33.9) & (trx.LONGITUDE > -60.1 ) & (trx.LONGITUDE < -57.1),:]"
   ]
  },
  {
   "cell_type": "code",
   "execution_count": null,
   "metadata": {},
   "outputs": [],
   "source": [
    "trx.head()"
   ]
  },
  {
   "cell_type": "code",
   "execution_count": null,
   "metadata": {},
   "outputs": [],
   "source": [
    "trx.shape"
   ]
  },
  {
   "cell_type": "code",
   "execution_count": null,
   "metadata": {},
   "outputs": [],
   "source": [
    "%time trx_h3 = h3_indexing(trx.copy(),res_list = [10,11])"
   ]
  },
  {
   "cell_type": "code",
   "execution_count": null,
   "metadata": {},
   "outputs": [],
   "source": [
    "trx_h3.head()"
   ]
  },
  {
   "cell_type": "code",
   "execution_count": null,
   "metadata": {},
   "outputs": [],
   "source": [
    "engine = create_engine('postgresql://{}:{}@{}:{}/{}'\n",
    "    .format(DB_USERNAME, DB_PASSWORD, DB_HOST,\n",
    "            DB_PORT, DB_NAME))"
   ]
  },
  {
   "cell_type": "code",
   "execution_count": null,
   "metadata": {},
   "outputs": [],
   "source": [
    "trx_h3.shape"
   ]
  },
  {
   "cell_type": "code",
   "execution_count": null,
   "metadata": {},
   "outputs": [],
   "source": [
    "3649378 + 3661996 + 3660895"
   ]
  },
  {
   "cell_type": "code",
   "execution_count": null,
   "metadata": {},
   "outputs": [],
   "source": [
    "%time trx_h3.to_sql('trx', engine, schema=DB_SCHEMA,if_exists='append',index=False)"
   ]
  },
  {
   "cell_type": "code",
   "execution_count": null,
   "metadata": {},
   "outputs": [],
   "source": []
  }
 ],
 "metadata": {
  "kernelspec": {
   "display_name": "sube_od",
   "language": "python",
   "name": "sube_od"
  },
  "language_info": {
   "codemirror_mode": {
    "name": "ipython",
    "version": 3
   },
   "file_extension": ".py",
   "mimetype": "text/x-python",
   "name": "python",
   "nbconvert_exporter": "python",
   "pygments_lexer": "ipython3",
   "version": "3.7.6"
  }
 },
 "nbformat": 4,
 "nbformat_minor": 4
}
