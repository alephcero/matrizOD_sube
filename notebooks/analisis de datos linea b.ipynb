{
 "cells": [
  {
   "cell_type": "code",
   "execution_count": 16,
   "metadata": {},
   "outputs": [],
   "source": [
    "import pandas as pd\n",
    "import numpy as np\n",
    "import yaml\n",
    "from h3 import h3\n",
    "from sklearn.cluster import DBSCAN\n",
    "from sqlalchemy import create_engine\n",
    "import psycopg2\n",
    "import geopandas as gpd\n",
    "from shapely.geometry import Polygon, LineString\n",
    "\n",
    "\n",
    "import matplotlib.pyplot as plt\n",
    "import seaborn as sns\n",
    "%matplotlib inline"
   ]
  },
  {
   "cell_type": "code",
   "execution_count": 2,
   "metadata": {},
   "outputs": [],
   "source": [
    "DB_USERNAME = 'sube_user'\n",
    "DB_PASSWORD = 'sube_pass'\n",
    "DB_HOST = 'localhost'\n",
    "DB_PORT = '5432'\n",
    "DB_NAME = 'sube'\n",
    "DB_SCHEMA = 'public'\n",
    "\n",
    "# Conectar a la db\n",
    "conn = psycopg2.connect(user = DB_USERNAME,\n",
    "                                      password = DB_PASSWORD,\n",
    "                                      host = DB_HOST,\n",
    "                                      port = DB_PORT,\n",
    "                                      database = DB_NAME)"
   ]
  },
  {
   "cell_type": "code",
   "execution_count": 3,
   "metadata": {},
   "outputs": [],
   "source": [
    "engine = create_engine('postgresql://{}:{}@{}:{}/{}'\n",
    "    .format(DB_USERNAME, DB_PASSWORD, DB_HOST,\n",
    "            DB_PORT, DB_NAME))"
   ]
  },
  {
   "cell_type": "code",
   "execution_count": 55,
   "metadata": {},
   "outputs": [],
   "source": [
    "q = \"\"\"\n",
    "select *\n",
    "from viajes_linea_b\n",
    "\"\"\"\n",
    "viajes = pd.read_sql(q, conn)"
   ]
  },
  {
   "cell_type": "code",
   "execution_count": 104,
   "metadata": {},
   "outputs": [],
   "source": [
    "q = \"\"\"\n",
    "select *\n",
    "from tramos_linea_b\n",
    "\"\"\"\n",
    "tramos = pd.read_sql(q, conn)"
   ]
  },
  {
   "cell_type": "code",
   "execution_count": 9,
   "metadata": {},
   "outputs": [
    {
     "data": {
      "text/plain": [
       "426914"
      ]
     },
     "execution_count": 9,
     "metadata": {},
     "output_type": "execute_result"
    }
   ],
   "source": [
    "len(viajes)"
   ]
  },
  {
   "cell_type": "code",
   "execution_count": 10,
   "metadata": {},
   "outputs": [
    {
     "data": {
      "text/plain": [
       "713466"
      ]
     },
     "execution_count": 10,
     "metadata": {},
     "output_type": "execute_result"
    }
   ],
   "source": [
    "len(tramos)"
   ]
  },
  {
   "cell_type": "code",
   "execution_count": 21,
   "metadata": {},
   "outputs": [
    {
     "data": {
      "text/plain": [
       "426914"
      ]
     },
     "execution_count": 21,
     "metadata": {},
     "output_type": "execute_result"
    }
   ],
   "source": [
    "viajes.tramos.value_counts().sum()"
   ]
  },
  {
   "cell_type": "code",
   "execution_count": 24,
   "metadata": {},
   "outputs": [
    {
     "data": {
      "text/plain": [
       "''"
      ]
     },
     "execution_count": 24,
     "metadata": {},
     "output_type": "execute_result"
    },
    {
     "data": {
      "image/png": "[encoded data removed]",
      "text/plain": [
       "<Figure size 576x432 with 1 Axes>"
      ]
     },
     "metadata": {
      "needs_background": "light"
     },
     "output_type": "display_data"
    }
   ],
   "source": [
    "f,ax =plt.subplots(figsize = (8,6))\n",
    "(viajes.tramos.value_counts()/len(viajes)*100).plot(kind='bar',ax=ax)\n",
    "ax.set_xlabel('Tramos por viajes')\n",
    "ax.set_ylabel('% de viajes')\n",
    ";"
   ]
  },
  {
   "cell_type": "code",
   "execution_count": 56,
   "metadata": {},
   "outputs": [
    {
     "data": {
      "text/html": [
       "<div>\n",
       "<style scoped>\n",
       "    .dataframe tbody tr th:only-of-type {\n",
       "        vertical-align: middle;\n",
       "    }\n",
       "\n",
       "    .dataframe tbody tr th {\n",
       "        vertical-align: top;\n",
       "    }\n",
       "\n",
       "    .dataframe thead th {\n",
       "        text-align: right;\n",
       "    }\n",
       "</style>\n",
       "<table border=\"1\" class=\"dataframe\">\n",
       "  <thead>\n",
       "    <tr style=\"text-align: right;\">\n",
       "      <th></th>\n",
       "      <th>tarjeta</th>\n",
       "      <th>viaje_id</th>\n",
       "      <th>h3_o_11</th>\n",
       "      <th>h3_d_11</th>\n",
       "    </tr>\n",
       "  </thead>\n",
       "  <tbody>\n",
       "    <tr>\n",
       "      <th>0</th>\n",
       "      <td>32</td>\n",
       "      <td>0</td>\n",
       "      <td>8bc2e31094b1fff</td>\n",
       "      <td>8bc2e311c55efff</td>\n",
       "    </tr>\n",
       "    <tr>\n",
       "      <th>1</th>\n",
       "      <td>32</td>\n",
       "      <td>1</td>\n",
       "      <td>8bc2e311c55efff</td>\n",
       "      <td>8bc2e31094b1fff</td>\n",
       "    </tr>\n",
       "    <tr>\n",
       "      <th>2</th>\n",
       "      <td>36</td>\n",
       "      <td>0</td>\n",
       "      <td>8bc2e388925cfff</td>\n",
       "      <td>8bc2e311db95fff</td>\n",
       "    </tr>\n",
       "    <tr>\n",
       "      <th>3</th>\n",
       "      <td>36</td>\n",
       "      <td>1</td>\n",
       "      <td>8bc2e311da0cfff</td>\n",
       "      <td>8bc2e31094b1fff</td>\n",
       "    </tr>\n",
       "    <tr>\n",
       "      <th>5</th>\n",
       "      <td>42</td>\n",
       "      <td>0</td>\n",
       "      <td>8bc2e311c55efff</td>\n",
       "      <td>8bc2e311ec04fff</td>\n",
       "    </tr>\n",
       "  </tbody>\n",
       "</table>\n",
       "</div>"
      ],
      "text/plain": [
       "   tarjeta  viaje_id          h3_o_11          h3_d_11\n",
       "0       32         0  8bc2e31094b1fff  8bc2e311c55efff\n",
       "1       32         1  8bc2e311c55efff  8bc2e31094b1fff\n",
       "2       36         0  8bc2e388925cfff  8bc2e311db95fff\n",
       "3       36         1  8bc2e311da0cfff  8bc2e31094b1fff\n",
       "5       42         0  8bc2e311c55efff  8bc2e311ec04fff"
      ]
     },
     "execution_count": 56,
     "metadata": {},
     "output_type": "execute_result"
    }
   ],
   "source": [
    "tabla = viajes.reindex(columns = ['tarjeta','viaje_id','h3_o','h3_d'])\n",
    "tabla = tabla.rename(columns = {'h3_o':'h3_o_11','h3_d':'h3_d_11'})\n",
    "tabla = tabla.dropna(subset=['h3_d_11'])\n",
    "tabla.head()"
   ]
  },
  {
   "cell_type": "code",
   "execution_count": 57,
   "metadata": {},
   "outputs": [
    {
     "name": "stdout",
     "output_type": "stream",
     "text": [
      "5\n",
      "6\n",
      "7\n",
      "8\n",
      "9\n",
      "10\n"
     ]
    }
   ],
   "source": [
    "for res in range(5,11):\n",
    "    tabla['h3_o_%s'%res] = tabla['h3_o_11']\\\n",
    "        .map(lambda h:h3.h3_to_parent(h,res=res))\n",
    "    tabla['h3_d_%s'%res] = tabla['h3_d_11']\\\n",
    "        .map(lambda h:h3.h3_to_parent(h,res=res))"
   ]
  },
  {
   "cell_type": "code",
   "execution_count": 58,
   "metadata": {},
   "outputs": [
    {
     "data": {
      "text/html": [
       "<div>\n",
       "<style scoped>\n",
       "    .dataframe tbody tr th:only-of-type {\n",
       "        vertical-align: middle;\n",
       "    }\n",
       "\n",
       "    .dataframe tbody tr th {\n",
       "        vertical-align: top;\n",
       "    }\n",
       "\n",
       "    .dataframe thead th {\n",
       "        text-align: right;\n",
       "    }\n",
       "</style>\n",
       "<table border=\"1\" class=\"dataframe\">\n",
       "  <thead>\n",
       "    <tr style=\"text-align: right;\">\n",
       "      <th></th>\n",
       "      <th>tarjeta</th>\n",
       "      <th>viaje_id</th>\n",
       "      <th>h3_o_11</th>\n",
       "      <th>h3_d_11</th>\n",
       "      <th>h3_o_5</th>\n",
       "      <th>h3_d_5</th>\n",
       "      <th>h3_o_6</th>\n",
       "      <th>h3_d_6</th>\n",
       "      <th>h3_o_7</th>\n",
       "      <th>h3_d_7</th>\n",
       "      <th>h3_o_8</th>\n",
       "      <th>h3_d_8</th>\n",
       "      <th>h3_o_9</th>\n",
       "      <th>h3_d_9</th>\n",
       "      <th>h3_o_10</th>\n",
       "      <th>h3_d_10</th>\n",
       "    </tr>\n",
       "  </thead>\n",
       "  <tbody>\n",
       "    <tr>\n",
       "      <th>0</th>\n",
       "      <td>32</td>\n",
       "      <td>0</td>\n",
       "      <td>8bc2e31094b1fff</td>\n",
       "      <td>8bc2e311c55efff</td>\n",
       "      <td>85c2e313fffffff</td>\n",
       "      <td>85c2e313fffffff</td>\n",
       "      <td>86c2e310fffffff</td>\n",
       "      <td>86c2e311fffffff</td>\n",
       "      <td>87c2e3109ffffff</td>\n",
       "      <td>87c2e311cffffff</td>\n",
       "      <td>88c2e31095fffff</td>\n",
       "      <td>88c2e311c5fffff</td>\n",
       "      <td>89c2e31094bffff</td>\n",
       "      <td>89c2e311c57ffff</td>\n",
       "      <td>8ac2e31094b7fff</td>\n",
       "      <td>8ac2e311c55ffff</td>\n",
       "    </tr>\n",
       "    <tr>\n",
       "      <th>1</th>\n",
       "      <td>32</td>\n",
       "      <td>1</td>\n",
       "      <td>8bc2e311c55efff</td>\n",
       "      <td>8bc2e31094b1fff</td>\n",
       "      <td>85c2e313fffffff</td>\n",
       "      <td>85c2e313fffffff</td>\n",
       "      <td>86c2e311fffffff</td>\n",
       "      <td>86c2e310fffffff</td>\n",
       "      <td>87c2e311cffffff</td>\n",
       "      <td>87c2e3109ffffff</td>\n",
       "      <td>88c2e311c5fffff</td>\n",
       "      <td>88c2e31095fffff</td>\n",
       "      <td>89c2e311c57ffff</td>\n",
       "      <td>89c2e31094bffff</td>\n",
       "      <td>8ac2e311c55ffff</td>\n",
       "      <td>8ac2e31094b7fff</td>\n",
       "    </tr>\n",
       "    <tr>\n",
       "      <th>2</th>\n",
       "      <td>36</td>\n",
       "      <td>0</td>\n",
       "      <td>8bc2e388925cfff</td>\n",
       "      <td>8bc2e311db95fff</td>\n",
       "      <td>85c2e38bfffffff</td>\n",
       "      <td>85c2e313fffffff</td>\n",
       "      <td>86c2e388fffffff</td>\n",
       "      <td>86c2e311fffffff</td>\n",
       "      <td>87c2e3889ffffff</td>\n",
       "      <td>87c2e311dffffff</td>\n",
       "      <td>88c2e38893fffff</td>\n",
       "      <td>88c2e311dbfffff</td>\n",
       "      <td>89c2e388927ffff</td>\n",
       "      <td>89c2e311dbbffff</td>\n",
       "      <td>8ac2e388925ffff</td>\n",
       "      <td>8ac2e311db97fff</td>\n",
       "    </tr>\n",
       "    <tr>\n",
       "      <th>3</th>\n",
       "      <td>36</td>\n",
       "      <td>1</td>\n",
       "      <td>8bc2e311da0cfff</td>\n",
       "      <td>8bc2e31094b1fff</td>\n",
       "      <td>85c2e313fffffff</td>\n",
       "      <td>85c2e313fffffff</td>\n",
       "      <td>86c2e311fffffff</td>\n",
       "      <td>86c2e310fffffff</td>\n",
       "      <td>87c2e311dffffff</td>\n",
       "      <td>87c2e3109ffffff</td>\n",
       "      <td>88c2e311dbfffff</td>\n",
       "      <td>88c2e31095fffff</td>\n",
       "      <td>89c2e311da3ffff</td>\n",
       "      <td>89c2e31094bffff</td>\n",
       "      <td>8ac2e311da0ffff</td>\n",
       "      <td>8ac2e31094b7fff</td>\n",
       "    </tr>\n",
       "    <tr>\n",
       "      <th>5</th>\n",
       "      <td>42</td>\n",
       "      <td>0</td>\n",
       "      <td>8bc2e311c55efff</td>\n",
       "      <td>8bc2e311ec04fff</td>\n",
       "      <td>85c2e313fffffff</td>\n",
       "      <td>85c2e313fffffff</td>\n",
       "      <td>86c2e311fffffff</td>\n",
       "      <td>86c2e311fffffff</td>\n",
       "      <td>87c2e311cffffff</td>\n",
       "      <td>87c2e311effffff</td>\n",
       "      <td>88c2e311c5fffff</td>\n",
       "      <td>88c2e311edfffff</td>\n",
       "      <td>89c2e311c57ffff</td>\n",
       "      <td>89c2e311ec3ffff</td>\n",
       "      <td>8ac2e311c55ffff</td>\n",
       "      <td>8ac2e311ec07fff</td>\n",
       "    </tr>\n",
       "  </tbody>\n",
       "</table>\n",
       "</div>"
      ],
      "text/plain": [
       "   tarjeta  viaje_id          h3_o_11          h3_d_11           h3_o_5  \\\n",
       "0       32         0  8bc2e31094b1fff  8bc2e311c55efff  85c2e313fffffff   \n",
       "1       32         1  8bc2e311c55efff  8bc2e31094b1fff  85c2e313fffffff   \n",
       "2       36         0  8bc2e388925cfff  8bc2e311db95fff  85c2e38bfffffff   \n",
       "3       36         1  8bc2e311da0cfff  8bc2e31094b1fff  85c2e313fffffff   \n",
       "5       42         0  8bc2e311c55efff  8bc2e311ec04fff  85c2e313fffffff   \n",
       "\n",
       "            h3_d_5           h3_o_6           h3_d_6           h3_o_7  \\\n",
       "0  85c2e313fffffff  86c2e310fffffff  86c2e311fffffff  87c2e3109ffffff   \n",
       "1  85c2e313fffffff  86c2e311fffffff  86c2e310fffffff  87c2e311cffffff   \n",
       "2  85c2e313fffffff  86c2e388fffffff  86c2e311fffffff  87c2e3889ffffff   \n",
       "3  85c2e313fffffff  86c2e311fffffff  86c2e310fffffff  87c2e311dffffff   \n",
       "5  85c2e313fffffff  86c2e311fffffff  86c2e311fffffff  87c2e311cffffff   \n",
       "\n",
       "            h3_d_7           h3_o_8           h3_d_8           h3_o_9  \\\n",
       "0  87c2e311cffffff  88c2e31095fffff  88c2e311c5fffff  89c2e31094bffff   \n",
       "1  87c2e3109ffffff  88c2e311c5fffff  88c2e31095fffff  89c2e311c57ffff   \n",
       "2  87c2e311dffffff  88c2e38893fffff  88c2e311dbfffff  89c2e388927ffff   \n",
       "3  87c2e3109ffffff  88c2e311dbfffff  88c2e31095fffff  89c2e311da3ffff   \n",
       "5  87c2e311effffff  88c2e311c5fffff  88c2e311edfffff  89c2e311c57ffff   \n",
       "\n",
       "            h3_d_9          h3_o_10          h3_d_10  \n",
       "0  89c2e311c57ffff  8ac2e31094b7fff  8ac2e311c55ffff  \n",
       "1  89c2e31094bffff  8ac2e311c55ffff  8ac2e31094b7fff  \n",
       "2  89c2e311dbbffff  8ac2e388925ffff  8ac2e311db97fff  \n",
       "3  89c2e31094bffff  8ac2e311da0ffff  8ac2e31094b7fff  \n",
       "5  89c2e311ec3ffff  8ac2e311c55ffff  8ac2e311ec07fff  "
      ]
     },
     "execution_count": 58,
     "metadata": {},
     "output_type": "execute_result"
    }
   ],
   "source": [
    "tabla.head()"
   ]
  },
  {
   "cell_type": "code",
   "execution_count": 60,
   "metadata": {},
   "outputs": [],
   "source": [
    "resolucion_grande = 5\n",
    "resolucion_chica = 11\n",
    "tipo = 'viajes'"
   ]
  },
  {
   "cell_type": "code",
   "execution_count": 71,
   "metadata": {},
   "outputs": [],
   "source": [
    "for resolucion in range(resolucion_grande,resolucion_chica+1):\n",
    "    #crear tabla con OD por hexagrilla\n",
    "    par_OD_resolucion = ['h3_o_%s'%(resolucion),'h3_d_%s'%(resolucion)]\n",
    "    tabla_OD = tabla.reindex(columns = par_OD_resolucion).groupby(par_OD_resolucion).size().reset_index()\n",
    "    tabla_OD.columns = par_OD_resolucion +['n']\n",
    "    tabla_OD[par_OD_resolucion[1]].replace({'0':'Desconocido'},inplace=True) \n",
    "    tabla_OD.to_csv('../tablas/tabla_%s_OD_res_%s.csv'%(tipo,resolucion),index=False)\n",
    "\n",
    "\n",
    "    # cartografia de todas las hexagrillas de una resolucion dada\n",
    "    lista_indices_global = pd.concat([pd.Series(tabla['h3_o_%s'%(resolucion)].unique()),\n",
    "                                      pd.Series(tabla['h3_d_%s'%(resolucion)].unique())]).unique()\n",
    "    \n",
    "    # indice para los None\n",
    "    lista_indices_global = lista_indices_global[lista_indices_global!='0']\n",
    "    geo_df = gpd.GeoDataFrame(lista_indices_global, geometry = [Polygon(h3.h3_to_geo_boundary(h3_address=h,geo_json=True)) \\\n",
    "                                          for h in lista_indices_global],\\\n",
    "                              crs = 'EPSG:4326')\n",
    "    geo_df.columns=['h3_index','geometry']\n",
    "    geo_df.to_file('../carto/carto_hex_res_%s.geojson'%(resolucion),driver='GeoJSON')\n",
    "    \n",
    "    #crear cartografia de recorridos para una resolucion dada\n",
    "    \n",
    "    geometria = [LineString([h3.h3_to_geo(tabla_OD.loc[i][par_OD_resolucion[0]])[::-1],\n",
    "            h3.h3_to_geo(tabla_OD.loc[i][par_OD_resolucion[1]])[::-1]\n",
    "                            ]\n",
    "                           ) for i in tabla_OD.index]    \n",
    "    geo_df = gpd.GeoDataFrame(tabla_OD, geometry = geometria,crs = 'EPSG:4326')\n",
    "    geo_df.to_file('../carto/recorridos_%s_res_%s.geojson'%(tipo,resolucion),driver='GeoJSON')\n"
   ]
  },
  {
   "cell_type": "code",
   "execution_count": 105,
   "metadata": {
    "scrolled": true
   },
   "outputs": [
    {
     "data": {
      "text/html": [
       "<div>\n",
       "<style scoped>\n",
       "    .dataframe tbody tr th:only-of-type {\n",
       "        vertical-align: middle;\n",
       "    }\n",
       "\n",
       "    .dataframe tbody tr th {\n",
       "        vertical-align: top;\n",
       "    }\n",
       "\n",
       "    .dataframe thead th {\n",
       "        text-align: right;\n",
       "    }\n",
       "</style>\n",
       "<table border=\"1\" class=\"dataframe\">\n",
       "  <thead>\n",
       "    <tr style=\"text-align: right;\">\n",
       "      <th></th>\n",
       "      <th>tarjeta</th>\n",
       "      <th>tramo_id</th>\n",
       "      <th>linea</th>\n",
       "      <th>fecha</th>\n",
       "      <th>lat_o</th>\n",
       "      <th>lon_o</th>\n",
       "      <th>delta</th>\n",
       "      <th>h3_o</th>\n",
       "      <th>lat_d</th>\n",
       "      <th>lon_d</th>\n",
       "      <th>h3_d</th>\n",
       "      <th>viaje_id</th>\n",
       "    </tr>\n",
       "  </thead>\n",
       "  <tbody>\n",
       "    <tr>\n",
       "      <th>0</th>\n",
       "      <td>2996396</td>\n",
       "      <td>4</td>\n",
       "      <td>LINEA 132</td>\n",
       "      <td>2018-10-10 19:35:37</td>\n",
       "      <td>-34.598050</td>\n",
       "      <td>-58.370530</td>\n",
       "      <td>NaN</td>\n",
       "      <td>8bc2e31adc1efff</td>\n",
       "      <td>None</td>\n",
       "      <td>None</td>\n",
       "      <td>8bc2e31add5dfff</td>\n",
       "      <td>2</td>\n",
       "    </tr>\n",
       "    <tr>\n",
       "      <th>1</th>\n",
       "      <td>2997539</td>\n",
       "      <td>0</td>\n",
       "      <td>LINEA B</td>\n",
       "      <td>2018-10-10 08:30:46</td>\n",
       "      <td>-34.602162</td>\n",
       "      <td>-58.431274</td>\n",
       "      <td>1.594000e+13</td>\n",
       "      <td>8bc2e311ca68fff</td>\n",
       "      <td>None</td>\n",
       "      <td>None</td>\n",
       "      <td>8bc2e31aca6efff</td>\n",
       "      <td>0</td>\n",
       "    </tr>\n",
       "    <tr>\n",
       "      <th>2</th>\n",
       "      <td>2997900</td>\n",
       "      <td>0</td>\n",
       "      <td>LINEA 42</td>\n",
       "      <td>2018-10-10 14:23:43</td>\n",
       "      <td>-34.573940</td>\n",
       "      <td>-58.447400</td>\n",
       "      <td>9.050000e+11</td>\n",
       "      <td>8bc2e3119a72fff</td>\n",
       "      <td>None</td>\n",
       "      <td>None</td>\n",
       "      <td>8bc2e310ad42fff</td>\n",
       "      <td>0</td>\n",
       "    </tr>\n",
       "    <tr>\n",
       "      <th>3</th>\n",
       "      <td>2997900</td>\n",
       "      <td>2</td>\n",
       "      <td>SUBTE</td>\n",
       "      <td>2018-10-10 15:17:42</td>\n",
       "      <td>-34.604581</td>\n",
       "      <td>-58.405399</td>\n",
       "      <td>1.687000e+12</td>\n",
       "      <td>8bc2e311e96bfff</td>\n",
       "      <td>None</td>\n",
       "      <td>None</td>\n",
       "      <td>8bc2e310ad46fff</td>\n",
       "      <td>0</td>\n",
       "    </tr>\n",
       "    <tr>\n",
       "      <th>4</th>\n",
       "      <td>2997906</td>\n",
       "      <td>1</td>\n",
       "      <td>LINEA 7</td>\n",
       "      <td>2018-10-10 10:03:33</td>\n",
       "      <td>-34.585950</td>\n",
       "      <td>-58.370220</td>\n",
       "      <td>9.084000e+12</td>\n",
       "      <td>8bc2e31ad691fff</td>\n",
       "      <td>None</td>\n",
       "      <td>None</td>\n",
       "      <td>8bc2e3113696fff</td>\n",
       "      <td>0</td>\n",
       "    </tr>\n",
       "  </tbody>\n",
       "</table>\n",
       "</div>"
      ],
      "text/plain": [
       "   tarjeta  tramo_id      linea               fecha      lat_o      lon_o  \\\n",
       "0  2996396         4  LINEA 132 2018-10-10 19:35:37 -34.598050 -58.370530   \n",
       "1  2997539         0    LINEA B 2018-10-10 08:30:46 -34.602162 -58.431274   \n",
       "2  2997900         0   LINEA 42 2018-10-10 14:23:43 -34.573940 -58.447400   \n",
       "3  2997900         2      SUBTE 2018-10-10 15:17:42 -34.604581 -58.405399   \n",
       "4  2997906         1    LINEA 7 2018-10-10 10:03:33 -34.585950 -58.370220   \n",
       "\n",
       "          delta             h3_o lat_d lon_d             h3_d  viaje_id  \n",
       "0           NaN  8bc2e31adc1efff  None  None  8bc2e31add5dfff         2  \n",
       "1  1.594000e+13  8bc2e311ca68fff  None  None  8bc2e31aca6efff         0  \n",
       "2  9.050000e+11  8bc2e3119a72fff  None  None  8bc2e310ad42fff         0  \n",
       "3  1.687000e+12  8bc2e311e96bfff  None  None  8bc2e310ad46fff         0  \n",
       "4  9.084000e+12  8bc2e31ad691fff  None  None  8bc2e3113696fff         0  "
      ]
     },
     "execution_count": 105,
     "metadata": {},
     "output_type": "execute_result"
    }
   ],
   "source": [
    "tramos.head()"
   ]
  },
  {
   "cell_type": "code",
   "execution_count": 107,
   "metadata": {},
   "outputs": [],
   "source": [
    "tramos['urquiza'] = (tramos.linea == 'METROVIAS S.A. (URQUIZA)').map(int)\n",
    "tramos['mitre'] = (tramos.linea == 'SOFSE - Mitre').map(int)\n"
   ]
  },
  {
   "cell_type": "code",
   "execution_count": 108,
   "metadata": {},
   "outputs": [],
   "source": [
    "urquiza = tramos.reindex(columns=['tarjeta','tramo_id','urquiza']).groupby(['tarjeta','tramo_id']).sum()\n",
    "mitre = tramos.reindex(columns=['tarjeta','tramo_id','mitre']).groupby(['tarjeta','tramo_id']).sum()"
   ]
  },
  {
   "cell_type": "code",
   "execution_count": 119,
   "metadata": {},
   "outputs": [
    {
     "data": {
      "text/plain": [
       "6.127832300347879"
      ]
     },
     "execution_count": 119,
     "metadata": {},
     "output_type": "execute_result"
    }
   ],
   "source": [
    "urquiza.urquiza.sum() / len(urquiza) * 100"
   ]
  },
  {
   "cell_type": "code",
   "execution_count": 120,
   "metadata": {},
   "outputs": [
    {
     "data": {
      "text/plain": [
       "2.3716617189887117"
      ]
     },
     "execution_count": 120,
     "metadata": {},
     "output_type": "execute_result"
    }
   ],
   "source": [
    "mitre.mitre.sum() / len(urquiza) * 100"
   ]
  },
  {
   "cell_type": "code",
   "execution_count": 110,
   "metadata": {},
   "outputs": [],
   "source": [
    "tramos = tramos.dropna(subset=['h3_d'])\n",
    "\n",
    "tramos['h3_o_8'] = tramos['h3_o']\\\n",
    "        .map(lambda h:h3.h3_to_parent(h,res=8))\n",
    "tramos['h3_d_8'] = tramos['h3_d']\\\n",
    "        .map(lambda h:h3.h3_to_parent(h,res=8))"
   ]
  },
  {
   "cell_type": "code",
   "execution_count": null,
   "metadata": {},
   "outputs": [],
   "source": [
    "# CELDA LACROZE 88c2e310adfffff"
   ]
  },
  {
   "cell_type": "code",
   "execution_count": 129,
   "metadata": {},
   "outputs": [],
   "source": [
    "tramos_celda_urquiza = tramos.loc[(tramos.h3_o_8 == '88c2e31095fffff') |(tramos.h3_d_8 == '88c2e31095fffff'),:]\n",
    "urquiza_celda = tramos_celda_urquiza.reindex(columns=['tarjeta','tramo_id','mitre']).groupby(['tarjeta','tramo_id']).sum()\n"
   ]
  },
  {
   "cell_type": "code",
   "execution_count": 131,
   "metadata": {},
   "outputs": [
    {
     "data": {
      "text/plain": [
       "13.152043783136651"
      ]
     },
     "execution_count": 131,
     "metadata": {},
     "output_type": "execute_result"
    }
   ],
   "source": [
    "urquiza_celda.mitre.sum() / len(urquiza_celda) * 100"
   ]
  },
  {
   "cell_type": "code",
   "execution_count": 125,
   "metadata": {},
   "outputs": [
    {
     "data": {
      "text/plain": [
       "13.152043783136651"
      ]
     },
     "execution_count": 125,
     "metadata": {},
     "output_type": "execute_result"
    }
   ],
   "source": [
    "tramos_celda_urquiza.mitre.sum() / len(tramos_celda_urquiza) * 100"
   ]
  },
  {
   "cell_type": "code",
   "execution_count": 122,
   "metadata": {},
   "outputs": [],
   "source": [
    "tramos_celda_lacroze = tramos.loc[(tramos.h3_o_8 == '88c2e310adfffff') | (tramos.h3_d_8 == '88c2e310adfffff'),:]\n"
   ]
  },
  {
   "cell_type": "code",
   "execution_count": 124,
   "metadata": {},
   "outputs": [
    {
     "data": {
      "text/plain": [
       "31.146929951710828"
      ]
     },
     "execution_count": 124,
     "metadata": {},
     "output_type": "execute_result"
    }
   ],
   "source": [
    "tramos_celda_lacroze.urquiza.sum() / len(tramos_celda_lacroze) * 100"
   ]
  },
  {
   "cell_type": "code",
   "execution_count": 121,
   "metadata": {},
   "outputs": [
    {
     "data": {
      "text/html": [
       "<div>\n",
       "<style scoped>\n",
       "    .dataframe tbody tr th:only-of-type {\n",
       "        vertical-align: middle;\n",
       "    }\n",
       "\n",
       "    .dataframe tbody tr th {\n",
       "        vertical-align: top;\n",
       "    }\n",
       "\n",
       "    .dataframe thead th {\n",
       "        text-align: right;\n",
       "    }\n",
       "</style>\n",
       "<table border=\"1\" class=\"dataframe\">\n",
       "  <thead>\n",
       "    <tr style=\"text-align: right;\">\n",
       "      <th></th>\n",
       "      <th>tarjeta</th>\n",
       "      <th>tramo_id</th>\n",
       "      <th>linea</th>\n",
       "      <th>fecha</th>\n",
       "      <th>lat_o</th>\n",
       "      <th>lon_o</th>\n",
       "      <th>delta</th>\n",
       "      <th>h3_o</th>\n",
       "      <th>lat_d</th>\n",
       "      <th>lon_d</th>\n",
       "      <th>h3_d</th>\n",
       "      <th>viaje_id</th>\n",
       "      <th>urquiza</th>\n",
       "      <th>mitre</th>\n",
       "      <th>h3_o_8</th>\n",
       "      <th>h3_d_8</th>\n",
       "    </tr>\n",
       "  </thead>\n",
       "  <tbody>\n",
       "    <tr>\n",
       "      <th>281</th>\n",
       "      <td>3191636</td>\n",
       "      <td>3</td>\n",
       "      <td>LINEA 39</td>\n",
       "      <td>2018-10-10 20:57:16</td>\n",
       "      <td>-34.587710</td>\n",
       "      <td>-58.452590</td>\n",
       "      <td>NaN</td>\n",
       "      <td>8bc2e310ad19fff</td>\n",
       "      <td>None</td>\n",
       "      <td>None</td>\n",
       "      <td>8bc2e310ad46fff</td>\n",
       "      <td>2</td>\n",
       "      <td>0</td>\n",
       "      <td>0</td>\n",
       "      <td>88c2e310adfffff</td>\n",
       "      <td>88c2e310adfffff</td>\n",
       "    </tr>\n",
       "    <tr>\n",
       "      <th>355</th>\n",
       "      <td>3242717</td>\n",
       "      <td>1</td>\n",
       "      <td>METROVIAS S.A. (URQUIZA)</td>\n",
       "      <td>2018-10-10 17:26:24</td>\n",
       "      <td>-34.585117</td>\n",
       "      <td>-58.455304</td>\n",
       "      <td>NaN</td>\n",
       "      <td>8bc2e310ac44fff</td>\n",
       "      <td>None</td>\n",
       "      <td>None</td>\n",
       "      <td>8bc2e310ad41fff</td>\n",
       "      <td>1</td>\n",
       "      <td>1</td>\n",
       "      <td>0</td>\n",
       "      <td>88c2e310adfffff</td>\n",
       "      <td>88c2e310adfffff</td>\n",
       "    </tr>\n",
       "    <tr>\n",
       "      <th>383</th>\n",
       "      <td>3264706</td>\n",
       "      <td>2</td>\n",
       "      <td>METROVIAS S.A. (URQUIZA)</td>\n",
       "      <td>2018-10-10 19:54:38</td>\n",
       "      <td>-34.585117</td>\n",
       "      <td>-58.455304</td>\n",
       "      <td>NaN</td>\n",
       "      <td>8bc2e310ac44fff</td>\n",
       "      <td>None</td>\n",
       "      <td>None</td>\n",
       "      <td>8bc2e310ad41fff</td>\n",
       "      <td>1</td>\n",
       "      <td>1</td>\n",
       "      <td>0</td>\n",
       "      <td>88c2e310adfffff</td>\n",
       "      <td>88c2e310adfffff</td>\n",
       "    </tr>\n",
       "    <tr>\n",
       "      <th>708</th>\n",
       "      <td>3582738</td>\n",
       "      <td>8</td>\n",
       "      <td>LINEA 47</td>\n",
       "      <td>2018-10-10 16:28:56</td>\n",
       "      <td>-34.587440</td>\n",
       "      <td>-58.454150</td>\n",
       "      <td>2.990000e+11</td>\n",
       "      <td>8bc2e310ad54fff</td>\n",
       "      <td>None</td>\n",
       "      <td>None</td>\n",
       "      <td>8bc2e310ad56fff</td>\n",
       "      <td>3</td>\n",
       "      <td>0</td>\n",
       "      <td>0</td>\n",
       "      <td>88c2e310adfffff</td>\n",
       "      <td>88c2e310adfffff</td>\n",
       "    </tr>\n",
       "    <tr>\n",
       "      <th>776</th>\n",
       "      <td>3653093</td>\n",
       "      <td>1</td>\n",
       "      <td>LINEA 123</td>\n",
       "      <td>2018-10-10 21:37:14</td>\n",
       "      <td>-34.586730</td>\n",
       "      <td>-58.456870</td>\n",
       "      <td>NaN</td>\n",
       "      <td>8bc2e310ad6bfff</td>\n",
       "      <td>None</td>\n",
       "      <td>None</td>\n",
       "      <td>8bc2e310ad72fff</td>\n",
       "      <td>1</td>\n",
       "      <td>0</td>\n",
       "      <td>0</td>\n",
       "      <td>88c2e310adfffff</td>\n",
       "      <td>88c2e310adfffff</td>\n",
       "    </tr>\n",
       "    <tr>\n",
       "      <th>...</th>\n",
       "      <td>...</td>\n",
       "      <td>...</td>\n",
       "      <td>...</td>\n",
       "      <td>...</td>\n",
       "      <td>...</td>\n",
       "      <td>...</td>\n",
       "      <td>...</td>\n",
       "      <td>...</td>\n",
       "      <td>...</td>\n",
       "      <td>...</td>\n",
       "      <td>...</td>\n",
       "      <td>...</td>\n",
       "      <td>...</td>\n",
       "      <td>...</td>\n",
       "      <td>...</td>\n",
       "      <td>...</td>\n",
       "    </tr>\n",
       "    <tr>\n",
       "      <th>712565</th>\n",
       "      <td>11104546</td>\n",
       "      <td>1</td>\n",
       "      <td>LINEA B</td>\n",
       "      <td>2018-10-10 08:01:08</td>\n",
       "      <td>-34.587198</td>\n",
       "      <td>-58.455029</td>\n",
       "      <td>3.964100e+13</td>\n",
       "      <td>8bc2e310ad46fff</td>\n",
       "      <td>None</td>\n",
       "      <td>None</td>\n",
       "      <td>8bc2e310ad46fff</td>\n",
       "      <td>0</td>\n",
       "      <td>0</td>\n",
       "      <td>0</td>\n",
       "      <td>88c2e310adfffff</td>\n",
       "      <td>88c2e310adfffff</td>\n",
       "    </tr>\n",
       "    <tr>\n",
       "      <th>712857</th>\n",
       "      <td>11226361</td>\n",
       "      <td>0</td>\n",
       "      <td>LINEA B</td>\n",
       "      <td>2018-10-10 12:50:29</td>\n",
       "      <td>-34.587198</td>\n",
       "      <td>-58.455029</td>\n",
       "      <td>1.284600e+13</td>\n",
       "      <td>8bc2e310ad46fff</td>\n",
       "      <td>None</td>\n",
       "      <td>None</td>\n",
       "      <td>8bc2e310ad46fff</td>\n",
       "      <td>0</td>\n",
       "      <td>0</td>\n",
       "      <td>0</td>\n",
       "      <td>88c2e310adfffff</td>\n",
       "      <td>88c2e310adfffff</td>\n",
       "    </tr>\n",
       "    <tr>\n",
       "      <th>712973</th>\n",
       "      <td>11090707</td>\n",
       "      <td>0</td>\n",
       "      <td>LINEA B</td>\n",
       "      <td>2018-10-10 12:48:43</td>\n",
       "      <td>-34.587198</td>\n",
       "      <td>-58.455029</td>\n",
       "      <td>1.210400e+13</td>\n",
       "      <td>8bc2e310ad46fff</td>\n",
       "      <td>None</td>\n",
       "      <td>None</td>\n",
       "      <td>8bc2e310ad46fff</td>\n",
       "      <td>0</td>\n",
       "      <td>0</td>\n",
       "      <td>0</td>\n",
       "      <td>88c2e310adfffff</td>\n",
       "      <td>88c2e310adfffff</td>\n",
       "    </tr>\n",
       "    <tr>\n",
       "      <th>713319</th>\n",
       "      <td>11226477</td>\n",
       "      <td>2</td>\n",
       "      <td>METROVIAS S.A. (URQUIZA)</td>\n",
       "      <td>2018-10-10 16:42:02</td>\n",
       "      <td>-34.585117</td>\n",
       "      <td>-58.455304</td>\n",
       "      <td>NaN</td>\n",
       "      <td>8bc2e310ac44fff</td>\n",
       "      <td>None</td>\n",
       "      <td>None</td>\n",
       "      <td>8bc2e310ad41fff</td>\n",
       "      <td>1</td>\n",
       "      <td>1</td>\n",
       "      <td>0</td>\n",
       "      <td>88c2e310adfffff</td>\n",
       "      <td>88c2e310adfffff</td>\n",
       "    </tr>\n",
       "    <tr>\n",
       "      <th>713369</th>\n",
       "      <td>4741668</td>\n",
       "      <td>5</td>\n",
       "      <td>METROVIAS S.A. (URQUIZA)</td>\n",
       "      <td>2018-10-10 20:53:08</td>\n",
       "      <td>-34.585117</td>\n",
       "      <td>-58.455304</td>\n",
       "      <td>NaN</td>\n",
       "      <td>8bc2e310ac44fff</td>\n",
       "      <td>None</td>\n",
       "      <td>None</td>\n",
       "      <td>8bc2e310ad41fff</td>\n",
       "      <td>2</td>\n",
       "      <td>1</td>\n",
       "      <td>0</td>\n",
       "      <td>88c2e310adfffff</td>\n",
       "      <td>88c2e310adfffff</td>\n",
       "    </tr>\n",
       "  </tbody>\n",
       "</table>\n",
       "<p>3082 rows × 16 columns</p>\n",
       "</div>"
      ],
      "text/plain": [
       "         tarjeta  tramo_id                     linea               fecha  \\\n",
       "281      3191636         3                  LINEA 39 2018-10-10 20:57:16   \n",
       "355      3242717         1  METROVIAS S.A. (URQUIZA) 2018-10-10 17:26:24   \n",
       "383      3264706         2  METROVIAS S.A. (URQUIZA) 2018-10-10 19:54:38   \n",
       "708      3582738         8                  LINEA 47 2018-10-10 16:28:56   \n",
       "776      3653093         1                 LINEA 123 2018-10-10 21:37:14   \n",
       "...          ...       ...                       ...                 ...   \n",
       "712565  11104546         1                   LINEA B 2018-10-10 08:01:08   \n",
       "712857  11226361         0                   LINEA B 2018-10-10 12:50:29   \n",
       "712973  11090707         0                   LINEA B 2018-10-10 12:48:43   \n",
       "713319  11226477         2  METROVIAS S.A. (URQUIZA) 2018-10-10 16:42:02   \n",
       "713369   4741668         5  METROVIAS S.A. (URQUIZA) 2018-10-10 20:53:08   \n",
       "\n",
       "            lat_o      lon_o         delta             h3_o lat_d lon_d  \\\n",
       "281    -34.587710 -58.452590           NaN  8bc2e310ad19fff  None  None   \n",
       "355    -34.585117 -58.455304           NaN  8bc2e310ac44fff  None  None   \n",
       "383    -34.585117 -58.455304           NaN  8bc2e310ac44fff  None  None   \n",
       "708    -34.587440 -58.454150  2.990000e+11  8bc2e310ad54fff  None  None   \n",
       "776    -34.586730 -58.456870           NaN  8bc2e310ad6bfff  None  None   \n",
       "...           ...        ...           ...              ...   ...   ...   \n",
       "712565 -34.587198 -58.455029  3.964100e+13  8bc2e310ad46fff  None  None   \n",
       "712857 -34.587198 -58.455029  1.284600e+13  8bc2e310ad46fff  None  None   \n",
       "712973 -34.587198 -58.455029  1.210400e+13  8bc2e310ad46fff  None  None   \n",
       "713319 -34.585117 -58.455304           NaN  8bc2e310ac44fff  None  None   \n",
       "713369 -34.585117 -58.455304           NaN  8bc2e310ac44fff  None  None   \n",
       "\n",
       "                   h3_d  viaje_id  urquiza  mitre           h3_o_8  \\\n",
       "281     8bc2e310ad46fff         2        0      0  88c2e310adfffff   \n",
       "355     8bc2e310ad41fff         1        1      0  88c2e310adfffff   \n",
       "383     8bc2e310ad41fff         1        1      0  88c2e310adfffff   \n",
       "708     8bc2e310ad56fff         3        0      0  88c2e310adfffff   \n",
       "776     8bc2e310ad72fff         1        0      0  88c2e310adfffff   \n",
       "...                 ...       ...      ...    ...              ...   \n",
       "712565  8bc2e310ad46fff         0        0      0  88c2e310adfffff   \n",
       "712857  8bc2e310ad46fff         0        0      0  88c2e310adfffff   \n",
       "712973  8bc2e310ad46fff         0        0      0  88c2e310adfffff   \n",
       "713319  8bc2e310ad41fff         1        1      0  88c2e310adfffff   \n",
       "713369  8bc2e310ad41fff         2        1      0  88c2e310adfffff   \n",
       "\n",
       "                 h3_d_8  \n",
       "281     88c2e310adfffff  \n",
       "355     88c2e310adfffff  \n",
       "383     88c2e310adfffff  \n",
       "708     88c2e310adfffff  \n",
       "776     88c2e310adfffff  \n",
       "...                 ...  \n",
       "712565  88c2e310adfffff  \n",
       "712857  88c2e310adfffff  \n",
       "712973  88c2e310adfffff  \n",
       "713319  88c2e310adfffff  \n",
       "713369  88c2e310adfffff  \n",
       "\n",
       "[3082 rows x 16 columns]"
      ]
     },
     "execution_count": 121,
     "metadata": {},
     "output_type": "execute_result"
    }
   ],
   "source": [
    "tramos_celda_lacroze_loop = tramos.loc[(tramos.h3_o_8 == '88c2e310adfffff') & (tramos.h3_d_8 == '88c2e310adfffff'),:]\n",
    "tramos_celda_lacroze_loop"
   ]
  },
  {
   "cell_type": "code",
   "execution_count": null,
   "metadata": {},
   "outputs": [],
   "source": []
  }
 ],
 "metadata": {
  "kernelspec": {
   "display_name": "sube_od",
   "language": "python",
   "name": "sube_od"
  },
  "language_info": {
   "codemirror_mode": {
    "name": "ipython",
    "version": 3
   },
   "file_extension": ".py",
   "mimetype": "text/x-python",
   "name": "python",
   "nbconvert_exporter": "python",
   "pygments_lexer": "ipython3",
   "version": "3.7.6"
  }
 },
 "nbformat": 4,
 "nbformat_minor": 4
}
